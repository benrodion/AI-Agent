{
 "cells": [
  {
   "cell_type": "markdown",
   "id": "6a4a4b70",
   "metadata": {},
   "source": [
    "# Demonstration RAG-Eval\n"
   ]
  },
  {
   "cell_type": "code",
   "execution_count": 1,
   "id": "8062792d",
   "metadata": {},
   "outputs": [
    {
     "name": "stderr",
     "output_type": "stream",
     "text": [
      "c:\\Users\\ANDERBE\\AI-Agent-POC-git\\AI-Agent\\.venv\\Lib\\site-packages\\tqdm\\auto.py:21: TqdmWarning: IProgress not found. Please update jupyter and ipywidgets. See https://ipywidgets.readthedocs.io/en/stable/user_install.html\n",
      "  from .autonotebook import tqdm as notebook_tqdm\n"
     ]
    }
   ],
   "source": [
    "from rag_eval.protocol import LLMClient\n",
    "from rag_eval.client import AzureClient\n",
    "from rag_eval.components import ClaimExtractor, EntailmentJudge\n",
    "from rag_eval.data_models import EvalContainer, ClaimVerdict\n",
    "from rag_eval.evaluators import AnswerPrecisionEvaluator, RetrievalPrecisionEvaluator\n",
    "from rag_eval.coordinator import RAGEvaluator\n",
    "from rag_eval.helpers import _safe_json\n",
    "import json\n",
    "from data.rag_eval_samples import test_examples\n",
    "from openai import AzureOpenAI\n",
    "from dotenv import load_dotenv\n",
    "import os"
   ]
  },
  {
   "cell_type": "code",
   "execution_count": 2,
   "id": "d219b999",
   "metadata": {},
   "outputs": [],
   "source": [
    "api_key = os.getenv(\"OPENAI_API_KEY\")\n",
    "api_version = os.getenv(\"OPENAI_API_VERSION\")\n",
    "base_url = os.getenv(\"OPENAI_CHATCOMPLETIONS_URL\")\n",
    "model = os.getenv(\"OPENAI_DEPLOYMENT\")\n",
    "password = os.getenv(\"CORRECT_PASSWORD\")\n",
    "\n",
    "llm = AzureClient(\n",
    "    api_key=api_key,\n",
    "    api_version=api_version,\n",
    "    base_url=base_url,\n",
    "    model=model\n",
    ")\n"
   ]
  },
  {
   "cell_type": "markdown",
   "id": "606f2b49",
   "metadata": {},
   "source": [
    "# Indexing\n",
    "\n",
    "Check if agent module actually works."
   ]
  },
  {
   "cell_type": "code",
   "execution_count": 3,
   "id": "fb42f1f6",
   "metadata": {},
   "outputs": [
    {
     "name": "stderr",
     "output_type": "stream",
     "text": [
      "PromptBuilder has 2 prompt variables, but `required_variables` is not set. By default, all prompt variables are treated as optional, which may lead to unintended behavior in multi-branch pipelines. To avoid unexpected execution, ensure that variables intended to be required are explicitly set in `required_variables`.\n"
     ]
    }
   ],
   "source": [
    "# load agent and pipeline for indexing docs\n",
    "import agent.main as main"
   ]
  },
  {
   "cell_type": "markdown",
   "id": "c4a476f4",
   "metadata": {},
   "source": [
    "### Calculate neighbouring chunks & store in meta"
   ]
  },
  {
   "cell_type": "code",
   "execution_count": 4,
   "id": "dac77410",
   "metadata": {},
   "outputs": [
    {
     "name": "stderr",
     "output_type": "stream",
     "text": [
      "incorrect startxref pointer(1)\n",
      "parsing for Object Streams\n",
      "incorrect startxref pointer(1)\n",
      "parsing for Object Streams\n",
      "incorrect startxref pointer(1)\n",
      "parsing for Object Streams\n",
      "incorrect startxref pointer(1)\n",
      "parsing for Object Streams\n",
      "incorrect startxref pointer(1)\n",
      "parsing for Object Streams\n",
      "incorrect startxref pointer(1)\n",
      "parsing for Object Streams\n",
      "incorrect startxref pointer(1)\n",
      "parsing for Object Streams\n",
      "Batches: 100%|██████████| 2/2 [00:00<00:00,  2.64it/s]"
     ]
    },
    {
     "name": "stdout",
     "output_type": "stream",
     "text": [
      "Stored nn_ids for 51 chunks.\n"
     ]
    },
    {
     "name": "stderr",
     "output_type": "stream",
     "text": [
      "\n"
     ]
    }
   ],
   "source": [
    "from rag.indexing import pdf_files, index_pipeline, document_store, precompute_and_store_neighbors\n",
    "index_pipeline.run({\"converter\": {\"sources\": pdf_files}})\n",
    "\n",
    "# compute neighbours and store info in metadata \n",
    "precompute_and_store_neighbors(m=2)"
   ]
  },
  {
   "cell_type": "markdown",
   "id": "57f65273",
   "metadata": {},
   "source": [
    "## RAG-Loop\n",
    "Loop which passes questions to agent and extracts generated answers alongside retrieved contexts (plain text). Combines them with ground truth and query to form `EvalContainer`-object."
   ]
  },
  {
   "cell_type": "code",
   "execution_count": 5,
   "id": "494b0bd9",
   "metadata": {},
   "outputs": [
    {
     "name": "stdout",
     "output_type": "stream",
     "text": [
      "\n",
      "▶️ Step 1: thinking…\n",
      "TOOL CALL ▶ execute_agentic_rag {\"question\":\"Espresso Preis Anton's Pizza Il sogno de Anton Vergleich\",\"top_k\":6}\n",
      "Invoked agentic RAG!\n"
     ]
    },
    {
     "name": "stderr",
     "output_type": "stream",
     "text": [
      "Batches: 100%|██████████| 1/1 [00:00<00:00, 121.25it/s]\n"
     ]
    },
    {
     "name": "stdout",
     "output_type": "stream",
     "text": [
      "Top K is: 6\n",
      "\n",
      "▶️ Step 2: thinking…\n",
      "\n",
      "✅ Fertig.\n",
      "\n",
      "🧾 FINAL_ANSWER:\n",
      " Für Espresso sind bei Anton's Pizza und Il sogno de Anton keine Preise verfügbar, daher ist ein Preisvergleich nicht möglich.\n",
      "\n",
      "▶️ Step 1: thinking…\n",
      "TOOL CALL ▶ execute_agentic_rag {\"question\":\"Restaurants mit Risotto auf der Speisekarte und deren Preise\",\"top_k\":7}\n",
      "Invoked agentic RAG!\n"
     ]
    },
    {
     "name": "stderr",
     "output_type": "stream",
     "text": [
      "Batches: 100%|██████████| 1/1 [00:00<00:00, 26.54it/s]\n"
     ]
    },
    {
     "name": "stdout",
     "output_type": "stream",
     "text": [
      "Top K is: 7\n",
      "\n",
      "▶️ Step 2: thinking…\n",
      "TOOL CALL ▶ execute_agentic_rag {\"question\":\"Weitere Restaurants mit Risotto, Risotto Preise vergleichen\",\"top_k\":4}\n",
      "Invoked agentic RAG!\n"
     ]
    },
    {
     "name": "stderr",
     "output_type": "stream",
     "text": [
      "Batches: 100%|██████████| 1/1 [00:00<00:00, 16.87it/s]\n"
     ]
    },
    {
     "name": "stdout",
     "output_type": "stream",
     "text": [
      "Top K is: 4\n",
      "\n",
      "▶️ Step 3: thinking…\n",
      "\n",
      "✅ Fertig.\n",
      "\n",
      "🧾 FINAL_ANSWER:\n",
      " Nur Anton's Pizza - Doggish Delights führt Risotto auf der Karte, mit Preisen von 11,50 € (Risotto ai Funghi), 12,00 € (Risotto Primavera) bis 14,00 € (Meeresfrüchte-Risotto). In den anderen verfügbaren Menüs finden sich keine Risotto-Angebote. Der Preisunterschied zwischen dem günstigsten und teuersten Risotto beträgt dort 2,50 €.\n",
      "\n",
      "▶️ Step 1: thinking…\n",
      "TOOL CALL ▶ execute_agentic_rag {\"question\":\"Struktur klassisches französisches Menü Menüfolge und Rolle Wein\",\"top_k\":6}\n",
      "Invoked agentic RAG!\n"
     ]
    },
    {
     "name": "stderr",
     "output_type": "stream",
     "text": [
      "Batches: 100%|██████████| 1/1 [00:00<00:00, 23.10it/s]\n"
     ]
    },
    {
     "name": "stdout",
     "output_type": "stream",
     "text": [
      "Top K is: 6\n",
      "\n",
      "▶️ Step 2: thinking…\n",
      "TOOL CALL ▶ execute_agentic_rag {\"question\":\"italienische Menüfolge klassische Struktur und Weinbegleitung\",\"top_k\":5}\n",
      "Invoked agentic RAG!\n"
     ]
    },
    {
     "name": "stderr",
     "output_type": "stream",
     "text": [
      "Batches: 100%|██████████| 1/1 [00:00<00:00, 21.61it/s]\n"
     ]
    },
    {
     "name": "stdout",
     "output_type": "stream",
     "text": [
      "Top K is: 5\n",
      "\n",
      "▶️ Step 3: thinking…\n",
      "\n",
      "✅ Fertig.\n",
      "\n",
      "🧾 FINAL_ANSWER:\n",
      " Ein klassisches französisches Menü besteht meist aus Aperitif, Vorspeise (Entrée), Hauptgang (Plat principal), Käse, Dessert, Kaffee und Digestif. Wein wird bei jedem Gang gezielt passend zu den Speisen serviert und ist integraler Genussbestandteil. Im Vergleich dazu ist die italienische Menüfolge mit Aperitivo, Antipasto, Primo (Pasta/Risotto), Secondo (Fleisch/Fisch), Contorno (Beilage), Käse, Dessert, Kaffee und Digestivo oft noch vielgliedriger. Auch hier wird jeweils ein typischer, meist regionaler Wein pro Gang ausgewählt, jedoch orientiert sich die Weinauswahl noch stärker an regionalen Spezialitäten (\"what grows together, goes together\"). In beiden Ländern ist Wein ein zentraler Bestandteil des Menüs und der Esskultur, aber während in Frankreich die Harmonie zwischen Wein und Speise besonders kultiviert wird, steht in Italien die regionale Verbindung zwischen Gericht und Wein im Vordergrund.\n",
      "\n",
      "▶️ Step 1: thinking…\n",
      "TOOL CALL ▶ execute_agentic_rag {\"question\":\"UNESCO-Auszeichnungen französische Esskultur und mexikanische Küche, Jahr der Auszeichnung\",\"top_k\":6}\n",
      "Invoked agentic RAG!\n"
     ]
    },
    {
     "name": "stderr",
     "output_type": "stream",
     "text": [
      "Batches: 100%|██████████| 1/1 [00:00<00:00, 23.84it/s]\n"
     ]
    },
    {
     "name": "stdout",
     "output_type": "stream",
     "text": [
      "Top K is: 6\n",
      "\n",
      "▶️ Step 2: thinking…\n",
      "\n",
      "✅ Fertig.\n",
      "\n",
      "🧾 FINAL_ANSWER:\n",
      " Die französische Esskultur („Gastronomische Mahl der Franzosen“) und die mexikanische Küche wurden beide 2010 von der UNESCO als immaterielles Kulturerbe ausgezeichnet.\n",
      "\n",
      "▶️ Step 1: thinking…\n",
      "TOOL CALL ▶ execute_agentic_rag {\"question\":\"Drei Grundpfeiler der mexikanischen 'heiligen Fünf' nennen und ihre Beziehung zu zwei Grundpfeilern der italienischen Küche erklären\",\"top_k\":7}\n",
      "Invoked agentic RAG!\n"
     ]
    },
    {
     "name": "stderr",
     "output_type": "stream",
     "text": [
      "Batches: 100%|██████████| 1/1 [00:00<00:00, 19.47it/s]\n"
     ]
    },
    {
     "name": "stdout",
     "output_type": "stream",
     "text": [
      "Top K is: 7\n",
      "\n",
      "▶️ Step 2: thinking…\n",
      "\n",
      "✅ Fertig.\n",
      "\n",
      "🧾 FINAL_ANSWER:\n",
      " Drei Grundpfeiler der mexikanischen „heiligen Fünf“ sind Mais, Bohnen und Chili. Diese stehen in Beziehung zu zwei Grundpfeilern der italienischen Küche: Weizen/Getreide (für Brot, Pasta, Pizza) und Oliven/Olivenöl. Beide Länderküchen basieren auf einem zentralen pflanzlichen Grundnahrungsmittel (Mais in Mexiko, Weizen in Italien) und einer charakteristischen Zutat (Bohnen vs. Oliven/Öl), die die Geschmacksprofile und das Alltagsessen jeweils prägen.\n",
      "\n",
      "▶️ Step 1: thinking…\n",
      "TOOL CALL ▶ execute_agentic_rag {\"question\":\"Preise Prosecco Il sogno de Anton und französischer Rotwein Chez Anton\",\"top_k\":6}\n",
      "Invoked agentic RAG!\n"
     ]
    },
    {
     "name": "stderr",
     "output_type": "stream",
     "text": [
      "Batches: 100%|██████████| 1/1 [00:00<00:00, 16.32it/s]\n"
     ]
    },
    {
     "name": "stdout",
     "output_type": "stream",
     "text": [
      "Top K is: 6\n",
      "\n",
      "▶️ Step 2: thinking…\n",
      "\n",
      "✅ Fertig.\n",
      "\n",
      "🧾 FINAL_ANSWER:\n",
      " Für Prosecco bei „Il sogno de Anton“ und französischen Rotwein bei „Chez Anton“ sind leider keine Preise verfügbar; die Menüs listen nur Speisenpreise, keine Getränke.\n",
      "\n",
      "▶️ Step 1: thinking…\n",
      "TOOL CALL ▶ execute_agentic_rag {\"question\":\"Taco-Varianten Tönis Tacos und Grundelement mexikanische Küche\",\"top_k\":6}\n",
      "Invoked agentic RAG!\n"
     ]
    },
    {
     "name": "stderr",
     "output_type": "stream",
     "text": [
      "Batches: 100%|██████████| 1/1 [00:00<00:00, 13.54it/s]\n"
     ]
    },
    {
     "name": "stdout",
     "output_type": "stream",
     "text": [
      "Top K is: 6\n",
      "\n",
      "▶️ Step 2: thinking…\n",
      "\n",
      "✅ Fertig.\n",
      "\n",
      "🧾 FINAL_ANSWER:\n",
      " Tönis Tacos bietet folgende Taco-Varianten an: Carne Asada Taco (Rindfleisch, Zwiebeln, Koriander), Pollo Taco (gegrilltes Hähnchen, Pico de Gallo), Veggie Taco (gegrilltes Gemüse, Avocado) und Fish Taco (gebratener Fisch, Krautsalat). Das Grundelement, das laut Beschreibung in allen steckt, ist die traditionelle Nutzung von Mais-Tortillas.\n",
      "\n",
      "▶️ Step 1: thinking…\n",
      "TOOL CALL ▶ execute_agentic_rag {\"question\":\"typische italienische Desserts laut Küchenbeschreibung und Dessertkarte Il sogno de Anton\",\"top_k\":7}\n",
      "Invoked agentic RAG!\n"
     ]
    },
    {
     "name": "stderr",
     "output_type": "stream",
     "text": [
      "Batches: 100%|██████████| 1/1 [00:00<00:00, 19.16it/s]\n"
     ]
    },
    {
     "name": "stdout",
     "output_type": "stream",
     "text": [
      "Top K is: 7\n",
      "\n",
      "▶️ Step 2: thinking…\n",
      "TOOL CALL ▶ execute_agentic_rag {\"question\":\"Dessertkarte Il sogno de Anton – werden Tiramisu und Panna Cotta angeboten?\",\"top_k\":4}\n",
      "Invoked agentic RAG!\n"
     ]
    },
    {
     "name": "stderr",
     "output_type": "stream",
     "text": [
      "Batches: 100%|██████████| 1/1 [00:00<00:00, 16.83it/s]\n"
     ]
    },
    {
     "name": "stdout",
     "output_type": "stream",
     "text": [
      "Top K is: 4\n",
      "\n",
      "▶️ Step 3: thinking…\n",
      "\n",
      "✅ Fertig.\n",
      "\n",
      "🧾 FINAL_ANSWER:\n",
      " Die zwei typischen italienischen Desserts laut Küchenbeschreibung sind Tiramisu und Panna Cotta – beide findest du auf der Karte von Il sogno de Anton.\n",
      "\n",
      "▶️ Step 1: thinking…\n",
      "TOOL CALL ▶ execute_agentic_rag {\"question\":\"Cocktail Klassiker laut Cocktail-Dokument\",\"top_k\":5}\n",
      "Invoked agentic RAG!\n"
     ]
    },
    {
     "name": "stderr",
     "output_type": "stream",
     "text": [
      "Batches: 100%|██████████| 1/1 [00:00<00:00, 17.87it/s]\n"
     ]
    },
    {
     "name": "stdout",
     "output_type": "stream",
     "text": [
      "Top K is: 5\n",
      "\n",
      "▶️ Step 2: thinking…\n",
      "TOOL CALL ▶ execute_agentic_rag {\"question\":\"Restaurantkarte Cocktail Mojito Margarita Negroni Martini Manhattan Gin Tonic Caipirinha mit Preis\",\"top_k\":10}\n",
      "Invoked agentic RAG!\n"
     ]
    },
    {
     "name": "stderr",
     "output_type": "stream",
     "text": [
      "Batches: 100%|██████████| 1/1 [00:00<00:00, 26.97it/s]\n"
     ]
    },
    {
     "name": "stdout",
     "output_type": "stream",
     "text": [
      "Top K is: 10\n",
      "\n",
      "▶️ Step 3: thinking…\n",
      "\n",
      "✅ Fertig.\n",
      "\n",
      "🧾 FINAL_ANSWER:\n",
      " Ein klassischer Cocktail laut Cocktail-Dokument ist z. B. die Margarita. Das Restaurant \"Tönis Tacos\" verkauft eine klassische Margarita auf der Karte für 7,00 €.\n",
      "\n",
      "▶️ Step 1: thinking…\n",
      "TOOL CALL ▶ execute_agentic_rag {\"question\":\"Bedeutung des Espressos in der italienischen Kultur\",\"top_k\":5}\n",
      "Invoked agentic RAG!\n"
     ]
    },
    {
     "name": "stderr",
     "output_type": "stream",
     "text": [
      "Batches: 100%|██████████| 1/1 [00:00<00:00, 20.24it/s]\n"
     ]
    },
    {
     "name": "stdout",
     "output_type": "stream",
     "text": [
      "Top K is: 5\n",
      "\n",
      "▶️ Step 2: thinking…\n",
      "TOOL CALL ▶ execute_agentic_rag {\"question\":\"Espresso auf Restaurantkarten mit Preisangabe\",\"top_k\":10}\n",
      "Invoked agentic RAG!\n"
     ]
    },
    {
     "name": "stderr",
     "output_type": "stream",
     "text": [
      "Batches: 100%|██████████| 1/1 [00:00<00:00, 289.44it/s]\n"
     ]
    },
    {
     "name": "stdout",
     "output_type": "stream",
     "text": [
      "Top K is: 10\n",
      "\n",
      "▶️ Step 3: thinking…\n",
      "TOOL CALL ▶ execute_agentic_rag {\"question\":\"Andere Restaurantkarten Kaffee oder Espresso Preis\",\"top_k\":10}\n",
      "Invoked agentic RAG!\n"
     ]
    },
    {
     "name": "stderr",
     "output_type": "stream",
     "text": [
      "Batches: 100%|██████████| 1/1 [00:00<00:00, 26.53it/s]\n"
     ]
    },
    {
     "name": "stdout",
     "output_type": "stream",
     "text": [
      "Top K is: 10\n",
      "\n",
      "▶️ Step 4: thinking…\n",
      "\n",
      "✅ Fertig.\n",
      "\n",
      "🧾 FINAL_ANSWER:\n",
      " In der italienischen Kultur steht der Espresso für Genuss, Geselligkeit und die Freude am Leben – er wird meist nach dem Essen getrunken und symbolisiert Lebensart und Qualitätssinn. Espresso findet sich auf allen drei gesichteten Restaurantkarten: Bei Tönis Tacos (2,00 €), Chez Anton – Délices Canins (Espresso del Cane, 3,50 €) und Anton’s Pizza – Doggish Delights (2,00 €), jeweils mit Preisangabe.\n",
      "\n",
      "▶️ Step 1: thinking…\n",
      "TOOL CALL ▶ execute_agentic_rag {\"question\":\"Führen Anton's Pizza und Chez Anton Cappuccino? Preise herausfinden.\",\"top_k\":6}\n",
      "Invoked agentic RAG!\n"
     ]
    },
    {
     "name": "stderr",
     "output_type": "stream",
     "text": [
      "Batches: 100%|██████████| 1/1 [00:00<00:00, 22.42it/s]\n"
     ]
    },
    {
     "name": "stdout",
     "output_type": "stream",
     "text": [
      "Top K is: 6\n",
      "\n",
      "▶️ Step 2: thinking…\n",
      "\n",
      "✅ Fertig.\n",
      "\n",
      "🧾 FINAL_ANSWER:\n",
      " Weder Anton's Pizza noch Chez Anton führen laut Speisekarte Cappuccino, daher gibt es dafür auch keinen Preis.\n",
      "\n",
      "▶️ Step 1: thinking…\n",
      "TOOL CALL ▶ execute_agentic_rag {\"question\":\"Mineralwasser Preise und Gebinde bei Anton's Pizza, Chez Anton und Il sogno de Anton\",\"top_k\":6}\n",
      "Invoked agentic RAG!\n"
     ]
    },
    {
     "name": "stderr",
     "output_type": "stream",
     "text": [
      "Batches: 100%|██████████| 1/1 [00:00<00:00, 18.32it/s]\n"
     ]
    },
    {
     "name": "stdout",
     "output_type": "stream",
     "text": [
      "Top K is: 6\n",
      "\n",
      "▶️ Step 2: thinking…\n",
      "\n",
      "✅ Fertig.\n",
      "\n",
      "🧾 FINAL_ANSWER:\n",
      " Bei Anton's Pizza kostet Mineralwasser (0,75 l) 5,00 €; außerdem gibt es Mineralwasser auch als 0,5 l-Gebinde (Preis nicht klar). Für Chez Anton und Il sogno de Anton liegen aktuell keine Angaben zu Mineralwasser-Preisen oder -Gebinden vor.\n",
      "\n",
      "▶️ Step 1: thinking…\n",
      "TOOL CALL ▶ execute_agentic_rag {\"question\":\"Rindfleisch Hauptgericht Chez Anton\",\"top_k\":5}\n",
      "Invoked agentic RAG!\n"
     ]
    },
    {
     "name": "stderr",
     "output_type": "stream",
     "text": [
      "Batches: 100%|██████████| 1/1 [00:00<00:00, 19.33it/s]\n"
     ]
    },
    {
     "name": "stdout",
     "output_type": "stream",
     "text": [
      "Top K is: 5\n",
      "\n",
      "▶️ Step 2: thinking…\n",
      "TOOL CALL ▶ execute_agentic_rag {\"question\":\"Rindfleisch Hauptgericht Il sogno de Anton\",\"top_k\":5}\n",
      "Invoked agentic RAG!\n"
     ]
    },
    {
     "name": "stderr",
     "output_type": "stream",
     "text": [
      "Batches: 100%|██████████| 1/1 [00:00<00:00, 32.45it/s]\n"
     ]
    },
    {
     "name": "stdout",
     "output_type": "stream",
     "text": [
      "Top K is: 5\n",
      "\n",
      "▶️ Step 3: thinking…\n",
      "\n",
      "✅ Fertig.\n",
      "\n",
      "🧾 FINAL_ANSWER:\n",
      " Bei Chez Anton gibt es als Rindfleisch-Hauptgericht das \"Boeuf Bourguignon du Chien\" für 14,50 €, bei Il sogno de Anton das \"al Barolo del Cane\" (Rinderfilet mit Barolo-Wein) für 38,00 €. Das Gericht bei Il sogno de Anton ist also deutlich teurer.\n",
      "\n",
      "▶️ Step 1: thinking…\n",
      "TOOL CALL ▶ execute_agentic_rag {\"question\":\"EU-Bezug zu Italien und Frankreich in der Gastronomie oder Esskultur\",\"top_k\":5}\n",
      "Invoked agentic RAG!\n"
     ]
    },
    {
     "name": "stderr",
     "output_type": "stream",
     "text": [
      "Batches: 100%|██████████| 1/1 [00:00<00:00, 23.91it/s]\n"
     ]
    },
    {
     "name": "stdout",
     "output_type": "stream",
     "text": [
      "Top K is: 5\n",
      "\n",
      "▶️ Step 2: thinking…\n",
      "\n",
      "✅ Fertig.\n",
      "\n",
      "🧾 FINAL_ANSWER:\n",
      " Italien und Frankreich sind beide Gründungsmitglieder der EU und prägen Europas Gastronomie maßgeblich. Sie stehen für regionale Spezialitäten, geschützte Herkunftsbezeichnungen (wie Champagner oder Parmigiano Reggiano) und setzen EU-weite Standards für Qualität, Nachhaltigkeit sowie kulinarische Tradition. Die EU schützt und fördert die kulinarischen Identitäten beider Länder durch Herkunftssiegel und politische Initiativen.\n",
      "\n",
      "▶️ Step 1: thinking…\n",
      "TOOL CALL ▶ execute_agentic_rag {\"question\":\"regionale kulinarische Schwerpunkte Provence Frankreich und Norditalien\",\"top_k\":6}\n",
      "Invoked agentic RAG!\n"
     ]
    },
    {
     "name": "stderr",
     "output_type": "stream",
     "text": [
      "Batches: 100%|██████████| 1/1 [00:00<00:00, 16.15it/s]\n"
     ]
    },
    {
     "name": "stdout",
     "output_type": "stream",
     "text": [
      "Top K is: 6\n",
      "\n",
      "▶️ Step 2: thinking…\n",
      "\n",
      "✅ Fertig.\n",
      "\n",
      "🧾 FINAL_ANSWER:\n",
      " Die Provence (Frankreich) ist bekannt für mediterrane, leichte Küche mit viel Olivenöl, Knoblauch, Kräutern der Provence, Gemüse (wie Auberginen, Tomaten), Fisch (z.B. Bouillabaisse), sowie Roséwein. Norditalien dagegen setzt Schwerpunkte bei Butter, Reis (Risotto), Polenta, Trüffel, Rindfleisch, Käse (Gorgonzola), gefüllte Pasta, und kräftigen Rotweinen – die Küche ist herzhafter und sahniger als in der Provence.\n",
      "\n",
      "▶️ Step 1: thinking…\n",
      "TOOL CALL ▶ execute_agentic_rag {\"question\":\"UNESCO Auszeichnung französische und mexikanische Küche 2010 Unterschied Art der Würdigung\",\"top_k\":6}\n",
      "Invoked agentic RAG!\n"
     ]
    },
    {
     "name": "stderr",
     "output_type": "stream",
     "text": [
      "Batches: 100%|██████████| 1/1 [00:00<00:00, 36.25it/s]\n"
     ]
    },
    {
     "name": "stdout",
     "output_type": "stream",
     "text": [
      "Top K is: 6\n",
      "\n",
      "▶️ Step 2: thinking…\n",
      "\n",
      "✅ Fertig.\n",
      "\n",
      "🧾 FINAL_ANSWER:\n",
      " 2010 wurden von der UNESCO die mexikanische Küche als kulinarische Tradition insgesamt sowie das „gastronomische Mahl der Franzosen“ speziell für dessen gesellschaftlich-rituelle Struktur als immaterielles Weltkulturerbe gewürdigt. Beide Auszeichnungen erfolgten im selben Jahr, jedoch liegt der Unterschied darin, dass die mexikanische Küche als Ganzes (inkl. Zutaten, Techniken, Geschichte) geehrt wurde, während bei Frankreich explizit das feierliche, mehrgängige Mahl und seine sozialen Rituale ausgezeichnet wurden.\n",
      "\n",
      "▶️ Step 1: thinking…\n",
      "TOOL CALL ▶ execute_agentic_rag {\"question\":\"Vegetarische Gerichte und Preise aus verschiedenen Restaurantkarten\",\"top_k\":8}\n",
      "Invoked agentic RAG!\n"
     ]
    },
    {
     "name": "stderr",
     "output_type": "stream",
     "text": [
      "Batches: 100%|██████████| 1/1 [00:00<00:00, 31.37it/s]\n"
     ]
    },
    {
     "name": "stdout",
     "output_type": "stream",
     "text": [
      "Top K is: 8\n",
      "\n",
      "▶️ Step 2: thinking…\n",
      "\n",
      "✅ Fertig.\n",
      "\n",
      "🧾 FINAL_ANSWER:\n",
      " Ein Beispiel von Chez Anton – Délices Canins: Salade du Chien Heureux (gemischter Salat) für 6,00 €, von Anton’s Pizza – Doggish Delights: Pizza Margherita (Tomate, Mozzarella, Basilikum) für 8,50 €, und Tagliatelle mit Pesto und Pinienkernen für 10,00 €.\n",
      "\n",
      "▶️ Step 1: thinking…\n",
      "TOOL CALL ▶ execute_agentic_rag {\"question\":\"Welcher Wein wird in italienischen Gerichten ausdrücklich genannt?\",\"top_k\":6}\n",
      "Invoked agentic RAG!\n"
     ]
    },
    {
     "name": "stderr",
     "output_type": "stream",
     "text": [
      "Batches: 100%|██████████| 1/1 [00:00<00:00, 18.52it/s]\n"
     ]
    },
    {
     "name": "stdout",
     "output_type": "stream",
     "text": [
      "Top K is: 6\n",
      "\n",
      "▶️ Step 2: thinking…\n",
      "TOOL CALL ▶ execute_agentic_rag {\"question\":\"französische Weinregionen als Referenz zur italienischen Küche\",\"top_k\":6}\n",
      "Invoked agentic RAG!\n"
     ]
    },
    {
     "name": "stderr",
     "output_type": "stream",
     "text": [
      "Batches: 100%|██████████| 1/1 [00:00<00:00, 18.49it/s]\n"
     ]
    },
    {
     "name": "stdout",
     "output_type": "stream",
     "text": [
      "Top K is: 6\n",
      "\n",
      "▶️ Step 3: thinking…\n",
      "TOOL CALL ▶ execute_agentic_rag {\"question\":\"Beispiele für italienische Gerichte mit explizit genanntem Wein\",\"top_k\":8}\n",
      "Invoked agentic RAG!\n"
     ]
    },
    {
     "name": "stderr",
     "output_type": "stream",
     "text": [
      "Batches: 100%|██████████| 1/1 [00:00<00:00, 26.30it/s]\n"
     ]
    },
    {
     "name": "stdout",
     "output_type": "stream",
     "text": [
      "Top K is: 8\n",
      "\n",
      "▶️ Step 4: thinking…\n",
      "\n",
      "✅ Fertig.\n",
      "\n",
      "🧾 FINAL_ANSWER:\n",
      " In italienischen Gerichten wird zum Beispiel der Wein Barolo explizit genannt, etwa bei \"Brasato al Barolo\", einem geschmorten Rindfleisch aus dem Piemont. Dies spiegelt die enge Verbindung von regionaler Küche und lokalen Weinen wider, ähnlich wie in Frankreich, wo Weinregionen wie Burgund oder Bordeaux als kulinarische Referenz dienen und bestimmte Gerichte fest mit regionalen Weinen verknüpft sind.\n",
      "\n",
      "▶️ Step 1: thinking…\n",
      "TOOL CALL ▶ execute_agentic_rag {\"question\":\"Kaffeevarianten, Heißgetränke, Preise auf allen Restaurantkarten\",\"top_k\":8}\n",
      "Invoked agentic RAG!\n"
     ]
    },
    {
     "name": "stderr",
     "output_type": "stream",
     "text": [
      "Batches: 100%|██████████| 1/1 [00:00<00:00, 17.30it/s]\n"
     ]
    },
    {
     "name": "stdout",
     "output_type": "stream",
     "text": [
      "Top K is: 8\n",
      "\n",
      "▶️ Step 2: thinking…\n",
      "\n",
      "✅ Fertig.\n",
      "\n",
      "🧾 FINAL_ANSWER:\n",
      " Auf den verfügbaren Restaurantkarten finden sich keine Heißgetränke oder Kaffeevarianten; üblicherweise enthalten solche Karten Espresso, Cappuccino, Café Crème und Tee mit landesüblichen Preisen von ca. 1,50 € bis 4,00 €, aber konkrete Angaben oder Preisunterschiede liegen in den gesammelten Menüs nicht vor.\n",
      "\n",
      "▶️ Step 1: thinking…\n",
      "TOOL CALL ▶ execute_agentic_rag {\"question\":\"traditionelle französische Gemüsespeise im Land Frankreich und auf Menükarte mit Preis\",\"top_k\":7}\n",
      "Invoked agentic RAG!\n"
     ]
    },
    {
     "name": "stderr",
     "output_type": "stream",
     "text": [
      "Batches: 100%|██████████| 1/1 [00:00<00:00, 14.53it/s]\n"
     ]
    },
    {
     "name": "stdout",
     "output_type": "stream",
     "text": [
      "Top K is: 7\n",
      "\n",
      "▶️ Step 2: thinking…\n",
      "\n",
      "✅ Fertig.\n",
      "\n",
      "🧾 FINAL_ANSWER:\n",
      " Die traditionelle französische Gemüsespeise ist das Ratatouille; sie wird im Länderdokument beschrieben und auf der Menükarte meist als „Ratatouille maison“ angeboten, typischer Preis: 13,50 €.\n",
      "\n",
      "▶️ Step 1: thinking…\n",
      "TOOL CALL ▶ execute_agentic_rag {\"question\":\"Panna Cotta italienisches Küchenporträt und Il sogno de Anton Speisekarte Preis\",\"top_k\":6}\n",
      "Invoked agentic RAG!\n"
     ]
    },
    {
     "name": "stderr",
     "output_type": "stream",
     "text": [
      "Batches: 100%|██████████| 1/1 [00:00<00:00, 22.35it/s]\n"
     ]
    },
    {
     "name": "stdout",
     "output_type": "stream",
     "text": [
      "Top K is: 6\n",
      "\n",
      "▶️ Step 2: thinking…\n",
      "\n",
      "✅ Fertig.\n",
      "\n",
      "🧾 FINAL_ANSWER:\n",
      " Panna Cotta ist im italienischen Küchenporträt als klassisches Dessert erwähnt. Auf der Karte von Il sogno de Anton gibt es keine konkrete Preisangabe, aber in guten italienischen Restaurants kostet sie meist ca. 5–8 Euro pro Portion.\n",
      "\n",
      "▶️ Step 1: thinking…\n",
      "TOOL CALL ▶ execute_agentic_rag {\"question\":\"Pizza-Variante Anton's Pizza Einfachheit Herkunft Küchenporträt\",\"top_k\":5}\n",
      "Invoked agentic RAG!\n"
     ]
    },
    {
     "name": "stderr",
     "output_type": "stream",
     "text": [
      "Batches: 100%|██████████| 1/1 [00:00<00:00, 19.18it/s]\n"
     ]
    },
    {
     "name": "stdout",
     "output_type": "stream",
     "text": [
      "Top K is: 5\n",
      "\n",
      "▶️ Step 2: thinking…\n",
      "\n",
      "✅ Fertig.\n",
      "\n",
      "🧾 FINAL_ANSWER:\n",
      " Die Pizza Margherita bei Anton's Pizza (Tomate, Mozzarella, Basilikum) illustriert am besten die im Küchenporträt beschriebene Einfachheit und Herkunft der Pizza, da sie nur wenige Zutaten verwendet und auf die neapolitanische Original-Pizza zurückgeht.\n",
      "\n",
      "▶️ Step 1: thinking…\n",
      "TOOL CALL ▶ execute_agentic_rag {\"question\":\"typisch mexikanische Getränke bei Tönis Tacos mit Preisen\",\"top_k\":7}\n",
      "Invoked agentic RAG!\n"
     ]
    },
    {
     "name": "stderr",
     "output_type": "stream",
     "text": [
      "Batches: 100%|██████████| 1/1 [00:00<00:00, 61.41it/s]\n"
     ]
    },
    {
     "name": "stdout",
     "output_type": "stream",
     "text": [
      "Top K is: 7\n",
      "\n",
      "▶️ Step 2: thinking…\n",
      "\n",
      "✅ Fertig.\n",
      "\n",
      "🧾 FINAL_ANSWER:\n",
      " Typisch mexikanische Getränke bei Tönis Tacos sind Agua Fresca (3,00 €), Mexikanisches Bier (0,33 l, 4,00 €), Margarita (7,00 €), Horchata (3,50 €) und Café de Olla (3,00 €).\n",
      "\n",
      "▶️ Step 1: thinking…\n",
      "TOOL CALL ▶ execute_agentic_rag {\"question\":\"zwei taco sorten von der speisekarte mit gemeinsamer zutatenbasis laut küchenbeschreibung\",\"top_k\":7}\n",
      "Invoked agentic RAG!\n"
     ]
    },
    {
     "name": "stderr",
     "output_type": "stream",
     "text": [
      "Batches: 100%|██████████| 1/1 [00:00<00:00, 27.83it/s]\n"
     ]
    },
    {
     "name": "stdout",
     "output_type": "stream",
     "text": [
      "Top K is: 7\n",
      "\n",
      "▶️ Step 2: thinking…\n",
      "\n",
      "✅ Fertig.\n",
      "\n",
      "🧾 FINAL_ANSWER:\n",
      " Zwei Taco-Sorten von der Karte sind Taco al Pastor und Taco de Carnitas. Laut Küchenbeschreibung teilen beide als Grundelement eine Mais-Tortilla und Schweinefleisch sowie frische Zwiebeln und Koriander.\n",
      "\n",
      "▶️ Step 1: thinking…\n",
      "TOOL CALL ▶ execute_agentic_rag {\"question\":\"Suppe Chez Anton Menü\",\"top_k\":5}\n",
      "Invoked agentic RAG!\n"
     ]
    },
    {
     "name": "stderr",
     "output_type": "stream",
     "text": [
      "Batches: 100%|██████████| 1/1 [00:00<00:00, 26.29it/s]\n"
     ]
    },
    {
     "name": "stdout",
     "output_type": "stream",
     "text": [
      "Top K is: 5\n",
      "\n",
      "▶️ Step 2: thinking…\n",
      "TOOL CALL ▶ execute_agentic_rag {\"question\":\"italienisches Küchenkapitel Arme-Leute-Suppen Beispiele\",\"top_k\":5}\n",
      "Invoked agentic RAG!\n"
     ]
    },
    {
     "name": "stderr",
     "output_type": "stream",
     "text": [
      "Batches: 100%|██████████| 1/1 [00:00<00:00, 20.07it/s]\n"
     ]
    },
    {
     "name": "stdout",
     "output_type": "stream",
     "text": [
      "Top K is: 5\n",
      "\n",
      "▶️ Step 3: thinking…\n",
      "TOOL CALL ▶ execute_agentic_rag {\"question\":\"Zutaten und Stil der 'Soupe du Terrier' bei Chez Anton\",\"top_k\":3}\n",
      "Invoked agentic RAG!\n"
     ]
    },
    {
     "name": "stderr",
     "output_type": "stream",
     "text": [
      "Batches: 100%|██████████| 1/1 [00:00<00:00, 19.95it/s]\n"
     ]
    },
    {
     "name": "stdout",
     "output_type": "stream",
     "text": [
      "Top K is: 3\n",
      "\n",
      "▶️ Step 4: thinking…\n",
      "TOOL CALL ▶ execute_agentic_rag {\"question\":\"Vergleich klassisch französische Gemüsesuppe und italienische cucina povera Suppen Prinzip\",\"top_k\":3}\n",
      "Invoked agentic RAG!\n"
     ]
    },
    {
     "name": "stderr",
     "output_type": "stream",
     "text": [
      "Batches: 100%|██████████| 1/1 [00:00<00:00, 19.85it/s]\n"
     ]
    },
    {
     "name": "stdout",
     "output_type": "stream",
     "text": [
      "Top K is: 3\n",
      "\n",
      "▶️ Step 5: thinking…\n",
      "\n",
      "✅ Fertig.\n",
      "\n",
      "🧾 FINAL_ANSWER:\n",
      " Die „Soupe du Terrier“ bei Chez Anton (hausgemachte Gemüsesuppe) lässt sich am ehesten mit dem italienischen Arme-Leute-Suppenprinzip („cucina povera“) wie bei Minestrone, Ribollita oder Acquacotta vergleichen: Sie basiert offenbar auf einfachen, frischen Gemüsen und Zutaten des Alltags – genau im Sinne der italienischen Tradition, aus wenigen günstigen Grundzutaten eine nahrhafte, schmackhafte Suppe zu machen.\n",
      "\n",
      "▶️ Step 1: thinking…\n",
      "TOOL CALL ▶ execute_agentic_rag {\"question\":\"Welcher Cocktail ist typisch für Italien und welche kulturellen Informationen verbinden ihn mit dem Land?\",\"top_k\":6}\n",
      "Invoked agentic RAG!\n"
     ]
    },
    {
     "name": "stderr",
     "output_type": "stream",
     "text": [
      "Batches: 100%|██████████| 1/1 [00:00<00:00, 19.42it/s]\n"
     ]
    },
    {
     "name": "stdout",
     "output_type": "stream",
     "text": [
      "Top K is: 6\n",
      "\n",
      "▶️ Step 2: thinking…\n",
      "\n",
      "✅ Fertig.\n",
      "\n",
      "🧾 FINAL_ANSWER:\n",
      " Der Negroni ist der Cocktail, der am stärksten mit Italien verbunden wird. Er wurde 1919 in Florenz erfunden und besteht aus Gin, rotem Wermut und Campari. Der Negroni steht für italienische Werte wie Stilbewusstsein, Genuss und Einfachheit und symbolisiert das kultivierte Barleben Italiens – Aspekte, die eng mit Italiens Kultur und Lebensart, dem berühmten „Dolce Vita“, verbunden sind.\n",
      "\n",
      "▶️ Step 1: thinking…\n",
      "TOOL CALL ▶ execute_agentic_rag {\"question\":\"Klassikerliste der Cocktailkultur und alkoholische Getränke bei Tönis Tacos mit Preisen\",\"top_k\":7}\n",
      "Invoked agentic RAG!\n"
     ]
    },
    {
     "name": "stderr",
     "output_type": "stream",
     "text": [
      "Batches: 100%|██████████| 1/1 [00:00<00:00, 16.01it/s]\n"
     ]
    },
    {
     "name": "stdout",
     "output_type": "stream",
     "text": [
      "Top K is: 7\n",
      "\n",
      "▶️ Step 2: thinking…\n",
      "\n",
      "✅ Fertig.\n",
      "\n",
      "🧾 FINAL_ANSWER:\n",
      " Zu den internationalen Klassikern der Cocktailkultur zählen Martini, Manhattan, Margarita, Daiquiri, Negroni, Caipirinha, Mojito und Gin Tonic. Bei Tönis Tacos ist zwar im verfügbaren Menü keine alkoholführende Getränkekarte mit Preisen aufgeführt, aber Margarita als Cocktail-Klassiker könnte in einem mexikanischen Lokal dazugehören. Preise für alkoholische Getränke sind jedoch nicht im vorliegenden Angebot enthalten.\n",
      "\n",
      "▶️ Step 1: thinking…\n",
      "TOOL CALL ▶ execute_agentic_rag {\"question\":\"Welcher Käse ist zentral für eine italienische Vorspeise und wird auch als wichtiger italienischer Käse im Küchenporträt genannt?\",\"top_k\":5}\n",
      "Invoked agentic RAG!\n"
     ]
    },
    {
     "name": "stderr",
     "output_type": "stream",
     "text": [
      "Batches: 100%|██████████| 1/1 [00:00<00:00, 27.87it/s]\n"
     ]
    },
    {
     "name": "stdout",
     "output_type": "stream",
     "text": [
      "Top K is: 5\n",
      "\n",
      "▶️ Step 2: thinking…\n",
      "TOOL CALL ▶ execute_agentic_rag {\"question\":\"Mozzarella italienische Vorspeise und Küchenporträt\",\"top_k\":3}\n",
      "Invoked agentic RAG!\n"
     ]
    },
    {
     "name": "stderr",
     "output_type": "stream",
     "text": [
      "Batches: 100%|██████████| 1/1 [00:00<00:00, 64.47it/s]\n"
     ]
    },
    {
     "name": "stdout",
     "output_type": "stream",
     "text": [
      "Top K is: 3\n",
      "\n",
      "▶️ Step 3: thinking…\n",
      "\n",
      "✅ Fertig.\n",
      "\n",
      "🧾 FINAL_ANSWER:\n",
      " Mozzarella ist das zentrale Käseprodukt für eine italienische Vorspeise auf der Karte (z. B. Insalata Caprese) und wird im italienischen Küchenporträt ebenfalls als wichtiger italienischer Käse hervorgehoben.\n",
      "\n",
      "▶️ Step 1: thinking…\n",
      "TOOL CALL ▶ execute_agentic_rag {\"question\":\"Französische Desserts auf Speisekarten mit Preisangaben\",\"top_k\":5}\n",
      "Invoked agentic RAG!\n"
     ]
    },
    {
     "name": "stderr",
     "output_type": "stream",
     "text": [
      "Batches: 100%|██████████| 1/1 [00:00<00:00, 21.63it/s]\n"
     ]
    },
    {
     "name": "stdout",
     "output_type": "stream",
     "text": [
      "Top K is: 5\n",
      "\n",
      "▶️ Step 2: thinking…\n",
      "TOOL CALL ▶ execute_agentic_rag {\"question\":\"Italienische Desserts auf Speisekarten mit Preisangaben\",\"top_k\":5}\n",
      "Invoked agentic RAG!\n"
     ]
    },
    {
     "name": "stderr",
     "output_type": "stream",
     "text": [
      "Batches: 100%|██████████| 1/1 [00:00<00:00, 18.34it/s]\n"
     ]
    },
    {
     "name": "stdout",
     "output_type": "stream",
     "text": [
      "Top K is: 5\n",
      "\n",
      "▶️ Step 3: thinking…\n",
      "TOOL CALL ▶ execute_agentic_rag {\"question\":\"klassische französische Desserts mit Preis auf typischen Restaurantkarten\",\"top_k\":7}\n",
      "Invoked agentic RAG!\n"
     ]
    },
    {
     "name": "stderr",
     "output_type": "stream",
     "text": [
      "Batches: 100%|██████████| 1/1 [00:00<00:00, 279.51it/s]\n"
     ]
    },
    {
     "name": "stdout",
     "output_type": "stream",
     "text": [
      "Top K is: 7\n",
      "\n",
      "▶️ Step 4: thinking…\n",
      "TOOL CALL ▶ execute_agentic_rag {\"question\":\"italienisches Dessert mit konkretem Preis auf Restaurantkarte\",\"top_k\":7}\n",
      "Invoked agentic RAG!\n"
     ]
    },
    {
     "name": "stderr",
     "output_type": "stream",
     "text": [
      "Batches: 100%|██████████| 1/1 [00:00<00:00, 21.55it/s]\n"
     ]
    },
    {
     "name": "stdout",
     "output_type": "stream",
     "text": [
      "Top K is: 7\n",
      "\n",
      "▶️ Step 5: thinking…\n",
      "\n",
      "✅ Fertig.\n",
      "\n",
      "🧾 FINAL_ANSWER:\n",
      " Ein klassisches französisches Dessert auf der Karte ist Crème Brûlée für 7,00 €, ein typisch italienisches Dessert ist Tiramisu, das meist zwischen 5,50 € und 7,00 € kostet.\n",
      "\n",
      "▶️ Step 1: thinking…\n",
      "TOOL CALL ▶ execute_agentic_rag {\"question\":\"Charakterisierung Risotto als norditalienische Spezialität\",\"top_k\":4}\n",
      "Invoked agentic RAG!\n"
     ]
    },
    {
     "name": "stderr",
     "output_type": "stream",
     "text": [
      "Batches: 100%|██████████| 1/1 [00:00<00:00, 27.70it/s]\n"
     ]
    },
    {
     "name": "stdout",
     "output_type": "stream",
     "text": [
      "Top K is: 4\n",
      "\n",
      "▶️ Step 2: thinking…\n",
      "TOOL CALL ▶ execute_agentic_rag {\"question\":\"Risotto Gerichte und Preise in italienischen Restaurantmenüs\",\"top_k\":7}\n",
      "Invoked agentic RAG!\n"
     ]
    },
    {
     "name": "stderr",
     "output_type": "stream",
     "text": [
      "Batches: 100%|██████████| 1/1 [00:00<00:00, 24.45it/s]\n"
     ]
    },
    {
     "name": "stdout",
     "output_type": "stream",
     "text": [
      "Top K is: 7\n",
      "\n",
      "▶️ Step 3: thinking…\n",
      "TOOL CALL ▶ execute_agentic_rag {\"question\":\"Risotto Spezialitäten und Preise in einem zweiten italienischen Menü\",\"top_k\":6}\n",
      "Invoked agentic RAG!\n"
     ]
    },
    {
     "name": "stderr",
     "output_type": "stream",
     "text": [
      "Batches: 100%|██████████| 1/1 [00:00<00:00, 17.92it/s]\n"
     ]
    },
    {
     "name": "stdout",
     "output_type": "stream",
     "text": [
      "Top K is: 6\n",
      "\n",
      "▶️ Step 4: thinking…\n",
      "\n",
      "✅ Fertig.\n",
      "\n",
      "🧾 FINAL_ANSWER:\n",
      " Risotto ist eine norditalienische Spezialität, besonders aus der Lombardei, die cremig mit Butter, Sahne und Rundkornreis wie Arborio oder Carnaroli zubereitet wird; typisch sind milde, raffinierte Aromen. Beispiele aus zwei Menüs: Risotto ai Funghi (11,50 €), Risotto Primavera (12,00 €), Meeresfrüchte-Risotto (14,00 €).\n",
      "\n",
      "▶️ Step 1: thinking…\n",
      "TOOL CALL ▶ execute_agentic_rag {\"question\":\"Preis der Pizza Doggish Special bei Anton's Pizza\",\"top_k\":5}\n",
      "Invoked agentic RAG!\n"
     ]
    },
    {
     "name": "stderr",
     "output_type": "stream",
     "text": [
      "Batches: 100%|██████████| 1/1 [00:00<00:00, 25.52it/s]\n"
     ]
    },
    {
     "name": "stdout",
     "output_type": "stream",
     "text": [
      "Top K is: 5\n",
      "\n",
      "▶️ Step 2: thinking…\n",
      "\n",
      "✅ Fertig.\n",
      "\n",
      "🧾 FINAL_ANSWER:\n",
      " Die Pizza 'Doggish Special' bei Anton's Pizza kostet 11,50 €.\n",
      "\n",
      "▶️ Step 1: thinking…\n",
      "TOOL CALL ▶ execute_agentic_rag {\"question\":\"wichtige französische Weinregionen\",\"top_k\":5}\n",
      "Invoked agentic RAG!\n"
     ]
    },
    {
     "name": "stderr",
     "output_type": "stream",
     "text": [
      "Batches: 100%|██████████| 1/1 [00:00<00:00, 25.20it/s]\n"
     ]
    },
    {
     "name": "stdout",
     "output_type": "stream",
     "text": [
      "Top K is: 5\n",
      "\n",
      "▶️ Step 2: thinking…\n",
      "\n",
      "✅ Fertig.\n",
      "\n",
      "🧾 FINAL_ANSWER:\n",
      " Drei wichtige französische Weinregionen sind Bordeaux, Burgund (Bourgogne) und Champagne.\n",
      "\n",
      "▶️ Step 1: thinking…\n",
      "TOOL CALL ▶ execute_agentic_rag {\"question\":\"heilige Fünf mexikanische Küche Zutaten\",\"top_k\":5}\n",
      "Invoked agentic RAG!\n"
     ]
    },
    {
     "name": "stderr",
     "output_type": "stream",
     "text": [
      "Batches: 100%|██████████| 1/1 [00:00<00:00, 17.99it/s]\n"
     ]
    },
    {
     "name": "stdout",
     "output_type": "stream",
     "text": [
      "Top K is: 5\n",
      "\n",
      "▶️ Step 2: thinking…\n",
      "\n",
      "✅ Fertig.\n",
      "\n",
      "🧾 FINAL_ANSWER:\n",
      " Die \"heilige Fünf\" der mexikanischen Küche umfasst Mais, Bohnen, Chili, Kürbis und Kakao.\n",
      "\n",
      "▶️ Step 1: thinking…\n",
      "TOOL CALL ▶ execute_agentic_rag {\"question\":\"Vater der modernen Barkultur\",\"top_k\":5}\n",
      "Invoked agentic RAG!\n"
     ]
    },
    {
     "name": "stderr",
     "output_type": "stream",
     "text": [
      "Batches: 100%|██████████| 1/1 [00:00<00:00, 21.37it/s]\n"
     ]
    },
    {
     "name": "stdout",
     "output_type": "stream",
     "text": [
      "Top K is: 5\n",
      "\n",
      "▶️ Step 2: thinking…\n",
      "\n",
      "✅ Fertig.\n",
      "\n",
      "🧾 FINAL_ANSWER:\n",
      " Jerry Thomas gilt als Vater der modernen Barkultur.\n",
      "\n",
      "▶️ Step 1: thinking…\n",
      "TOOL CALL ▶ execute_agentic_rag {\"question\":\"Zeitraum der Prohibition in den USA\",\"top_k\":3}\n",
      "Invoked agentic RAG!\n"
     ]
    },
    {
     "name": "stderr",
     "output_type": "stream",
     "text": [
      "Batches: 100%|██████████| 1/1 [00:00<00:00, 18.68it/s]\n"
     ]
    },
    {
     "name": "stdout",
     "output_type": "stream",
     "text": [
      "Top K is: 3\n",
      "\n",
      "▶️ Step 2: thinking…\n",
      "\n",
      "✅ Fertig.\n",
      "\n",
      "🧾 FINAL_ANSWER:\n",
      " Die Prohibition in den USA fand von 1920 bis 1933 statt.\n",
      "\n",
      "▶️ Step 1: thinking…\n",
      "TOOL CALL ▶ execute_agentic_rag {\"question\":\"Hauptstadt von Frankreich\",\"top_k\":3}\n",
      "Invoked agentic RAG!\n"
     ]
    },
    {
     "name": "stderr",
     "output_type": "stream",
     "text": [
      "Batches: 100%|██████████| 1/1 [00:00<00:00, 19.02it/s]\n"
     ]
    },
    {
     "name": "stdout",
     "output_type": "stream",
     "text": [
      "Top K is: 3\n",
      "\n",
      "▶️ Step 2: thinking…\n",
      "\n",
      "✅ Fertig.\n",
      "\n",
      "🧾 FINAL_ANSWER:\n",
      " Die Hauptstadt Frankreichs ist Paris.\n",
      "\n",
      "▶️ Step 1: thinking…\n",
      "TOOL CALL ▶ execute_agentic_rag {\"question\":\"Anzahl der Regionen in Italien laut offiziellen Dokumenten\",\"top_k\":5}\n",
      "Invoked agentic RAG!\n"
     ]
    },
    {
     "name": "stderr",
     "output_type": "stream",
     "text": [
      "Batches: 100%|██████████| 1/1 [00:00<00:00, 20.00it/s]\n"
     ]
    },
    {
     "name": "stdout",
     "output_type": "stream",
     "text": [
      "Top K is: 5\n",
      "\n",
      "▶️ Step 2: thinking…\n",
      "\n",
      "✅ Fertig.\n",
      "\n",
      "🧾 FINAL_ANSWER:\n",
      " Italien besteht laut Länderdokument aus 20 Regionen.\n",
      "\n",
      "▶️ Step 1: thinking…\n",
      "TOOL CALL ▶ execute_agentic_rag {\"question\":\"typische italienische Menüfolge Aufbau\",\"top_k\":5}\n",
      "Invoked agentic RAG!\n"
     ]
    },
    {
     "name": "stderr",
     "output_type": "stream",
     "text": [
      "Batches: 100%|██████████| 1/1 [00:00<00:00, 24.76it/s]\n"
     ]
    },
    {
     "name": "stdout",
     "output_type": "stream",
     "text": [
      "Top K is: 5\n",
      "\n",
      "▶️ Step 2: thinking…\n",
      "\n",
      "✅ Fertig.\n",
      "\n",
      "🧾 FINAL_ANSWER:\n",
      " Die typische italienische Menüfolge in Italien besteht aus: Aperitivo (Appetitanreger-Drink), Antipasto (Vorspeise), Primo Piatto (Nudelgericht, Risotto oder Suppe), Secondo Piatto (Fleisch- oder Fischgericht), Contorno (Beilage), Formaggi e Frutta (Käse/Obst), Dolce (Dessert), Caffè (Espresso), Digestivo (Verdauungsschnaps). Im Alltag werden meist nur wenige Gänge gewählt, das komplette Menü ist festlichen Anlässen vorbehalten.\n",
      "\n",
      "▶️ Step 1: thinking…\n",
      "TOOL CALL ▶ execute_agentic_rag {\"question\":\"Gastronomisches Mahl der Franzosen UNESCO-Weltkulturerbe seit wann\",\"top_k\":3}\n",
      "Invoked agentic RAG!\n"
     ]
    },
    {
     "name": "stderr",
     "output_type": "stream",
     "text": [
      "Batches: 100%|██████████| 1/1 [00:00<00:00, 19.38it/s]\n"
     ]
    },
    {
     "name": "stdout",
     "output_type": "stream",
     "text": [
      "Top K is: 3\n",
      "\n",
      "▶️ Step 2: thinking…\n",
      "\n",
      "✅ Fertig.\n",
      "\n",
      "🧾 FINAL_ANSWER:\n",
      " Das \"Gastronomische Mahl der Franzosen\" ist seit 2010 immaterielles UNESCO-Weltkulturerbe.\n",
      "\n",
      "▶️ Step 1: thinking…\n",
      "TOOL CALL ▶ execute_agentic_rag {\"question\":\"Zwei Gerichte mit Preisen von der Speisekarte von Tönis Tacos\",\"top_k\":5}\n",
      "Invoked agentic RAG!\n"
     ]
    },
    {
     "name": "stderr",
     "output_type": "stream",
     "text": [
      "Batches: 100%|██████████| 1/1 [00:00<00:00, 35.55it/s]\n"
     ]
    },
    {
     "name": "stdout",
     "output_type": "stream",
     "text": [
      "Top K is: 5\n",
      "\n",
      "▶️ Step 2: thinking…\n",
      "\n",
      "✅ Fertig.\n",
      "\n",
      "🧾 FINAL_ANSWER:\n",
      " Zwei Gerichte von der Karte von Tönis Tacos sind: Guacamole mit Tortilla-Chips für 5,50 € und Carne Asada Taco (Rindfleisch, Zwiebeln, Koriander) für 3,50 €.\n"
     ]
    }
   ],
   "source": [
    "from src.rag_eval.eval_loop import rag_loop_agent\n",
    "\n",
    "# commented out because I save the resulting data object to avoid frequent execution\n",
    "result, token_usage, failures, tool_calls, tool_args, question_id = rag_loop_agent()"
   ]
  },
  {
   "cell_type": "code",
   "execution_count": 6,
   "id": "ec55e9fa",
   "metadata": {},
   "outputs": [
    {
     "name": "stdout",
     "output_type": "stream",
     "text": [
      "[[{'question': \"Espresso Preis Anton's Pizza Il sogno de Anton Vergleich\", 'top_k': 6}], [{'question': 'Restaurants mit Risotto auf der Speisekarte und deren Preise', 'top_k': 7}, {'question': 'Weitere Restaurants mit Risotto, Risotto Preise vergleichen', 'top_k': 4}], [{'question': 'Struktur klassisches französisches Menü Menüfolge und Rolle Wein', 'top_k': 6}, {'question': 'italienische Menüfolge klassische Struktur und Weinbegleitung', 'top_k': 5}], [{'question': 'UNESCO-Auszeichnungen französische Esskultur und mexikanische Küche, Jahr der Auszeichnung', 'top_k': 6}], [{'question': \"Drei Grundpfeiler der mexikanischen 'heiligen Fünf' nennen und ihre Beziehung zu zwei Grundpfeilern der italienischen Küche erklären\", 'top_k': 7}], [{'question': 'Preise Prosecco Il sogno de Anton und französischer Rotwein Chez Anton', 'top_k': 6}], [{'question': 'Taco-Varianten Tönis Tacos und Grundelement mexikanische Küche', 'top_k': 6}], [{'question': 'typische italienische Desserts laut Küchenbeschreibung und Dessertkarte Il sogno de Anton', 'top_k': 7}, {'question': 'Dessertkarte Il sogno de Anton – werden Tiramisu und Panna Cotta angeboten?', 'top_k': 4}], [{'question': 'Cocktail Klassiker laut Cocktail-Dokument', 'top_k': 5}, {'question': 'Restaurantkarte Cocktail Mojito Margarita Negroni Martini Manhattan Gin Tonic Caipirinha mit Preis', 'top_k': 10}], [{'question': 'Bedeutung des Espressos in der italienischen Kultur', 'top_k': 5}, {'question': 'Espresso auf Restaurantkarten mit Preisangabe', 'top_k': 10}, {'question': 'Andere Restaurantkarten Kaffee oder Espresso Preis', 'top_k': 10}], [{'question': \"Führen Anton's Pizza und Chez Anton Cappuccino? Preise herausfinden.\", 'top_k': 6}], [{'question': \"Mineralwasser Preise und Gebinde bei Anton's Pizza, Chez Anton und Il sogno de Anton\", 'top_k': 6}], [{'question': 'Rindfleisch Hauptgericht Chez Anton', 'top_k': 5}, {'question': 'Rindfleisch Hauptgericht Il sogno de Anton', 'top_k': 5}], [{'question': 'EU-Bezug zu Italien und Frankreich in der Gastronomie oder Esskultur', 'top_k': 5}], [{'question': 'regionale kulinarische Schwerpunkte Provence Frankreich und Norditalien', 'top_k': 6}], [{'question': 'UNESCO Auszeichnung französische und mexikanische Küche 2010 Unterschied Art der Würdigung', 'top_k': 6}], [{'question': 'Vegetarische Gerichte und Preise aus verschiedenen Restaurantkarten', 'top_k': 8}], [{'question': 'Welcher Wein wird in italienischen Gerichten ausdrücklich genannt?', 'top_k': 6}, {'question': 'französische Weinregionen als Referenz zur italienischen Küche', 'top_k': 6}, {'question': 'Beispiele für italienische Gerichte mit explizit genanntem Wein', 'top_k': 8}], [{'question': 'Kaffeevarianten, Heißgetränke, Preise auf allen Restaurantkarten', 'top_k': 8}], [{'question': 'traditionelle französische Gemüsespeise im Land Frankreich und auf Menükarte mit Preis', 'top_k': 7}], [{'question': 'Panna Cotta italienisches Küchenporträt und Il sogno de Anton Speisekarte Preis', 'top_k': 6}], [{'question': \"Pizza-Variante Anton's Pizza Einfachheit Herkunft Küchenporträt\", 'top_k': 5}], [{'question': 'typisch mexikanische Getränke bei Tönis Tacos mit Preisen', 'top_k': 7}], [{'question': 'zwei taco sorten von der speisekarte mit gemeinsamer zutatenbasis laut küchenbeschreibung', 'top_k': 7}], [{'question': 'Suppe Chez Anton Menü', 'top_k': 5}, {'question': 'italienisches Küchenkapitel Arme-Leute-Suppen Beispiele', 'top_k': 5}, {'question': \"Zutaten und Stil der 'Soupe du Terrier' bei Chez Anton\", 'top_k': 3}, {'question': 'Vergleich klassisch französische Gemüsesuppe und italienische cucina povera Suppen Prinzip', 'top_k': 3}], [{'question': 'Welcher Cocktail ist typisch für Italien und welche kulturellen Informationen verbinden ihn mit dem Land?', 'top_k': 6}], [{'question': 'Klassikerliste der Cocktailkultur und alkoholische Getränke bei Tönis Tacos mit Preisen', 'top_k': 7}], [{'question': 'Welcher Käse ist zentral für eine italienische Vorspeise und wird auch als wichtiger italienischer Käse im Küchenporträt genannt?', 'top_k': 5}, {'question': 'Mozzarella italienische Vorspeise und Küchenporträt', 'top_k': 3}], [{'question': 'Französische Desserts auf Speisekarten mit Preisangaben', 'top_k': 5}, {'question': 'Italienische Desserts auf Speisekarten mit Preisangaben', 'top_k': 5}, {'question': 'klassische französische Desserts mit Preis auf typischen Restaurantkarten', 'top_k': 7}, {'question': 'italienisches Dessert mit konkretem Preis auf Restaurantkarte', 'top_k': 7}], [{'question': 'Charakterisierung Risotto als norditalienische Spezialität', 'top_k': 4}, {'question': 'Risotto Gerichte und Preise in italienischen Restaurantmenüs', 'top_k': 7}, {'question': 'Risotto Spezialitäten und Preise in einem zweiten italienischen Menü', 'top_k': 6}], [{'question': \"Preis der Pizza Doggish Special bei Anton's Pizza\", 'top_k': 5}], [{'question': 'wichtige französische Weinregionen', 'top_k': 5}], [{'question': 'heilige Fünf mexikanische Küche Zutaten', 'top_k': 5}], [{'question': 'Vater der modernen Barkultur', 'top_k': 5}], [{'question': 'Zeitraum der Prohibition in den USA', 'top_k': 3}], [{'question': 'Hauptstadt von Frankreich', 'top_k': 3}], [{'question': 'Anzahl der Regionen in Italien laut offiziellen Dokumenten', 'top_k': 5}], [{'question': 'typische italienische Menüfolge Aufbau', 'top_k': 5}], [{'question': 'Gastronomisches Mahl der Franzosen UNESCO-Weltkulturerbe seit wann', 'top_k': 3}], [{'question': 'Zwei Gerichte mit Preisen von der Speisekarte von Tönis Tacos', 'top_k': 5}]]\n"
     ]
    }
   ],
   "source": [
    "print(tool_args)"
   ]
  },
  {
   "cell_type": "code",
   "execution_count": 7,
   "id": "cc56a77f",
   "metadata": {},
   "outputs": [
    {
     "name": "stdout",
     "output_type": "stream",
     "text": [
      "EvalContainer(query='Welche Restaurants führen Risotto auf der Karte und wie unterscheiden sich die günstigsten und teuersten Risotto-Preise dort?', ground_truth_answer=\"Risotto gibt es bei Anton's Pizza (z. B. ai Funghi 11,50 €, Meeresfrüchte 14,00 €) und bei Il sogno de Anton (al Tartufo Nero 28,00 €). Damit ist das günstigste Risotto 11,50 € (Anton’s), das teuerste 28,00 € (Il sogno). \", generated_answer=\"Nur Anton's Pizza - Doggish Delights führt Risotto auf der Karte, mit Preisen von 11,50\\u202f€ (Risotto ai Funghi), 12,00\\u202f€ (Risotto Primavera) bis 14,00\\u202f€ (Meeresfrüchte-Risotto). In den anderen verfügbaren Menüs finden sich keine Risotto-Angebote. Der Preisunterschied zwischen dem günstigsten und teuersten Risotto beträgt dort 2,50\\u202f€.\", retrieved_texts=[\"Mozzarella, Paprika, Zucchini, Oliven) - 10,00 €\\nPasta\\nSpaghetti Bolognese - 9,50 €\\nTagliatelle mit Pesto und Pinienkernen - 10,00 €\\nPenne Arrabiata (pikant) - 8,50 €\\nLasagne al Forno - 11,00 €\\x0cAnton's Pizza - Doggish Delights\\nRisotto\\nRisotto ai Funghi (mit Pilzen) - 11,50 €\\nMeeresfrüchte-Risotto - 14,00 €\\nRisotto Primavera (Gemüse der Saison) - 12,00 €\\nGetränke\\nMineralwasser (0,5 \", 'Jahrhundert zum Exportschlager. Gleiches gilt für Espresso, dessen Kultur –\\ngeprägt von Ritualen, Maschinen und Variationen – heute integraler Bestandteil italienischer Alltagskultur\\nist.\\nDie italienische Küche lebt von Regionalität: Während im Norden Butter, Sahne und Reis (Risotto)\\ndominieren, steht der Süden für Olivenöl, Tomaten, Auberginen und schärfere Aromen. Käse wie\\nParmigiano Reggiano, Mozzarella di Bufala ', 'Cuisine herauszubilden. Letztere wurde im 17.\\nJahrhundert maßgeblich von Köchen wie François Pierre de La Varenne geprägt, der systematisch\\nbegann, Kochtechniken zu verschriftlichen und zu standardisieren. Im 19. Jahrhundert schließlich verhalf\\nAuguste Escoffier der französischen Küche zur internationalen Geltung, indem er Ordnung in die\\nKüchenorganisation brachte und klassische Rezepte in seinem Werk \"Le Guide ', 'Chez Anton - Délices Canins\\nEntrées\\nCroquettes d’Appétit (Knusprige Bällchen) - 5,50 €\\nPain à l’Ail Canin (Knoblauchbrot) - 4,00 €\\nSalade du Chien Heureux (gemischter Salat) - 6,00 €\\nSoupe du Terrier (hausgemachte Suppe) - 5,00 €\\nPlats principaux\\nBoeuf Bourguignon du Chien - 14,50 €\\nCoq au Vin Canin - 13,00 €\\nGratin de Patte (Kartoffelgratin) - ', 'Tönis Tacos\\nVorspeisen\\nGuacamole mit Tortilla-Chips - 5,50 €\\nQuesadillas mit Käse und Jalapeños - 6,00 €\\nMexikanische Bohnen-Suppe - 4,50 €\\nElote – gegrillter Mais mit Limette und Käse - 5,00 €\\nTacos\\nCarne Asada Taco (Rindfleisch, Zwiebeln, Koriander) - 3,50 €\\nPollo Taco (gegrilltes Hähnchen, Pico de Gallo) - 3,50 €\\nVeggie Taco (gegrilltes Gemüse, Avocado) - ', \"Anton's Pizza - Doggish Delights\\nVorspeisen\\nBruschetta mit Tomaten und Basilikum - 5,50 €\\nKnoblauchbrot mit Kräuterbutter - 4,00 €\\nCaprese (Mozzarella, Tomate, Basilikum) - 6,50 €\\nFrittierte Mozzarella-Sticks - 6,00 €\\nPizza\\nMargherita (Tomate, Mozzarella, Basilikum) - 8,50 €\\nDoggish Special (Tomate, Mozzarella, Rinderhack, Speck, Zwiebeln) - 11,50 €\\nFunghi (Tomate, Mozzarella, Champignons) - 9,50 €\\nVeggie Delight (Tomate, \", 'Kueche ist weltweit bekannt und wird fuer ihre Einfachheit und Qualitaet geschaetzt.\\nSie basiert oft auf wenigen, frischen Zutaten, die perfekt kombiniert werden. Zu den bekanntesten\\nGerichten zaehlen Pizza, die aus Neapel stammt, sowie Pasta in ihren unzaehligen Formen:\\nSpaghetti, Penne, Tagliatelle oder Gnocchi. Jede Region hat ihre Spezialitaeten: In Ligurien\\ndominiert das Pesto, ', \"Mozzarella, Paprika, Zucchini, Oliven) - 10,00 €\\nPasta\\nSpaghetti Bolognese - 9,50 €\\nTagliatelle mit Pesto und Pinienkernen - 10,00 €\\nPenne Arrabiata (pikant) - 8,50 €\\nLasagne al Forno - 11,00 €\\x0cAnton's Pizza - Doggish Delights\\nRisotto\\nRisotto ai Funghi (mit Pilzen) - 11,50 €\\nMeeresfrüchte-Risotto - 14,00 €\\nRisotto Primavera (Gemüse der Saison) - 12,00 €\\nGetränke\\nMineralwasser (0,5 \", 'Chez Anton - Délices Canins\\nEntrées\\nCroquettes d’Appétit (Knusprige Bällchen) - 5,50 €\\nPain à l’Ail Canin (Knoblauchbrot) - 4,00 €\\nSalade du Chien Heureux (gemischter Salat) - 6,00 €\\nSoupe du Terrier (hausgemachte Suppe) - 5,00 €\\nPlats principaux\\nBoeuf Bourguignon du Chien - 14,50 €\\nCoq au Vin Canin - 13,00 €\\nGratin de Patte (Kartoffelgratin) - ', '3,00 €\\nFish Taco (gebratener Fisch, Krautsalat) - 4,00 €\\nBurritos\\nClassic Burrito mit Reis, Bohnen und Rindfleisch - 8,00 €\\nChicken Burrito mit Salsa Verde - 7,50 €\\nVeggie Burrito mit Guacamole - 7,00 €\\nNacho Burrito (mit Käse und Nachos) - 8,50 €\\x0cTönis Tacos\\nNachos & Sides\\nKäse-Nachos mit Jalapeños - 6,00 €\\nMexikanischer Reis - 3,00 ', 'Tönis Tacos\\nVorspeisen\\nGuacamole mit Tortilla-Chips - 5,50 €\\nQuesadillas mit Käse und Jalapeños - 6,00 €\\nMexikanische Bohnen-Suppe - 4,50 €\\nElote – gegrillter Mais mit Limette und Käse - 5,00 €\\nTacos\\nCarne Asada Taco (Rindfleisch, Zwiebeln, Koriander) - 3,50 €\\nPollo Taco (gegrilltes Hähnchen, Pico de Gallo) - 3,50 €\\nVeggie Taco (gegrilltes Gemüse, Avocado) - '])\n"
     ]
    }
   ],
   "source": [
    "# EXECUTE ME\n",
    "print(result[1])"
   ]
  },
  {
   "cell_type": "code",
   "execution_count": 8,
   "id": "1c0d7341",
   "metadata": {},
   "outputs": [],
   "source": [
    "#intermediary result-save\n",
    "import pickle\n",
    "\n",
    "#save result\n",
    "with open(\"result.pkl\", \"wb\") as f:\n",
    "       pickle.dump(result, f)\n",
    "\n",
    "# access pickled result\n",
    "with open(\"result.pkl\", \"rb\") as f:\n",
    "    result = pickle.load(f)\n",
    "\n",
    "data = result\n",
    "\n",
    "\n",
    "with open(\"token_usage.pkl\", \"wb\") as f:\n",
    "        pickle.dump(token_usage, f)\n",
    "\n",
    "# access pickled result\n",
    "with open(\"token_usage.pkl\", \"rb\") as f:\n",
    "    token_usage = pickle.load(f)\n",
    "\n",
    "token_usage = token_usage\n",
    "\n",
    "\n",
    "#save tool call metrics\n",
    "with open(\"tool_calls.pkl\", \"wb\") as f:\n",
    "       pickle.dump(tool_calls, f)\n",
    "\n",
    "# access pickled result\n",
    "with open(\"tool_calls.pkl\", \"rb\") as f:\n",
    "    tool_calls = pickle.load(f)\n",
    "\n",
    "tool_calls = tool_calls"
   ]
  },
  {
   "cell_type": "code",
   "execution_count": 9,
   "id": "090acbf8",
   "metadata": {},
   "outputs": [
    {
     "name": "stdout",
     "output_type": "stream",
     "text": [
      "[{'run_id': 1, 'ts': 1759327689.2230177, 'call_id': 'call_kDo27FUvFxhjPXjL2KUKCWTD', 'name': 'execute_agentic_rag', 'args': {'question': \"Espresso Preis Anton's Pizza Il sogno de Anton Vergleich\", 'top_k': 6}, 'status': 'succeeded', 'meta': {'top_k': 6, 'retrieved_docs': None}, 'result_summary': 'ok', 'error': None}]\n",
      "{'run_id': 1, 'ts': 1759327689.2230177, 'call_id': 'call_kDo27FUvFxhjPXjL2KUKCWTD', 'name': 'execute_agentic_rag', 'args': {'question': \"Espresso Preis Anton's Pizza Il sogno de Anton Vergleich\", 'top_k': 6}, 'status': 'succeeded', 'meta': {'top_k': 6, 'retrieved_docs': None}, 'result_summary': 'ok', 'error': None}\n",
      "6\n"
     ]
    }
   ],
   "source": [
    "print(tool_calls[0])\n",
    "print(tool_calls[0][0])\n",
    "print(tool_calls[0][0][\"args\"][\"top_k\"])"
   ]
  },
  {
   "cell_type": "markdown",
   "id": "7a00ec31",
   "metadata": {},
   "source": [
    "## Evaluation of Agentic RAG with RAGEvaluator\n"
   ]
  },
  {
   "cell_type": "code",
   "execution_count": 10,
   "id": "f4778d9b",
   "metadata": {},
   "outputs": [],
   "source": [
    "# initiate llm \n",
    "api_key = os.getenv(\"OPENAI_API_KEY\")\n",
    "api_version = os.getenv(\"OPENAI_API_VERSION\")\n",
    "base_url = os.getenv(\"OPENAI_CHATCOMPLETIONS_URL\")\n",
    "model = os.getenv(\"OPENAI_DEPLOYMENT\")\n",
    "password = os.getenv(\"CORRECT_PASSWORD\")\n",
    "\n",
    "llm = AzureClient(\n",
    "    api_key=api_key,\n",
    "    api_version=api_version,\n",
    "    base_url=base_url,\n",
    "    model=model\n",
    ")\n",
    "\n",
    "\n",
    "# run evaluator\n",
    "coord = RAGEvaluator(llm_extractor=llm, llm_judge=llm)"
   ]
  },
  {
   "cell_type": "code",
   "execution_count": 13,
   "id": "b9e5e34b",
   "metadata": {},
   "outputs": [
    {
     "name": "stdout",
     "output_type": "stream",
     "text": [
      "=== ITERATION-No. 0 ===\n",
      "=== ITERATION-No. 1 ===\n",
      "=== ITERATION-No. 2 ===\n",
      "=== ITERATION-No. 3 ===\n",
      "=== ITERATION-No. 4 ===\n",
      "=== ITERATION-No. 5 ===\n",
      "=== ITERATION-No. 6 ===\n",
      "=== ITERATION-No. 7 ===\n",
      "=== ITERATION-No. 8 ===\n",
      "=== ITERATION-No. 9 ===\n",
      "=== ITERATION-No. 10 ===\n",
      "=== ITERATION-No. 11 ===\n",
      "=== ITERATION-No. 12 ===\n",
      "=== ITERATION-No. 13 ===\n",
      "=== ITERATION-No. 14 ===\n",
      "=== ITERATION-No. 15 ===\n",
      "=== ITERATION-No. 16 ===\n",
      "=== ITERATION-No. 17 ===\n",
      "=== ITERATION-No. 18 ===\n",
      "=== ITERATION-No. 19 ===\n",
      "=== ITERATION-No. 20 ===\n",
      "=== ITERATION-No. 21 ===\n",
      "=== ITERATION-No. 22 ===\n",
      "=== ITERATION-No. 23 ===\n",
      "=== ITERATION-No. 24 ===\n",
      "=== ITERATION-No. 25 ===\n",
      "=== ITERATION-No. 26 ===\n",
      "=== ITERATION-No. 27 ===\n",
      "=== ITERATION-No. 28 ===\n",
      "=== ITERATION-No. 29 ===\n",
      "=== ITERATION-No. 30 ===\n",
      "=== ITERATION-No. 31 ===\n",
      "=== ITERATION-No. 32 ===\n",
      "=== ITERATION-No. 33 ===\n",
      "=== ITERATION-No. 34 ===\n",
      "=== ITERATION-No. 35 ===\n",
      "=== ITERATION-No. 36 ===\n",
      "=== ITERATION-No. 37 ===\n",
      "=== ITERATION-No. 38 ===\n",
      "=== ITERATION-No. 39 ===\n"
     ]
    }
   ],
   "source": [
    "# create EvalContainer-object for each question-ground truth-pair \n",
    "#from src.rag_eval.eval_loop import rag_loop_agent\n",
    "import pandas as pd\n",
    "#result = rag_loop_agent()\n",
    "\n",
    "# initiate llm \n",
    "api_key = os.getenv(\"OPENAI_API_KEY\")\n",
    "api_version = os.getenv(\"OPENAI_API_VERSION\")\n",
    "base_url = os.getenv(\"OPENAI_CHATCOMPLETIONS_URL\")\n",
    "model = os.getenv(\"OPENAI_DEPLOYMENT\")\n",
    "password = os.getenv(\"CORRECT_PASSWORD\")\n",
    "\n",
    "llm = AzureClient(\n",
    "    api_key=api_key,\n",
    "    api_version=api_version,\n",
    "    base_url=base_url,\n",
    "    model=model\n",
    ")\n",
    "\n",
    "\n",
    "# run evaluator to create metrics: answer_precision, answer_recall, retrieval_precision, retrieval_recall\n",
    "coord = RAGEvaluator(llm_extractor=llm, llm_judge=llm)\n",
    "\n",
    "# run rag_evaluation and extract metrics from it \n",
    "\n",
    "answer_recall = []\n",
    "answer_precision = []\n",
    "retrieval_recall = []\n",
    "retrieval_precision = []\n",
    "\n",
    "for i, res in enumerate(data):\n",
    "    #iteration tracker\n",
    "    print(f\"=== ITERATION-No. {i} ===\")\n",
    "\n",
    "    result = coord.evaluate_all(res)\n",
    "\n",
    "    # extracting all variables needed\n",
    "    answer_recall.append(result[\"answer_quality\"][\"answer_recall\"])\n",
    "    answer_precision.append(result[\"answer_quality\"][\"answer_precision\"])\n",
    "    retrieval_recall.append(result[\"retrieval_quality\"][\"retrieval_recall\"])\n",
    "    retrieval_precision.append(result[\"retrieval_quality\"][\"retrieval_precision\"])"
   ]
  },
  {
   "cell_type": "code",
   "execution_count": 12,
   "id": "e5e11676",
   "metadata": {},
   "outputs": [
    {
     "data": {
      "text/plain": [
       "(40, 15)"
      ]
     },
     "execution_count": 12,
     "metadata": {},
     "output_type": "execute_result"
    }
   ],
   "source": [
    "from src.agent.helpers import tool_call_parser\n",
    "from src.agent.helpers import triplets_to_df\n",
    "\n",
    "\n",
    "# turn tool call info into df \n",
    "tool_call_results = tool_call_parser(tool_calls=tool_calls)\n",
    "df_tools = triplets_to_df(tool_call_results)\n",
    "df_tools.shape"
   ]
  },
  {
   "cell_type": "code",
   "execution_count": 14,
   "id": "9e37718d",
   "metadata": {},
   "outputs": [],
   "source": [
    "from src.agent.helpers import tool_call_parser\n",
    "from src.agent.helpers import triplets_to_df\n",
    "\n",
    "\n",
    "# create and save df with all info \n",
    "total_tokens = [dictionary.get(\"total\") for dictionary in token_usage]\n",
    "df_data_agentic = {\n",
    "    \"answer_recall\": answer_recall,\n",
    "    \"answer_precision\": answer_precision,\n",
    "    \"retrieval_recall\": retrieval_recall,\n",
    "    \"retrieval_precision\": retrieval_precision, \n",
    "    \"total_tokens\": total_tokens,\n",
    "    \"question_id\": question_id\n",
    "}\n",
    "df_agentic = pd.DataFrame(df_data_agentic).reset_index(drop=True)\n",
    "\n",
    "# Falls df_agentic ebenfalls 40 Zeilen hat: direkt concat\n",
    "df_agentic = pd.concat([df_agentic, df_tools.reset_index(drop=True)], axis=1)\n",
    "\n",
    "# ohne Index speichern (kein 'Unnamed: 0')\n",
    "df_agentic.to_csv(\"df_agentic.csv\", index=False)\n"
   ]
  },
  {
   "cell_type": "code",
   "execution_count": 15,
   "id": "90886714",
   "metadata": {},
   "outputs": [
    {
     "data": {
      "application/vnd.microsoft.datawrangler.viewer.v0+json": {
       "columns": [
        {
         "name": "index",
         "rawType": "int64",
         "type": "integer"
        },
        {
         "name": "answer_recall",
         "rawType": "float64",
         "type": "float"
        },
        {
         "name": "answer_precision",
         "rawType": "float64",
         "type": "float"
        },
        {
         "name": "retrieval_recall",
         "rawType": "float64",
         "type": "float"
        },
        {
         "name": "retrieval_precision",
         "rawType": "float64",
         "type": "float"
        },
        {
         "name": "total_tokens",
         "rawType": "int64",
         "type": "integer"
        },
        {
         "name": "question_id",
         "rawType": "int64",
         "type": "integer"
        },
        {
         "name": "name_0",
         "rawType": "object",
         "type": "string"
        },
        {
         "name": "name_1",
         "rawType": "object",
         "type": "unknown"
        },
        {
         "name": "name_2",
         "rawType": "object",
         "type": "unknown"
        },
        {
         "name": "name_3",
         "rawType": "object",
         "type": "unknown"
        },
        {
         "name": "name_4",
         "rawType": "object",
         "type": "unknown"
        },
        {
         "name": "query_0",
         "rawType": "object",
         "type": "string"
        },
        {
         "name": "query_1",
         "rawType": "object",
         "type": "unknown"
        },
        {
         "name": "query_2",
         "rawType": "object",
         "type": "unknown"
        },
        {
         "name": "query_3",
         "rawType": "object",
         "type": "unknown"
        },
        {
         "name": "query_4",
         "rawType": "object",
         "type": "unknown"
        },
        {
         "name": "top_k_0",
         "rawType": "int64",
         "type": "integer"
        },
        {
         "name": "top_k_1",
         "rawType": "float64",
         "type": "float"
        },
        {
         "name": "top_k_2",
         "rawType": "float64",
         "type": "float"
        },
        {
         "name": "top_k_3",
         "rawType": "float64",
         "type": "float"
        },
        {
         "name": "top_k_4",
         "rawType": "object",
         "type": "unknown"
        }
       ],
       "ref": "61057952-d5a4-42bb-912a-8ab0f590490d",
       "rows": [
        [
         "0",
         "0.0",
         "0.0",
         "0.0",
         "0.0",
         "2885",
         "1",
         "execute_agentic_rag",
         null,
         null,
         null,
         null,
         "Espresso Preis Anton's Pizza Il sogno de Anton Vergleich",
         null,
         null,
         null,
         null,
         "6",
         null,
         null,
         null,
         null
        ],
        [
         "1",
         "0.5",
         "0.5",
         "0.6666666666666666",
         "0.18181818181818182",
         "6534",
         "2",
         "execute_agentic_rag",
         "execute_agentic_rag",
         null,
         null,
         null,
         "Restaurants mit Risotto auf der Speisekarte und deren Preise",
         "Weitere Restaurants mit Risotto, Risotto Preise vergleichen",
         null,
         null,
         null,
         "7",
         "4.0",
         null,
         null,
         null
        ],
        [
         "2",
         "0.7777777777777778",
         "0.4",
         "0.2222222222222222",
         "0.09090909090909091",
         "7491",
         "3",
         "execute_agentic_rag",
         "execute_agentic_rag",
         null,
         null,
         null,
         "Struktur klassisches französisches Menü Menüfolge und Rolle Wein",
         "italienische Menüfolge klassische Struktur und Weinbegleitung",
         null,
         null,
         null,
         "6",
         "5.0",
         null,
         null,
         null
        ],
        [
         "3",
         "0.6",
         "1.0",
         "0.6",
         "0.5",
         "2585",
         "4",
         "execute_agentic_rag",
         null,
         null,
         null,
         null,
         "UNESCO-Auszeichnungen französische Esskultur und mexikanische Küche, Jahr der Auszeichnung",
         null,
         null,
         null,
         null,
         "6",
         null,
         null,
         null,
         null
        ],
        [
         "4",
         "1.0",
         "0.875",
         "0.875",
         "0.2857142857142857",
         "3281",
         "5",
         "execute_agentic_rag",
         null,
         null,
         null,
         null,
         "Drei Grundpfeiler der mexikanischen 'heiligen Fünf' nennen und ihre Beziehung zu zwei Grundpfeilern der italienischen Küche erklären",
         null,
         null,
         null,
         null,
         "7",
         null,
         null,
         null,
         null
        ]
       ],
       "shape": {
        "columns": 21,
        "rows": 5
       }
      },
      "text/html": [
       "<div>\n",
       "<style scoped>\n",
       "    .dataframe tbody tr th:only-of-type {\n",
       "        vertical-align: middle;\n",
       "    }\n",
       "\n",
       "    .dataframe tbody tr th {\n",
       "        vertical-align: top;\n",
       "    }\n",
       "\n",
       "    .dataframe thead th {\n",
       "        text-align: right;\n",
       "    }\n",
       "</style>\n",
       "<table border=\"1\" class=\"dataframe\">\n",
       "  <thead>\n",
       "    <tr style=\"text-align: right;\">\n",
       "      <th></th>\n",
       "      <th>answer_recall</th>\n",
       "      <th>answer_precision</th>\n",
       "      <th>retrieval_recall</th>\n",
       "      <th>retrieval_precision</th>\n",
       "      <th>total_tokens</th>\n",
       "      <th>question_id</th>\n",
       "      <th>name_0</th>\n",
       "      <th>name_1</th>\n",
       "      <th>name_2</th>\n",
       "      <th>name_3</th>\n",
       "      <th>...</th>\n",
       "      <th>query_0</th>\n",
       "      <th>query_1</th>\n",
       "      <th>query_2</th>\n",
       "      <th>query_3</th>\n",
       "      <th>query_4</th>\n",
       "      <th>top_k_0</th>\n",
       "      <th>top_k_1</th>\n",
       "      <th>top_k_2</th>\n",
       "      <th>top_k_3</th>\n",
       "      <th>top_k_4</th>\n",
       "    </tr>\n",
       "  </thead>\n",
       "  <tbody>\n",
       "    <tr>\n",
       "      <th>0</th>\n",
       "      <td>0.000000</td>\n",
       "      <td>0.000</td>\n",
       "      <td>0.000000</td>\n",
       "      <td>0.000000</td>\n",
       "      <td>2885</td>\n",
       "      <td>1</td>\n",
       "      <td>execute_agentic_rag</td>\n",
       "      <td>None</td>\n",
       "      <td>None</td>\n",
       "      <td>None</td>\n",
       "      <td>...</td>\n",
       "      <td>Espresso Preis Anton's Pizza Il sogno de Anton...</td>\n",
       "      <td>None</td>\n",
       "      <td>None</td>\n",
       "      <td>None</td>\n",
       "      <td>None</td>\n",
       "      <td>6</td>\n",
       "      <td>NaN</td>\n",
       "      <td>NaN</td>\n",
       "      <td>NaN</td>\n",
       "      <td>None</td>\n",
       "    </tr>\n",
       "    <tr>\n",
       "      <th>1</th>\n",
       "      <td>0.500000</td>\n",
       "      <td>0.500</td>\n",
       "      <td>0.666667</td>\n",
       "      <td>0.181818</td>\n",
       "      <td>6534</td>\n",
       "      <td>2</td>\n",
       "      <td>execute_agentic_rag</td>\n",
       "      <td>execute_agentic_rag</td>\n",
       "      <td>None</td>\n",
       "      <td>None</td>\n",
       "      <td>...</td>\n",
       "      <td>Restaurants mit Risotto auf der Speisekarte un...</td>\n",
       "      <td>Weitere Restaurants mit Risotto, Risotto Preis...</td>\n",
       "      <td>None</td>\n",
       "      <td>None</td>\n",
       "      <td>None</td>\n",
       "      <td>7</td>\n",
       "      <td>4.0</td>\n",
       "      <td>NaN</td>\n",
       "      <td>NaN</td>\n",
       "      <td>None</td>\n",
       "    </tr>\n",
       "    <tr>\n",
       "      <th>2</th>\n",
       "      <td>0.777778</td>\n",
       "      <td>0.400</td>\n",
       "      <td>0.222222</td>\n",
       "      <td>0.090909</td>\n",
       "      <td>7491</td>\n",
       "      <td>3</td>\n",
       "      <td>execute_agentic_rag</td>\n",
       "      <td>execute_agentic_rag</td>\n",
       "      <td>None</td>\n",
       "      <td>None</td>\n",
       "      <td>...</td>\n",
       "      <td>Struktur klassisches französisches Menü Menüfo...</td>\n",
       "      <td>italienische Menüfolge klassische Struktur und...</td>\n",
       "      <td>None</td>\n",
       "      <td>None</td>\n",
       "      <td>None</td>\n",
       "      <td>6</td>\n",
       "      <td>5.0</td>\n",
       "      <td>NaN</td>\n",
       "      <td>NaN</td>\n",
       "      <td>None</td>\n",
       "    </tr>\n",
       "    <tr>\n",
       "      <th>3</th>\n",
       "      <td>0.600000</td>\n",
       "      <td>1.000</td>\n",
       "      <td>0.600000</td>\n",
       "      <td>0.500000</td>\n",
       "      <td>2585</td>\n",
       "      <td>4</td>\n",
       "      <td>execute_agentic_rag</td>\n",
       "      <td>None</td>\n",
       "      <td>None</td>\n",
       "      <td>None</td>\n",
       "      <td>...</td>\n",
       "      <td>UNESCO-Auszeichnungen französische Esskultur u...</td>\n",
       "      <td>None</td>\n",
       "      <td>None</td>\n",
       "      <td>None</td>\n",
       "      <td>None</td>\n",
       "      <td>6</td>\n",
       "      <td>NaN</td>\n",
       "      <td>NaN</td>\n",
       "      <td>NaN</td>\n",
       "      <td>None</td>\n",
       "    </tr>\n",
       "    <tr>\n",
       "      <th>4</th>\n",
       "      <td>1.000000</td>\n",
       "      <td>0.875</td>\n",
       "      <td>0.875000</td>\n",
       "      <td>0.285714</td>\n",
       "      <td>3281</td>\n",
       "      <td>5</td>\n",
       "      <td>execute_agentic_rag</td>\n",
       "      <td>None</td>\n",
       "      <td>None</td>\n",
       "      <td>None</td>\n",
       "      <td>...</td>\n",
       "      <td>Drei Grundpfeiler der mexikanischen 'heiligen ...</td>\n",
       "      <td>None</td>\n",
       "      <td>None</td>\n",
       "      <td>None</td>\n",
       "      <td>None</td>\n",
       "      <td>7</td>\n",
       "      <td>NaN</td>\n",
       "      <td>NaN</td>\n",
       "      <td>NaN</td>\n",
       "      <td>None</td>\n",
       "    </tr>\n",
       "  </tbody>\n",
       "</table>\n",
       "<p>5 rows × 21 columns</p>\n",
       "</div>"
      ],
      "text/plain": [
       "   answer_recall  answer_precision  retrieval_recall  retrieval_precision  \\\n",
       "0       0.000000             0.000          0.000000             0.000000   \n",
       "1       0.500000             0.500          0.666667             0.181818   \n",
       "2       0.777778             0.400          0.222222             0.090909   \n",
       "3       0.600000             1.000          0.600000             0.500000   \n",
       "4       1.000000             0.875          0.875000             0.285714   \n",
       "\n",
       "   total_tokens  question_id               name_0               name_1 name_2  \\\n",
       "0          2885            1  execute_agentic_rag                 None   None   \n",
       "1          6534            2  execute_agentic_rag  execute_agentic_rag   None   \n",
       "2          7491            3  execute_agentic_rag  execute_agentic_rag   None   \n",
       "3          2585            4  execute_agentic_rag                 None   None   \n",
       "4          3281            5  execute_agentic_rag                 None   None   \n",
       "\n",
       "  name_3  ...                                            query_0  \\\n",
       "0   None  ...  Espresso Preis Anton's Pizza Il sogno de Anton...   \n",
       "1   None  ...  Restaurants mit Risotto auf der Speisekarte un...   \n",
       "2   None  ...  Struktur klassisches französisches Menü Menüfo...   \n",
       "3   None  ...  UNESCO-Auszeichnungen französische Esskultur u...   \n",
       "4   None  ...  Drei Grundpfeiler der mexikanischen 'heiligen ...   \n",
       "\n",
       "                                             query_1 query_2 query_3 query_4  \\\n",
       "0                                               None    None    None    None   \n",
       "1  Weitere Restaurants mit Risotto, Risotto Preis...    None    None    None   \n",
       "2  italienische Menüfolge klassische Struktur und...    None    None    None   \n",
       "3                                               None    None    None    None   \n",
       "4                                               None    None    None    None   \n",
       "\n",
       "  top_k_0  top_k_1  top_k_2  top_k_3  top_k_4  \n",
       "0       6      NaN      NaN      NaN     None  \n",
       "1       7      4.0      NaN      NaN     None  \n",
       "2       6      5.0      NaN      NaN     None  \n",
       "3       6      NaN      NaN      NaN     None  \n",
       "4       7      NaN      NaN      NaN     None  \n",
       "\n",
       "[5 rows x 21 columns]"
      ]
     },
     "execution_count": 15,
     "metadata": {},
     "output_type": "execute_result"
    }
   ],
   "source": [
    "df_agentic.head()"
   ]
  },
  {
   "cell_type": "code",
   "execution_count": 16,
   "id": "a8a8c483",
   "metadata": {},
   "outputs": [
    {
     "data": {
      "text/plain": [
       "(40, 21)"
      ]
     },
     "execution_count": 16,
     "metadata": {},
     "output_type": "execute_result"
    }
   ],
   "source": [
    "df_agentic.shape"
   ]
  },
  {
   "cell_type": "code",
   "execution_count": 19,
   "id": "c61e7916",
   "metadata": {},
   "outputs": [
    {
     "data": {
      "application/vnd.microsoft.datawrangler.viewer.v0+json": {
       "columns": [
        {
         "name": "index",
         "rawType": "int64",
         "type": "integer"
        },
        {
         "name": "answer_recall",
         "rawType": "float64",
         "type": "float"
        },
        {
         "name": "answer_precision",
         "rawType": "float64",
         "type": "float"
        },
        {
         "name": "retrieval_recall",
         "rawType": "float64",
         "type": "float"
        },
        {
         "name": "retrieval_precision",
         "rawType": "float64",
         "type": "float"
        },
        {
         "name": "total_tokens",
         "rawType": "float64",
         "type": "float"
        },
        {
         "name": "question_id",
         "rawType": "float64",
         "type": "float"
        },
        {
         "name": "name_0",
         "rawType": "object",
         "type": "string"
        },
        {
         "name": "name_1",
         "rawType": "object",
         "type": "unknown"
        },
        {
         "name": "name_2",
         "rawType": "object",
         "type": "unknown"
        },
        {
         "name": "name_3",
         "rawType": "object",
         "type": "unknown"
        },
        {
         "name": "name_4",
         "rawType": "float64",
         "type": "float"
        },
        {
         "name": "query_0",
         "rawType": "object",
         "type": "string"
        },
        {
         "name": "query_1",
         "rawType": "object",
         "type": "unknown"
        },
        {
         "name": "query_2",
         "rawType": "object",
         "type": "unknown"
        },
        {
         "name": "query_3",
         "rawType": "object",
         "type": "unknown"
        },
        {
         "name": "query_4",
         "rawType": "float64",
         "type": "float"
        },
        {
         "name": "top_k_0",
         "rawType": "int64",
         "type": "integer"
        },
        {
         "name": "top_k_1",
         "rawType": "float64",
         "type": "float"
        },
        {
         "name": "top_k_2",
         "rawType": "float64",
         "type": "float"
        },
        {
         "name": "top_k_3",
         "rawType": "float64",
         "type": "float"
        },
        {
         "name": "top_k_4",
         "rawType": "float64",
         "type": "float"
        }
       ],
       "ref": "96d19272-6ca8-49bd-8b47-9145bc87afb9",
       "rows": [
        [
         "0",
         "0.3333333333333333",
         "0.25",
         "0.0",
         "0.0357142857142857",
         "14546.0",
         "1.0",
         "execute_agentic_rag",
         "execute_agentic_rag",
         "execute_agentic_rag",
         "execute_agentic_rag",
         null,
         "Espresso Preis Anton's Pizza",
         "Espresso Preis Il sogno de Anton",
         "Kaffeespezialitäten Preise Il sogno de Anton Getränkekarte",
         "Espresso Getränkepreise Il sogno de Anton",
         null,
         "5",
         "5.0",
         "8.0",
         "10.0",
         null
        ],
        [
         "1",
         "0.5",
         "0.8571428571428571",
         "0.625",
         "0.125",
         "3525.0",
         "2.0",
         "execute_agentic_rag",
         "execute_agentic_rag",
         "execute_agentic_rag",
         "execute_agentic_rag",
         null,
         "Espresso Preis Anton's Pizza",
         "Espresso Preis Il sogno de Anton",
         "Kaffeespezialitäten Preise Il sogno de Anton Getränkekarte",
         "Espresso Getränkepreise Il sogno de Anton",
         null,
         "5",
         "5.0",
         "8.0",
         "10.0",
         null
        ],
        [
         "2",
         "0.875",
         "0.5",
         "0.375",
         "0.2",
         "7561.0",
         "3.0",
         "execute_agentic_rag",
         "execute_agentic_rag",
         "execute_agentic_rag",
         "execute_agentic_rag",
         null,
         "Espresso Preis Anton's Pizza",
         "Espresso Preis Il sogno de Anton",
         "Kaffeespezialitäten Preise Il sogno de Anton Getränkekarte",
         "Espresso Getränkepreise Il sogno de Anton",
         null,
         "5",
         "5.0",
         "8.0",
         "10.0",
         null
        ],
        [
         "3",
         "0.6",
         "1.0",
         "0.8",
         "0.5",
         "2581.0",
         "4.0",
         "execute_agentic_rag",
         "execute_agentic_rag",
         "execute_agentic_rag",
         "execute_agentic_rag",
         null,
         "Espresso Preis Anton's Pizza",
         "Espresso Preis Il sogno de Anton",
         "Kaffeespezialitäten Preise Il sogno de Anton Getränkekarte",
         "Espresso Getränkepreise Il sogno de Anton",
         null,
         "5",
         "5.0",
         "8.0",
         "10.0",
         null
        ],
        [
         "4",
         "0.8333333333333334",
         "0.8888888888888888",
         "0.875",
         "0.3846153846153846",
         "9318.0",
         "5.0",
         "execute_agentic_rag",
         "execute_agentic_rag",
         "execute_agentic_rag",
         "execute_agentic_rag",
         null,
         "Espresso Preis Anton's Pizza",
         "Espresso Preis Il sogno de Anton",
         "Kaffeespezialitäten Preise Il sogno de Anton Getränkekarte",
         "Espresso Getränkepreise Il sogno de Anton",
         null,
         "5",
         "5.0",
         "8.0",
         "10.0",
         null
        ],
        [
         "5",
         "0.0",
         "0.0",
         "0.0",
         "0.0",
         "2779.0",
         "6.0",
         "execute_agentic_rag",
         null,
         null,
         null,
         null,
         "Risotto Restaurants Menü Preise günstig teuer",
         null,
         null,
         null,
         null,
         "8",
         null,
         null,
         null,
         null
        ],
        [
         "6",
         "1.0",
         "0.8",
         "0.8333333333333334",
         "0.5",
         "3306.0",
         "7.0",
         "execute_agentic_rag",
         null,
         null,
         null,
         null,
         "Risotto Restaurants Menü Preise günstig teuer",
         null,
         null,
         null,
         null,
         "8",
         null,
         null,
         null,
         null
        ],
        [
         "7",
         "1.0",
         "0.8333333333333334",
         "1.0",
         "0.2727272727272727",
         "4977.0",
         "8.0",
         "execute_agentic_rag",
         null,
         null,
         null,
         null,
         "Risotto Restaurants Menü Preise günstig teuer",
         null,
         null,
         null,
         null,
         "8",
         null,
         null,
         null,
         null
        ],
        [
         "8",
         "0.0",
         "0.0",
         "0.3333333333333333",
         "0.1818181818181818",
         "5031.0",
         "9.0",
         "execute_agentic_rag",
         null,
         null,
         null,
         null,
         "Risotto Restaurants Menü Preise günstig teuer",
         null,
         null,
         null,
         null,
         "8",
         null,
         null,
         null,
         null
        ],
        [
         "9",
         "0.25",
         "0.4285714285714285",
         "0.75",
         "0.2608695652173913",
         "10324.0",
         "10.0",
         "execute_agentic_rag",
         null,
         null,
         null,
         null,
         "Risotto Restaurants Menü Preise günstig teuer",
         null,
         null,
         null,
         null,
         "8",
         null,
         null,
         null,
         null
        ],
        [
         "10",
         "0.0",
         "0.0",
         "0.0",
         "0.0",
         "2777.0",
         "11.0",
         "execute_agentic_rag",
         "execute_agentic_rag",
         null,
         null,
         null,
         "klassisches französisches Menü Aufbau und die Rolle des Weins",
         "italienisches Menü Reihenfolge und Rolle des Weins",
         null,
         null,
         null,
         "5",
         "5.0",
         null,
         null,
         null
        ],
        [
         "11",
         "0.0",
         "0.1666666666666666",
         "0.0",
         "0.0",
         "7776.0",
         "12.0",
         "execute_agentic_rag",
         "execute_agentic_rag",
         null,
         null,
         null,
         "klassisches französisches Menü Aufbau und die Rolle des Weins",
         "italienisches Menü Reihenfolge und Rolle des Weins",
         null,
         null,
         null,
         "5",
         "5.0",
         null,
         null,
         null
        ],
        [
         "12",
         "0.8",
         "0.2",
         "1.0",
         "0.3",
         "5145.0",
         "13.0",
         "execute_agentic_rag",
         "execute_agentic_rag",
         null,
         null,
         null,
         "klassisches französisches Menü Aufbau und die Rolle des Weins",
         "italienisches Menü Reihenfolge und Rolle des Weins",
         null,
         null,
         null,
         "5",
         "5.0",
         null,
         null,
         null
        ],
        [
         "13",
         "0.5",
         "0.0714285714285714",
         "0.0",
         "0.0",
         "2920.0",
         "14.0",
         "execute_agentic_rag",
         "execute_agentic_rag",
         null,
         null,
         null,
         "klassisches französisches Menü Aufbau und die Rolle des Weins",
         "italienisches Menü Reihenfolge und Rolle des Weins",
         null,
         null,
         null,
         "5",
         "5.0",
         null,
         null,
         null
        ],
        [
         "14",
         "1.0",
         "0.4285714285714285",
         "1.0",
         "0.3",
         "5292.0",
         "15.0",
         "execute_agentic_rag",
         "execute_agentic_rag",
         null,
         null,
         null,
         "klassisches französisches Menü Aufbau und die Rolle des Weins",
         "italienisches Menü Reihenfolge und Rolle des Weins",
         null,
         null,
         null,
         "5",
         "5.0",
         null,
         null,
         null
        ],
        [
         "15",
         "0.4",
         "0.3333333333333333",
         "1.0",
         "0.3333333333333333",
         "2984.0",
         "16.0",
         "execute_agentic_rag",
         null,
         null,
         null,
         null,
         "UNESCO-Auszeichnungen für französische Esskultur und mexikanische Küche mit Jahr",
         null,
         null,
         null,
         null,
         "6",
         null,
         null,
         null,
         null
        ],
        [
         "16",
         "0.0",
         "0.0",
         "0.3333333333333333",
         "0.1",
         "3494.0",
         "17.0",
         "execute_agentic_rag",
         null,
         null,
         null,
         null,
         "UNESCO-Auszeichnungen für französische Esskultur und mexikanische Küche mit Jahr",
         null,
         null,
         null,
         null,
         "6",
         null,
         null,
         null,
         null
        ],
        [
         "17",
         "0.3333333333333333",
         "0.1428571428571428",
         "0.0",
         "0.0",
         "5465.0",
         "18.0",
         "execute_agentic_rag",
         null,
         null,
         null,
         null,
         "UNESCO-Auszeichnungen für französische Esskultur und mexikanische Küche mit Jahr",
         null,
         null,
         null,
         null,
         "6",
         null,
         null,
         null,
         null
        ],
        [
         "18",
         "0.0555555555555555",
         "0.4285714285714285",
         "0.0",
         "0.0",
         "3849.0",
         "19.0",
         "execute_agentic_rag",
         null,
         null,
         null,
         null,
         "UNESCO-Auszeichnungen für französische Esskultur und mexikanische Küche mit Jahr",
         null,
         null,
         null,
         null,
         "6",
         null,
         null,
         null,
         null
        ],
        [
         "19",
         "0.4",
         "0.75",
         "0.0",
         "0.0",
         "3022.0",
         "20.0",
         "execute_agentic_rag",
         null,
         null,
         null,
         null,
         "UNESCO-Auszeichnungen für französische Esskultur und mexikanische Küche mit Jahr",
         null,
         null,
         null,
         null,
         "6",
         null,
         null,
         null,
         null
        ],
        [
         "20",
         "0.5",
         "0.4",
         "0.5",
         "0.1666666666666666",
         "3079.0",
         "21.0",
         "execute_agentic_rag",
         "execute_agentic_rag",
         "execute_agentic_rag",
         null,
         null,
         "Was sind die heiligen Fünf der mexikanischen Küche und deren Grundbestandteile?",
         "Grundpfeiler der italienischen Küche – wichtigste Zutaten und Prinzipien",
         "Vergleich: Grundzutaten mexikanische und italienische Küche",
         null,
         null,
         "5",
         "4.0",
         "4.0",
         null,
         null
        ],
        [
         "21",
         "0.8",
         "1.0",
         "0.8",
         "0.2",
         "2727.0",
         "22.0",
         "execute_agentic_rag",
         "execute_agentic_rag",
         "execute_agentic_rag",
         null,
         null,
         "Was sind die heiligen Fünf der mexikanischen Küche und deren Grundbestandteile?",
         "Grundpfeiler der italienischen Küche – wichtigste Zutaten und Prinzipien",
         "Vergleich: Grundzutaten mexikanische und italienische Küche",
         null,
         null,
         "5",
         "4.0",
         "4.0",
         null,
         null
        ],
        [
         "22",
         "1.0",
         "0.4",
         "1.0",
         "0.25",
         "3190.0",
         "23.0",
         "execute_agentic_rag",
         "execute_agentic_rag",
         "execute_agentic_rag",
         null,
         null,
         "Was sind die heiligen Fünf der mexikanischen Küche und deren Grundbestandteile?",
         "Grundpfeiler der italienischen Küche – wichtigste Zutaten und Prinzipien",
         "Vergleich: Grundzutaten mexikanische und italienische Küche",
         null,
         null,
         "5",
         "4.0",
         "4.0",
         null,
         null
        ],
        [
         "23",
         "0.75",
         "0.4",
         "0.25",
         "0.2",
         "2788.0",
         "24.0",
         "execute_agentic_rag",
         "execute_agentic_rag",
         "execute_agentic_rag",
         null,
         null,
         "Was sind die heiligen Fünf der mexikanischen Küche und deren Grundbestandteile?",
         "Grundpfeiler der italienischen Küche – wichtigste Zutaten und Prinzipien",
         "Vergleich: Grundzutaten mexikanische und italienische Küche",
         null,
         null,
         "5",
         "4.0",
         "4.0",
         null,
         null
        ],
        [
         "24",
         "0.4",
         "0.6666666666666666",
         "0.2",
         "0.0833333333333333",
         "5999.0",
         "25.0",
         "execute_agentic_rag",
         "execute_agentic_rag",
         "execute_agentic_rag",
         null,
         null,
         "Was sind die heiligen Fünf der mexikanischen Küche und deren Grundbestandteile?",
         "Grundpfeiler der italienischen Küche – wichtigste Zutaten und Prinzipien",
         "Vergleich: Grundzutaten mexikanische und italienische Küche",
         null,
         null,
         "5",
         "4.0",
         "4.0",
         null,
         null
        ],
        [
         "25",
         "0.6",
         "0.2222222222222222",
         "0.6",
         "0.2",
         "2507.0",
         "26.0",
         "execute_agentic_rag",
         null,
         null,
         null,
         null,
         "Preise für Prosecco Il sogno de Anton und französischen Rotwein im Chez Anton",
         null,
         null,
         null,
         null,
         "6",
         null,
         null,
         null,
         null
        ],
        [
         "26",
         "0.7142857142857143",
         "0.1428571428571428",
         "0.2857142857142857",
         "0.1666666666666666",
         "3465.0",
         "27.0",
         "execute_agentic_rag",
         null,
         null,
         null,
         null,
         "Preise für Prosecco Il sogno de Anton und französischen Rotwein im Chez Anton",
         null,
         null,
         null,
         null,
         "6",
         null,
         null,
         null,
         null
        ],
        [
         "27",
         "0.0",
         "1.0",
         "0.5",
         "0.1",
         "5139.0",
         "28.0",
         "execute_agentic_rag",
         null,
         null,
         null,
         null,
         "Preise für Prosecco Il sogno de Anton und französischen Rotwein im Chez Anton",
         null,
         null,
         null,
         null,
         "6",
         null,
         null,
         null,
         null
        ],
        [
         "28",
         "0.0",
         "0.0",
         "0.5",
         "0.2",
         "5542.0",
         "29.0",
         "execute_agentic_rag",
         null,
         null,
         null,
         null,
         "Preise für Prosecco Il sogno de Anton und französischen Rotwein im Chez Anton",
         null,
         null,
         null,
         null,
         "6",
         null,
         null,
         null,
         null
        ],
        [
         "29",
         "0.4",
         "0.2352941176470588",
         "0.6",
         "0.2631578947368421",
         "9940.0",
         "30.0",
         "execute_agentic_rag",
         null,
         null,
         null,
         null,
         "Preise für Prosecco Il sogno de Anton und französischen Rotwein im Chez Anton",
         null,
         null,
         null,
         null,
         "6",
         null,
         null,
         null,
         null
        ],
        [
         "30",
         "1.0",
         "0.0",
         "1.0",
         "0.2",
         "2646.0",
         "31.0",
         "execute_agentic_rag",
         null,
         null,
         null,
         null,
         "Tönis Tacos angebotene Taco-Varianten und deren Hauptbestandteil nach mexikanischer Küche",
         null,
         null,
         null,
         null,
         "6",
         null,
         null,
         null,
         null
        ],
        [
         "31",
         "1.0",
         "0.6666666666666666",
         "0.0",
         "0.0",
         "2757.0",
         "32.0",
         "execute_agentic_rag",
         null,
         null,
         null,
         null,
         "Tönis Tacos angebotene Taco-Varianten und deren Hauptbestandteil nach mexikanischer Küche",
         null,
         null,
         null,
         null,
         "6",
         null,
         null,
         null,
         null
        ],
        [
         "32",
         "1.0",
         "0.6666666666666666",
         "1.0",
         "0.2",
         "2505.0",
         "33.0",
         "execute_agentic_rag",
         null,
         null,
         null,
         null,
         "Tönis Tacos angebotene Taco-Varianten und deren Hauptbestandteil nach mexikanischer Küche",
         null,
         null,
         null,
         null,
         "6",
         null,
         null,
         null,
         null
        ],
        [
         "33",
         "1.0",
         "0.0",
         "1.0",
         "0.2",
         "2251.0",
         "34.0",
         "execute_agentic_rag",
         null,
         null,
         null,
         null,
         "Tönis Tacos angebotene Taco-Varianten und deren Hauptbestandteil nach mexikanischer Küche",
         null,
         null,
         null,
         null,
         "6",
         null,
         null,
         null,
         null
        ],
        [
         "34",
         "1.0",
         "1.0",
         "1.0",
         "0.3333333333333333",
         "2115.0",
         "35.0",
         "execute_agentic_rag",
         null,
         null,
         null,
         null,
         "Tönis Tacos angebotene Taco-Varianten und deren Hauptbestandteil nach mexikanischer Küche",
         null,
         null,
         null,
         null,
         "6",
         null,
         null,
         null,
         null
        ],
        [
         "35",
         "1.0",
         "1.0",
         "1.0",
         "0.3333333333333333",
         "2065.0",
         "36.0",
         "execute_agentic_rag",
         "execute_agentic_rag",
         null,
         null,
         null,
         "zwei typische italienische Desserts laut Küchenbeschreibung",
         "Dessertkarte Il sogno de Anton, enthalten Tiramisu und Panna Cotta",
         null,
         null,
         null,
         "5",
         "6.0",
         null,
         null,
         null
        ],
        [
         "36",
         "1.0",
         "0.5",
         "1.0",
         "0.3333333333333333",
         "2064.0",
         "37.0",
         "execute_agentic_rag",
         "execute_agentic_rag",
         null,
         null,
         null,
         "zwei typische italienische Desserts laut Küchenbeschreibung",
         "Dessertkarte Il sogno de Anton, enthalten Tiramisu und Panna Cotta",
         null,
         null,
         null,
         "5",
         "6.0",
         null,
         null,
         null
        ],
        [
         "37",
         "1.0",
         "0.5555555555555556",
         "0.0",
         "0.0",
         "2789.0",
         "38.0",
         "execute_agentic_rag",
         "execute_agentic_rag",
         null,
         null,
         null,
         "zwei typische italienische Desserts laut Küchenbeschreibung",
         "Dessertkarte Il sogno de Anton, enthalten Tiramisu und Panna Cotta",
         null,
         null,
         null,
         "5",
         "6.0",
         null,
         null,
         null
        ],
        [
         "38",
         "1.0",
         "0.3333333333333333",
         "0.0",
         "0.0",
         "2112.0",
         "39.0",
         "execute_agentic_rag",
         "execute_agentic_rag",
         null,
         null,
         null,
         "zwei typische italienische Desserts laut Küchenbeschreibung",
         "Dessertkarte Il sogno de Anton, enthalten Tiramisu und Panna Cotta",
         null,
         null,
         null,
         "5",
         "6.0",
         null,
         null,
         null
        ],
        [
         "39",
         "0.5",
         "0.5",
         "1.0",
         "0.4",
         "3305.0",
         "40.0",
         "execute_agentic_rag",
         "execute_agentic_rag",
         null,
         null,
         null,
         "zwei typische italienische Desserts laut Küchenbeschreibung",
         "Dessertkarte Il sogno de Anton, enthalten Tiramisu und Panna Cotta",
         null,
         null,
         null,
         "5",
         "6.0",
         null,
         null,
         null
        ],
        [
         "40",
         null,
         null,
         null,
         null,
         null,
         null,
         "execute_agentic_rag",
         "execute_agentic_rag",
         null,
         null,
         null,
         "klassischer Cocktail laut Cocktail-Dokument",
         "Restaurant Cocktailkarte mit klassischen Cocktails und deren Preisen",
         null,
         null,
         null,
         "5",
         "6.0",
         null,
         null,
         null
        ],
        [
         "41",
         null,
         null,
         null,
         null,
         null,
         null,
         "execute_agentic_rag",
         "execute_agentic_rag",
         null,
         null,
         null,
         "klassischer Cocktail laut Cocktail-Dokument",
         "Restaurant Cocktailkarte mit klassischen Cocktails und deren Preisen",
         null,
         null,
         null,
         "5",
         "6.0",
         null,
         null,
         null
        ],
        [
         "42",
         null,
         null,
         null,
         null,
         null,
         null,
         "execute_agentic_rag",
         "execute_agentic_rag",
         null,
         null,
         null,
         "klassischer Cocktail laut Cocktail-Dokument",
         "Restaurant Cocktailkarte mit klassischen Cocktails und deren Preisen",
         null,
         null,
         null,
         "5",
         "6.0",
         null,
         null,
         null
        ],
        [
         "43",
         null,
         null,
         null,
         null,
         null,
         null,
         "execute_agentic_rag",
         "execute_agentic_rag",
         null,
         null,
         null,
         "klassischer Cocktail laut Cocktail-Dokument",
         "Restaurant Cocktailkarte mit klassischen Cocktails und deren Preisen",
         null,
         null,
         null,
         "5",
         "6.0",
         null,
         null,
         null
        ],
        [
         "44",
         null,
         null,
         null,
         null,
         null,
         null,
         "execute_agentic_rag",
         "execute_agentic_rag",
         null,
         null,
         null,
         "klassischer Cocktail laut Cocktail-Dokument",
         "Restaurant Cocktailkarte mit klassischen Cocktails und deren Preisen",
         null,
         null,
         null,
         "5",
         "6.0",
         null,
         null,
         null
        ],
        [
         "45",
         null,
         null,
         null,
         null,
         null,
         null,
         "execute_agentic_rag",
         "execute_agentic_rag",
         "execute_agentic_rag",
         null,
         null,
         "Bedeutung des Espressos in der italienischen Kultur",
         "Restaurantkarten Espresso Preis Liste",
         "Restaurantkarten italienisch, Espresso Preis",
         null,
         null,
         "5",
         "8.0",
         "10.0",
         null,
         null
        ],
        [
         "46",
         null,
         null,
         null,
         null,
         null,
         null,
         "execute_agentic_rag",
         "execute_agentic_rag",
         "execute_agentic_rag",
         null,
         null,
         "Bedeutung des Espressos in der italienischen Kultur",
         "Restaurantkarten Espresso Preis Liste",
         "Restaurantkarten italienisch, Espresso Preis",
         null,
         null,
         "5",
         "8.0",
         "10.0",
         null,
         null
        ],
        [
         "47",
         null,
         null,
         null,
         null,
         null,
         null,
         "execute_agentic_rag",
         "execute_agentic_rag",
         "execute_agentic_rag",
         null,
         null,
         "Bedeutung des Espressos in der italienischen Kultur",
         "Restaurantkarten Espresso Preis Liste",
         "Restaurantkarten italienisch, Espresso Preis",
         null,
         null,
         "5",
         "8.0",
         "10.0",
         null,
         null
        ],
        [
         "48",
         null,
         null,
         null,
         null,
         null,
         null,
         "execute_agentic_rag",
         "execute_agentic_rag",
         "execute_agentic_rag",
         null,
         null,
         "Bedeutung des Espressos in der italienischen Kultur",
         "Restaurantkarten Espresso Preis Liste",
         "Restaurantkarten italienisch, Espresso Preis",
         null,
         null,
         "5",
         "8.0",
         "10.0",
         null,
         null
        ],
        [
         "49",
         null,
         null,
         null,
         null,
         null,
         null,
         "execute_agentic_rag",
         "execute_agentic_rag",
         "execute_agentic_rag",
         null,
         null,
         "Bedeutung des Espressos in der italienischen Kultur",
         "Restaurantkarten Espresso Preis Liste",
         "Restaurantkarten italienisch, Espresso Preis",
         null,
         null,
         "5",
         "8.0",
         "10.0",
         null,
         null
        ]
       ],
       "shape": {
        "columns": 21,
        "rows": 200
       }
      },
      "text/html": [
       "<div>\n",
       "<style scoped>\n",
       "    .dataframe tbody tr th:only-of-type {\n",
       "        vertical-align: middle;\n",
       "    }\n",
       "\n",
       "    .dataframe tbody tr th {\n",
       "        vertical-align: top;\n",
       "    }\n",
       "\n",
       "    .dataframe thead th {\n",
       "        text-align: right;\n",
       "    }\n",
       "</style>\n",
       "<table border=\"1\" class=\"dataframe\">\n",
       "  <thead>\n",
       "    <tr style=\"text-align: right;\">\n",
       "      <th></th>\n",
       "      <th>answer_recall</th>\n",
       "      <th>answer_precision</th>\n",
       "      <th>retrieval_recall</th>\n",
       "      <th>retrieval_precision</th>\n",
       "      <th>total_tokens</th>\n",
       "      <th>question_id</th>\n",
       "      <th>name_0</th>\n",
       "      <th>name_1</th>\n",
       "      <th>name_2</th>\n",
       "      <th>name_3</th>\n",
       "      <th>...</th>\n",
       "      <th>query_0</th>\n",
       "      <th>query_1</th>\n",
       "      <th>query_2</th>\n",
       "      <th>query_3</th>\n",
       "      <th>query_4</th>\n",
       "      <th>top_k_0</th>\n",
       "      <th>top_k_1</th>\n",
       "      <th>top_k_2</th>\n",
       "      <th>top_k_3</th>\n",
       "      <th>top_k_4</th>\n",
       "    </tr>\n",
       "  </thead>\n",
       "  <tbody>\n",
       "    <tr>\n",
       "      <th>0</th>\n",
       "      <td>0.333333</td>\n",
       "      <td>0.250000</td>\n",
       "      <td>0.000</td>\n",
       "      <td>0.035714</td>\n",
       "      <td>14546.0</td>\n",
       "      <td>1.0</td>\n",
       "      <td>execute_agentic_rag</td>\n",
       "      <td>execute_agentic_rag</td>\n",
       "      <td>execute_agentic_rag</td>\n",
       "      <td>execute_agentic_rag</td>\n",
       "      <td>...</td>\n",
       "      <td>Espresso Preis Anton's Pizza</td>\n",
       "      <td>Espresso Preis Il sogno de Anton</td>\n",
       "      <td>Kaffeespezialitäten Preise Il sogno de Anton G...</td>\n",
       "      <td>Espresso Getränkepreise Il sogno de Anton</td>\n",
       "      <td>NaN</td>\n",
       "      <td>5</td>\n",
       "      <td>5.0</td>\n",
       "      <td>8.0</td>\n",
       "      <td>10.0</td>\n",
       "      <td>NaN</td>\n",
       "    </tr>\n",
       "    <tr>\n",
       "      <th>1</th>\n",
       "      <td>0.500000</td>\n",
       "      <td>0.857143</td>\n",
       "      <td>0.625</td>\n",
       "      <td>0.125000</td>\n",
       "      <td>3525.0</td>\n",
       "      <td>2.0</td>\n",
       "      <td>execute_agentic_rag</td>\n",
       "      <td>execute_agentic_rag</td>\n",
       "      <td>execute_agentic_rag</td>\n",
       "      <td>execute_agentic_rag</td>\n",
       "      <td>...</td>\n",
       "      <td>Espresso Preis Anton's Pizza</td>\n",
       "      <td>Espresso Preis Il sogno de Anton</td>\n",
       "      <td>Kaffeespezialitäten Preise Il sogno de Anton G...</td>\n",
       "      <td>Espresso Getränkepreise Il sogno de Anton</td>\n",
       "      <td>NaN</td>\n",
       "      <td>5</td>\n",
       "      <td>5.0</td>\n",
       "      <td>8.0</td>\n",
       "      <td>10.0</td>\n",
       "      <td>NaN</td>\n",
       "    </tr>\n",
       "    <tr>\n",
       "      <th>2</th>\n",
       "      <td>0.875000</td>\n",
       "      <td>0.500000</td>\n",
       "      <td>0.375</td>\n",
       "      <td>0.200000</td>\n",
       "      <td>7561.0</td>\n",
       "      <td>3.0</td>\n",
       "      <td>execute_agentic_rag</td>\n",
       "      <td>execute_agentic_rag</td>\n",
       "      <td>execute_agentic_rag</td>\n",
       "      <td>execute_agentic_rag</td>\n",
       "      <td>...</td>\n",
       "      <td>Espresso Preis Anton's Pizza</td>\n",
       "      <td>Espresso Preis Il sogno de Anton</td>\n",
       "      <td>Kaffeespezialitäten Preise Il sogno de Anton G...</td>\n",
       "      <td>Espresso Getränkepreise Il sogno de Anton</td>\n",
       "      <td>NaN</td>\n",
       "      <td>5</td>\n",
       "      <td>5.0</td>\n",
       "      <td>8.0</td>\n",
       "      <td>10.0</td>\n",
       "      <td>NaN</td>\n",
       "    </tr>\n",
       "    <tr>\n",
       "      <th>3</th>\n",
       "      <td>0.600000</td>\n",
       "      <td>1.000000</td>\n",
       "      <td>0.800</td>\n",
       "      <td>0.500000</td>\n",
       "      <td>2581.0</td>\n",
       "      <td>4.0</td>\n",
       "      <td>execute_agentic_rag</td>\n",
       "      <td>execute_agentic_rag</td>\n",
       "      <td>execute_agentic_rag</td>\n",
       "      <td>execute_agentic_rag</td>\n",
       "      <td>...</td>\n",
       "      <td>Espresso Preis Anton's Pizza</td>\n",
       "      <td>Espresso Preis Il sogno de Anton</td>\n",
       "      <td>Kaffeespezialitäten Preise Il sogno de Anton G...</td>\n",
       "      <td>Espresso Getränkepreise Il sogno de Anton</td>\n",
       "      <td>NaN</td>\n",
       "      <td>5</td>\n",
       "      <td>5.0</td>\n",
       "      <td>8.0</td>\n",
       "      <td>10.0</td>\n",
       "      <td>NaN</td>\n",
       "    </tr>\n",
       "    <tr>\n",
       "      <th>4</th>\n",
       "      <td>0.833333</td>\n",
       "      <td>0.888889</td>\n",
       "      <td>0.875</td>\n",
       "      <td>0.384615</td>\n",
       "      <td>9318.0</td>\n",
       "      <td>5.0</td>\n",
       "      <td>execute_agentic_rag</td>\n",
       "      <td>execute_agentic_rag</td>\n",
       "      <td>execute_agentic_rag</td>\n",
       "      <td>execute_agentic_rag</td>\n",
       "      <td>...</td>\n",
       "      <td>Espresso Preis Anton's Pizza</td>\n",
       "      <td>Espresso Preis Il sogno de Anton</td>\n",
       "      <td>Kaffeespezialitäten Preise Il sogno de Anton G...</td>\n",
       "      <td>Espresso Getränkepreise Il sogno de Anton</td>\n",
       "      <td>NaN</td>\n",
       "      <td>5</td>\n",
       "      <td>5.0</td>\n",
       "      <td>8.0</td>\n",
       "      <td>10.0</td>\n",
       "      <td>NaN</td>\n",
       "    </tr>\n",
       "    <tr>\n",
       "      <th>...</th>\n",
       "      <td>...</td>\n",
       "      <td>...</td>\n",
       "      <td>...</td>\n",
       "      <td>...</td>\n",
       "      <td>...</td>\n",
       "      <td>...</td>\n",
       "      <td>...</td>\n",
       "      <td>...</td>\n",
       "      <td>...</td>\n",
       "      <td>...</td>\n",
       "      <td>...</td>\n",
       "      <td>...</td>\n",
       "      <td>...</td>\n",
       "      <td>...</td>\n",
       "      <td>...</td>\n",
       "      <td>...</td>\n",
       "      <td>...</td>\n",
       "      <td>...</td>\n",
       "      <td>...</td>\n",
       "      <td>...</td>\n",
       "      <td>...</td>\n",
       "    </tr>\n",
       "    <tr>\n",
       "      <th>195</th>\n",
       "      <td>NaN</td>\n",
       "      <td>NaN</td>\n",
       "      <td>NaN</td>\n",
       "      <td>NaN</td>\n",
       "      <td>NaN</td>\n",
       "      <td>NaN</td>\n",
       "      <td>execute_agentic_rag</td>\n",
       "      <td>NaN</td>\n",
       "      <td>NaN</td>\n",
       "      <td>NaN</td>\n",
       "      <td>...</td>\n",
       "      <td>Gerichte und Preise von der Speisekarte von Tö...</td>\n",
       "      <td>NaN</td>\n",
       "      <td>NaN</td>\n",
       "      <td>NaN</td>\n",
       "      <td>NaN</td>\n",
       "      <td>5</td>\n",
       "      <td>NaN</td>\n",
       "      <td>NaN</td>\n",
       "      <td>NaN</td>\n",
       "      <td>NaN</td>\n",
       "    </tr>\n",
       "    <tr>\n",
       "      <th>196</th>\n",
       "      <td>NaN</td>\n",
       "      <td>NaN</td>\n",
       "      <td>NaN</td>\n",
       "      <td>NaN</td>\n",
       "      <td>NaN</td>\n",
       "      <td>NaN</td>\n",
       "      <td>execute_agentic_rag</td>\n",
       "      <td>NaN</td>\n",
       "      <td>NaN</td>\n",
       "      <td>NaN</td>\n",
       "      <td>...</td>\n",
       "      <td>Gerichte und Preise von der Speisekarte von Tö...</td>\n",
       "      <td>NaN</td>\n",
       "      <td>NaN</td>\n",
       "      <td>NaN</td>\n",
       "      <td>NaN</td>\n",
       "      <td>5</td>\n",
       "      <td>NaN</td>\n",
       "      <td>NaN</td>\n",
       "      <td>NaN</td>\n",
       "      <td>NaN</td>\n",
       "    </tr>\n",
       "    <tr>\n",
       "      <th>197</th>\n",
       "      <td>NaN</td>\n",
       "      <td>NaN</td>\n",
       "      <td>NaN</td>\n",
       "      <td>NaN</td>\n",
       "      <td>NaN</td>\n",
       "      <td>NaN</td>\n",
       "      <td>execute_agentic_rag</td>\n",
       "      <td>NaN</td>\n",
       "      <td>NaN</td>\n",
       "      <td>NaN</td>\n",
       "      <td>...</td>\n",
       "      <td>Gerichte und Preise von der Speisekarte von Tö...</td>\n",
       "      <td>NaN</td>\n",
       "      <td>NaN</td>\n",
       "      <td>NaN</td>\n",
       "      <td>NaN</td>\n",
       "      <td>5</td>\n",
       "      <td>NaN</td>\n",
       "      <td>NaN</td>\n",
       "      <td>NaN</td>\n",
       "      <td>NaN</td>\n",
       "    </tr>\n",
       "    <tr>\n",
       "      <th>198</th>\n",
       "      <td>NaN</td>\n",
       "      <td>NaN</td>\n",
       "      <td>NaN</td>\n",
       "      <td>NaN</td>\n",
       "      <td>NaN</td>\n",
       "      <td>NaN</td>\n",
       "      <td>execute_agentic_rag</td>\n",
       "      <td>NaN</td>\n",
       "      <td>NaN</td>\n",
       "      <td>NaN</td>\n",
       "      <td>...</td>\n",
       "      <td>Gerichte und Preise von der Speisekarte von Tö...</td>\n",
       "      <td>NaN</td>\n",
       "      <td>NaN</td>\n",
       "      <td>NaN</td>\n",
       "      <td>NaN</td>\n",
       "      <td>5</td>\n",
       "      <td>NaN</td>\n",
       "      <td>NaN</td>\n",
       "      <td>NaN</td>\n",
       "      <td>NaN</td>\n",
       "    </tr>\n",
       "    <tr>\n",
       "      <th>199</th>\n",
       "      <td>NaN</td>\n",
       "      <td>NaN</td>\n",
       "      <td>NaN</td>\n",
       "      <td>NaN</td>\n",
       "      <td>NaN</td>\n",
       "      <td>NaN</td>\n",
       "      <td>execute_agentic_rag</td>\n",
       "      <td>NaN</td>\n",
       "      <td>NaN</td>\n",
       "      <td>NaN</td>\n",
       "      <td>...</td>\n",
       "      <td>Gerichte und Preise von der Speisekarte von Tö...</td>\n",
       "      <td>NaN</td>\n",
       "      <td>NaN</td>\n",
       "      <td>NaN</td>\n",
       "      <td>NaN</td>\n",
       "      <td>5</td>\n",
       "      <td>NaN</td>\n",
       "      <td>NaN</td>\n",
       "      <td>NaN</td>\n",
       "      <td>NaN</td>\n",
       "    </tr>\n",
       "  </tbody>\n",
       "</table>\n",
       "<p>200 rows × 21 columns</p>\n",
       "</div>"
      ],
      "text/plain": [
       "     answer_recall  answer_precision  retrieval_recall  retrieval_precision  \\\n",
       "0         0.333333          0.250000             0.000             0.035714   \n",
       "1         0.500000          0.857143             0.625             0.125000   \n",
       "2         0.875000          0.500000             0.375             0.200000   \n",
       "3         0.600000          1.000000             0.800             0.500000   \n",
       "4         0.833333          0.888889             0.875             0.384615   \n",
       "..             ...               ...               ...                  ...   \n",
       "195            NaN               NaN               NaN                  NaN   \n",
       "196            NaN               NaN               NaN                  NaN   \n",
       "197            NaN               NaN               NaN                  NaN   \n",
       "198            NaN               NaN               NaN                  NaN   \n",
       "199            NaN               NaN               NaN                  NaN   \n",
       "\n",
       "     total_tokens  question_id               name_0               name_1  \\\n",
       "0         14546.0          1.0  execute_agentic_rag  execute_agentic_rag   \n",
       "1          3525.0          2.0  execute_agentic_rag  execute_agentic_rag   \n",
       "2          7561.0          3.0  execute_agentic_rag  execute_agentic_rag   \n",
       "3          2581.0          4.0  execute_agentic_rag  execute_agentic_rag   \n",
       "4          9318.0          5.0  execute_agentic_rag  execute_agentic_rag   \n",
       "..            ...          ...                  ...                  ...   \n",
       "195           NaN          NaN  execute_agentic_rag                  NaN   \n",
       "196           NaN          NaN  execute_agentic_rag                  NaN   \n",
       "197           NaN          NaN  execute_agentic_rag                  NaN   \n",
       "198           NaN          NaN  execute_agentic_rag                  NaN   \n",
       "199           NaN          NaN  execute_agentic_rag                  NaN   \n",
       "\n",
       "                  name_2               name_3  ...  \\\n",
       "0    execute_agentic_rag  execute_agentic_rag  ...   \n",
       "1    execute_agentic_rag  execute_agentic_rag  ...   \n",
       "2    execute_agentic_rag  execute_agentic_rag  ...   \n",
       "3    execute_agentic_rag  execute_agentic_rag  ...   \n",
       "4    execute_agentic_rag  execute_agentic_rag  ...   \n",
       "..                   ...                  ...  ...   \n",
       "195                  NaN                  NaN  ...   \n",
       "196                  NaN                  NaN  ...   \n",
       "197                  NaN                  NaN  ...   \n",
       "198                  NaN                  NaN  ...   \n",
       "199                  NaN                  NaN  ...   \n",
       "\n",
       "                                               query_0  \\\n",
       "0                         Espresso Preis Anton's Pizza   \n",
       "1                         Espresso Preis Anton's Pizza   \n",
       "2                         Espresso Preis Anton's Pizza   \n",
       "3                         Espresso Preis Anton's Pizza   \n",
       "4                         Espresso Preis Anton's Pizza   \n",
       "..                                                 ...   \n",
       "195  Gerichte und Preise von der Speisekarte von Tö...   \n",
       "196  Gerichte und Preise von der Speisekarte von Tö...   \n",
       "197  Gerichte und Preise von der Speisekarte von Tö...   \n",
       "198  Gerichte und Preise von der Speisekarte von Tö...   \n",
       "199  Gerichte und Preise von der Speisekarte von Tö...   \n",
       "\n",
       "                              query_1  \\\n",
       "0    Espresso Preis Il sogno de Anton   \n",
       "1    Espresso Preis Il sogno de Anton   \n",
       "2    Espresso Preis Il sogno de Anton   \n",
       "3    Espresso Preis Il sogno de Anton   \n",
       "4    Espresso Preis Il sogno de Anton   \n",
       "..                                ...   \n",
       "195                               NaN   \n",
       "196                               NaN   \n",
       "197                               NaN   \n",
       "198                               NaN   \n",
       "199                               NaN   \n",
       "\n",
       "                                               query_2  \\\n",
       "0    Kaffeespezialitäten Preise Il sogno de Anton G...   \n",
       "1    Kaffeespezialitäten Preise Il sogno de Anton G...   \n",
       "2    Kaffeespezialitäten Preise Il sogno de Anton G...   \n",
       "3    Kaffeespezialitäten Preise Il sogno de Anton G...   \n",
       "4    Kaffeespezialitäten Preise Il sogno de Anton G...   \n",
       "..                                                 ...   \n",
       "195                                                NaN   \n",
       "196                                                NaN   \n",
       "197                                                NaN   \n",
       "198                                                NaN   \n",
       "199                                                NaN   \n",
       "\n",
       "                                       query_3 query_4  top_k_0  top_k_1  \\\n",
       "0    Espresso Getränkepreise Il sogno de Anton     NaN        5      5.0   \n",
       "1    Espresso Getränkepreise Il sogno de Anton     NaN        5      5.0   \n",
       "2    Espresso Getränkepreise Il sogno de Anton     NaN        5      5.0   \n",
       "3    Espresso Getränkepreise Il sogno de Anton     NaN        5      5.0   \n",
       "4    Espresso Getränkepreise Il sogno de Anton     NaN        5      5.0   \n",
       "..                                         ...     ...      ...      ...   \n",
       "195                                        NaN     NaN        5      NaN   \n",
       "196                                        NaN     NaN        5      NaN   \n",
       "197                                        NaN     NaN        5      NaN   \n",
       "198                                        NaN     NaN        5      NaN   \n",
       "199                                        NaN     NaN        5      NaN   \n",
       "\n",
       "     top_k_2  top_k_3  top_k_4  \n",
       "0        8.0     10.0      NaN  \n",
       "1        8.0     10.0      NaN  \n",
       "2        8.0     10.0      NaN  \n",
       "3        8.0     10.0      NaN  \n",
       "4        8.0     10.0      NaN  \n",
       "..       ...      ...      ...  \n",
       "195      NaN      NaN      NaN  \n",
       "196      NaN      NaN      NaN  \n",
       "197      NaN      NaN      NaN  \n",
       "198      NaN      NaN      NaN  \n",
       "199      NaN      NaN      NaN  \n",
       "\n",
       "[200 rows x 21 columns]"
      ]
     },
     "execution_count": 19,
     "metadata": {},
     "output_type": "execute_result"
    }
   ],
   "source": [
    "df_agentic = pd.read_csv(\"df_agentic.csv\")\n",
    "df_agentic"
   ]
  },
  {
   "cell_type": "markdown",
   "id": "d1726fcc",
   "metadata": {},
   "source": [
    "## Evaluation Plain RAG"
   ]
  },
  {
   "cell_type": "code",
   "execution_count": 23,
   "id": "e3ec3b65",
   "metadata": {},
   "outputs": [
    {
     "name": "stderr",
     "output_type": "stream",
     "text": [
      "PromptBuilder has 2 prompt variables, but `required_variables` is not set. By default, all prompt variables are treated as optional, which may lead to unintended behavior in multi-branch pipelines. To avoid unexpected execution, ensure that variables intended to be required are explicitly set in `required_variables`.\n",
      "Batches: 100%|██████████| 1/1 [00:00<00:00, 20.06it/s]\n",
      "Batches: 100%|██████████| 1/1 [00:00<00:00, 31.19it/s]\n",
      "Batches: 100%|██████████| 1/1 [00:00<00:00, 24.15it/s]\n"
     ]
    },
    {
     "ename": "KeyboardInterrupt",
     "evalue": "",
     "output_type": "error",
     "traceback": [
      "\u001b[31m---------------------------------------------------------------------------\u001b[39m",
      "\u001b[31mKeyboardInterrupt\u001b[39m                         Traceback (most recent call last)",
      "\u001b[36mCell\u001b[39m\u001b[36m \u001b[39m\u001b[32mIn[23]\u001b[39m\u001b[32m, line 16\u001b[39m\n\u001b[32m     11\u001b[39m token_usage = []\n\u001b[32m     13\u001b[39m \u001b[38;5;28;01mfor\u001b[39;00m idx, query \u001b[38;5;129;01min\u001b[39;00m \u001b[38;5;28menumerate\u001b[39m(queries):\n\u001b[32m     14\u001b[39m \n\u001b[32m     15\u001b[39m     \u001b[38;5;66;03m# run RAG\u001b[39;00m\n\u001b[32m---> \u001b[39m\u001b[32m16\u001b[39m     result = \u001b[43mbasic_rag\u001b[49m\u001b[43m.\u001b[49m\u001b[43mrun\u001b[49m\u001b[43m(\u001b[49m\u001b[43m{\u001b[49m\u001b[33;43m\"\u001b[39;49m\u001b[33;43mquery_embedder\u001b[39;49m\u001b[33;43m\"\u001b[39;49m\u001b[43m:\u001b[49m\u001b[43m{\u001b[49m\u001b[33;43m\"\u001b[39;49m\u001b[33;43mtext\u001b[39;49m\u001b[33;43m\"\u001b[39;49m\u001b[43m:\u001b[49m\u001b[43m \u001b[49m\u001b[43mquery\u001b[49m\u001b[43m}\u001b[49m\u001b[43m,\u001b[49m\u001b[43m \u001b[49m\n\u001b[32m     17\u001b[39m \u001b[43m                            \u001b[49m\u001b[33;43m\"\u001b[39;49m\u001b[33;43mprompt_builder\u001b[39;49m\u001b[33;43m\"\u001b[39;49m\u001b[43m:\u001b[49m\u001b[43m{\u001b[49m\u001b[33;43m\"\u001b[39;49m\u001b[33;43mquestion\u001b[39;49m\u001b[33;43m\"\u001b[39;49m\u001b[43m:\u001b[49m\u001b[43m \u001b[49m\u001b[43mquery\u001b[49m\u001b[43m}\u001b[49m\u001b[43m}\u001b[49m\u001b[43m,\u001b[49m\u001b[43m \u001b[49m\n\u001b[32m     18\u001b[39m \u001b[43m                            \u001b[49m\u001b[43minclude_outputs_from\u001b[49m\u001b[43m=\u001b[49m\u001b[33;43m\"\u001b[39;49m\u001b[33;43mretriever\u001b[39;49m\u001b[33;43m\"\u001b[39;49m\u001b[43m)\u001b[49m\n\u001b[32m     20\u001b[39m     \u001b[38;5;66;03m# store generated answer\u001b[39;00m\n\u001b[32m     21\u001b[39m     predicted_answers.append(result[\u001b[33m\"\u001b[39m\u001b[33mllm\u001b[39m\u001b[33m\"\u001b[39m][\u001b[33m\"\u001b[39m\u001b[33mreplies\u001b[39m\u001b[33m\"\u001b[39m][\u001b[32m0\u001b[39m])\n",
      "\u001b[36mFile \u001b[39m\u001b[32mc:\\Users\\ANDERBE\\AI-Agent-POC-git\\AI-Agent\\.venv\\Lib\\site-packages\\haystack\\core\\pipeline\\pipeline.py:382\u001b[39m, in \u001b[36mPipeline.run\u001b[39m\u001b[34m(self, data, include_outputs_from, break_point, pipeline_snapshot)\u001b[39m\n\u001b[32m    377\u001b[39m         \u001b[38;5;28;01mif\u001b[39;00m should_trigger_breakpoint:\n\u001b[32m    378\u001b[39m             _trigger_break_point(\n\u001b[32m    379\u001b[39m                 pipeline_snapshot=new_pipeline_snapshot, pipeline_outputs=pipeline_outputs\n\u001b[32m    380\u001b[39m             )\n\u001b[32m--> \u001b[39m\u001b[32m382\u001b[39m component_outputs = \u001b[38;5;28;43mself\u001b[39;49m\u001b[43m.\u001b[49m\u001b[43m_run_component\u001b[49m\u001b[43m(\u001b[49m\n\u001b[32m    383\u001b[39m \u001b[43m    \u001b[49m\u001b[43mcomponent_name\u001b[49m\u001b[43m=\u001b[49m\u001b[43mcomponent_name\u001b[49m\u001b[43m,\u001b[49m\n\u001b[32m    384\u001b[39m \u001b[43m    \u001b[49m\u001b[43mcomponent\u001b[49m\u001b[43m=\u001b[49m\u001b[43mcomponent\u001b[49m\u001b[43m,\u001b[49m\n\u001b[32m    385\u001b[39m \u001b[43m    \u001b[49m\u001b[43minputs\u001b[49m\u001b[43m=\u001b[49m\u001b[43mcomponent_inputs\u001b[49m\u001b[43m,\u001b[49m\u001b[43m  \u001b[49m\u001b[38;5;66;43;03m# the inputs to the current component\u001b[39;49;00m\n\u001b[32m    386\u001b[39m \u001b[43m    \u001b[49m\u001b[43mcomponent_visits\u001b[49m\u001b[43m=\u001b[49m\u001b[43mcomponent_visits\u001b[49m\u001b[43m,\u001b[49m\n\u001b[32m    387\u001b[39m \u001b[43m    \u001b[49m\u001b[43mparent_span\u001b[49m\u001b[43m=\u001b[49m\u001b[43mspan\u001b[49m\u001b[43m,\u001b[49m\n\u001b[32m    388\u001b[39m \u001b[43m\u001b[49m\u001b[43m)\u001b[49m\n\u001b[32m    390\u001b[39m \u001b[38;5;66;03m# Updates global input state with component outputs and returns outputs that should go to\u001b[39;00m\n\u001b[32m    391\u001b[39m \u001b[38;5;66;03m# pipeline outputs.\u001b[39;00m\n\u001b[32m    392\u001b[39m component_pipeline_outputs = \u001b[38;5;28mself\u001b[39m._write_component_outputs(\n\u001b[32m    393\u001b[39m     component_name=component_name,\n\u001b[32m    394\u001b[39m     component_outputs=component_outputs,\n\u001b[32m   (...)\u001b[39m\u001b[32m    397\u001b[39m     include_outputs_from=include_outputs_from,\n\u001b[32m    398\u001b[39m )\n",
      "\u001b[36mFile \u001b[39m\u001b[32mc:\\Users\\ANDERBE\\AI-Agent-POC-git\\AI-Agent\\.venv\\Lib\\site-packages\\haystack\\core\\pipeline\\pipeline.py:70\u001b[39m, in \u001b[36mPipeline._run_component\u001b[39m\u001b[34m(component_name, component, inputs, component_visits, parent_span)\u001b[39m\n\u001b[32m     67\u001b[39m logger.info(\u001b[33m\"\u001b[39m\u001b[33mRunning component \u001b[39m\u001b[38;5;132;01m{component_name}\u001b[39;00m\u001b[33m\"\u001b[39m, component_name=component_name)\n\u001b[32m     69\u001b[39m \u001b[38;5;28;01mtry\u001b[39;00m:\n\u001b[32m---> \u001b[39m\u001b[32m70\u001b[39m     component_output = \u001b[43minstance\u001b[49m\u001b[43m.\u001b[49m\u001b[43mrun\u001b[49m\u001b[43m(\u001b[49m\u001b[43m*\u001b[49m\u001b[43m*\u001b[49m\u001b[43minputs\u001b[49m\u001b[43m)\u001b[49m\n\u001b[32m     71\u001b[39m \u001b[38;5;28;01mexcept\u001b[39;00m BreakpointException \u001b[38;5;28;01mas\u001b[39;00m error:\n\u001b[32m     72\u001b[39m     \u001b[38;5;66;03m# Re-raise BreakpointException to preserve the original exception context\u001b[39;00m\n\u001b[32m     73\u001b[39m     \u001b[38;5;66;03m# This is important when Agent components internally use Pipeline._run_component\u001b[39;00m\n\u001b[32m     74\u001b[39m     \u001b[38;5;66;03m# and trigger breakpoints that need to bubble up to the main pipeline\u001b[39;00m\n\u001b[32m     75\u001b[39m     \u001b[38;5;28;01mraise\u001b[39;00m error\n",
      "\u001b[36mFile \u001b[39m\u001b[32mc:\\Users\\ANDERBE\\AI-Agent-POC-git\\AI-Agent\\.venv\\Lib\\site-packages\\haystack\\components\\generators\\openai.py:232\u001b[39m, in \u001b[36mOpenAIGenerator.run\u001b[39m\u001b[34m(self, prompt, system_prompt, streaming_callback, generation_kwargs)\u001b[39m\n\u001b[32m    229\u001b[39m \u001b[38;5;66;03m# adapt ChatMessage(s) to the format expected by the OpenAI API\u001b[39;00m\n\u001b[32m    230\u001b[39m openai_formatted_messages = [message.to_openai_dict_format() \u001b[38;5;28;01mfor\u001b[39;00m message \u001b[38;5;129;01min\u001b[39;00m messages]\n\u001b[32m--> \u001b[39m\u001b[32m232\u001b[39m completion: Union[Stream[ChatCompletionChunk], ChatCompletion] = \u001b[38;5;28;43mself\u001b[39;49m\u001b[43m.\u001b[49m\u001b[43mclient\u001b[49m\u001b[43m.\u001b[49m\u001b[43mchat\u001b[49m\u001b[43m.\u001b[49m\u001b[43mcompletions\u001b[49m\u001b[43m.\u001b[49m\u001b[43mcreate\u001b[49m\u001b[43m(\u001b[49m\n\u001b[32m    233\u001b[39m \u001b[43m    \u001b[49m\u001b[43mmodel\u001b[49m\u001b[43m=\u001b[49m\u001b[38;5;28;43mself\u001b[39;49m\u001b[43m.\u001b[49m\u001b[43mmodel\u001b[49m\u001b[43m,\u001b[49m\n\u001b[32m    234\u001b[39m \u001b[43m    \u001b[49m\u001b[43mmessages\u001b[49m\u001b[43m=\u001b[49m\u001b[43mopenai_formatted_messages\u001b[49m\u001b[43m,\u001b[49m\u001b[43m  \u001b[49m\u001b[38;5;66;43;03m# type: ignore\u001b[39;49;00m\n\u001b[32m    235\u001b[39m \u001b[43m    \u001b[49m\u001b[43mstream\u001b[49m\u001b[43m=\u001b[49m\u001b[43mstreaming_callback\u001b[49m\u001b[43m \u001b[49m\u001b[38;5;129;43;01mis\u001b[39;49;00m\u001b[43m \u001b[49m\u001b[38;5;129;43;01mnot\u001b[39;49;00m\u001b[43m \u001b[49m\u001b[38;5;28;43;01mNone\u001b[39;49;00m\u001b[43m,\u001b[49m\n\u001b[32m    236\u001b[39m \u001b[43m    \u001b[49m\u001b[43m*\u001b[49m\u001b[43m*\u001b[49m\u001b[43mgeneration_kwargs\u001b[49m\u001b[43m,\u001b[49m\n\u001b[32m    237\u001b[39m \u001b[43m\u001b[49m\u001b[43m)\u001b[49m\n\u001b[32m    239\u001b[39m completions: List[ChatMessage] = []\n\u001b[32m    240\u001b[39m \u001b[38;5;28;01mif\u001b[39;00m streaming_callback \u001b[38;5;129;01mis\u001b[39;00m \u001b[38;5;129;01mnot\u001b[39;00m \u001b[38;5;28;01mNone\u001b[39;00m:\n",
      "\u001b[36mFile \u001b[39m\u001b[32mc:\\Users\\ANDERBE\\AI-Agent-POC-git\\AI-Agent\\.venv\\Lib\\site-packages\\openai\\_utils\\_utils.py:287\u001b[39m, in \u001b[36mrequired_args.<locals>.inner.<locals>.wrapper\u001b[39m\u001b[34m(*args, **kwargs)\u001b[39m\n\u001b[32m    285\u001b[39m             msg = \u001b[33mf\u001b[39m\u001b[33m\"\u001b[39m\u001b[33mMissing required argument: \u001b[39m\u001b[38;5;132;01m{\u001b[39;00mquote(missing[\u001b[32m0\u001b[39m])\u001b[38;5;132;01m}\u001b[39;00m\u001b[33m\"\u001b[39m\n\u001b[32m    286\u001b[39m     \u001b[38;5;28;01mraise\u001b[39;00m \u001b[38;5;167;01mTypeError\u001b[39;00m(msg)\n\u001b[32m--> \u001b[39m\u001b[32m287\u001b[39m \u001b[38;5;28;01mreturn\u001b[39;00m \u001b[43mfunc\u001b[49m\u001b[43m(\u001b[49m\u001b[43m*\u001b[49m\u001b[43margs\u001b[49m\u001b[43m,\u001b[49m\u001b[43m \u001b[49m\u001b[43m*\u001b[49m\u001b[43m*\u001b[49m\u001b[43mkwargs\u001b[49m\u001b[43m)\u001b[49m\n",
      "\u001b[36mFile \u001b[39m\u001b[32mc:\\Users\\ANDERBE\\AI-Agent-POC-git\\AI-Agent\\.venv\\Lib\\site-packages\\openai\\resources\\chat\\completions\\completions.py:1150\u001b[39m, in \u001b[36mCompletions.create\u001b[39m\u001b[34m(self, messages, model, audio, frequency_penalty, function_call, functions, logit_bias, logprobs, max_completion_tokens, max_tokens, metadata, modalities, n, parallel_tool_calls, prediction, presence_penalty, prompt_cache_key, reasoning_effort, response_format, safety_identifier, seed, service_tier, stop, store, stream, stream_options, temperature, tool_choice, tools, top_logprobs, top_p, user, verbosity, web_search_options, extra_headers, extra_query, extra_body, timeout)\u001b[39m\n\u001b[32m   1104\u001b[39m \u001b[38;5;129m@required_args\u001b[39m([\u001b[33m\"\u001b[39m\u001b[33mmessages\u001b[39m\u001b[33m\"\u001b[39m, \u001b[33m\"\u001b[39m\u001b[33mmodel\u001b[39m\u001b[33m\"\u001b[39m], [\u001b[33m\"\u001b[39m\u001b[33mmessages\u001b[39m\u001b[33m\"\u001b[39m, \u001b[33m\"\u001b[39m\u001b[33mmodel\u001b[39m\u001b[33m\"\u001b[39m, \u001b[33m\"\u001b[39m\u001b[33mstream\u001b[39m\u001b[33m\"\u001b[39m])\n\u001b[32m   1105\u001b[39m \u001b[38;5;28;01mdef\u001b[39;00m\u001b[38;5;250m \u001b[39m\u001b[34mcreate\u001b[39m(\n\u001b[32m   1106\u001b[39m     \u001b[38;5;28mself\u001b[39m,\n\u001b[32m   (...)\u001b[39m\u001b[32m   1147\u001b[39m     timeout: \u001b[38;5;28mfloat\u001b[39m | httpx.Timeout | \u001b[38;5;28;01mNone\u001b[39;00m | NotGiven = NOT_GIVEN,\n\u001b[32m   1148\u001b[39m ) -> ChatCompletion | Stream[ChatCompletionChunk]:\n\u001b[32m   1149\u001b[39m     validate_response_format(response_format)\n\u001b[32m-> \u001b[39m\u001b[32m1150\u001b[39m     \u001b[38;5;28;01mreturn\u001b[39;00m \u001b[38;5;28;43mself\u001b[39;49m\u001b[43m.\u001b[49m\u001b[43m_post\u001b[49m\u001b[43m(\u001b[49m\n\u001b[32m   1151\u001b[39m \u001b[43m        \u001b[49m\u001b[33;43m\"\u001b[39;49m\u001b[33;43m/chat/completions\u001b[39;49m\u001b[33;43m\"\u001b[39;49m\u001b[43m,\u001b[49m\n\u001b[32m   1152\u001b[39m \u001b[43m        \u001b[49m\u001b[43mbody\u001b[49m\u001b[43m=\u001b[49m\u001b[43mmaybe_transform\u001b[49m\u001b[43m(\u001b[49m\n\u001b[32m   1153\u001b[39m \u001b[43m            \u001b[49m\u001b[43m{\u001b[49m\n\u001b[32m   1154\u001b[39m \u001b[43m                \u001b[49m\u001b[33;43m\"\u001b[39;49m\u001b[33;43mmessages\u001b[39;49m\u001b[33;43m\"\u001b[39;49m\u001b[43m:\u001b[49m\u001b[43m \u001b[49m\u001b[43mmessages\u001b[49m\u001b[43m,\u001b[49m\n\u001b[32m   1155\u001b[39m \u001b[43m                \u001b[49m\u001b[33;43m\"\u001b[39;49m\u001b[33;43mmodel\u001b[39;49m\u001b[33;43m\"\u001b[39;49m\u001b[43m:\u001b[49m\u001b[43m \u001b[49m\u001b[43mmodel\u001b[49m\u001b[43m,\u001b[49m\n\u001b[32m   1156\u001b[39m \u001b[43m                \u001b[49m\u001b[33;43m\"\u001b[39;49m\u001b[33;43maudio\u001b[39;49m\u001b[33;43m\"\u001b[39;49m\u001b[43m:\u001b[49m\u001b[43m \u001b[49m\u001b[43maudio\u001b[49m\u001b[43m,\u001b[49m\n\u001b[32m   1157\u001b[39m \u001b[43m                \u001b[49m\u001b[33;43m\"\u001b[39;49m\u001b[33;43mfrequency_penalty\u001b[39;49m\u001b[33;43m\"\u001b[39;49m\u001b[43m:\u001b[49m\u001b[43m \u001b[49m\u001b[43mfrequency_penalty\u001b[49m\u001b[43m,\u001b[49m\n\u001b[32m   1158\u001b[39m \u001b[43m                \u001b[49m\u001b[33;43m\"\u001b[39;49m\u001b[33;43mfunction_call\u001b[39;49m\u001b[33;43m\"\u001b[39;49m\u001b[43m:\u001b[49m\u001b[43m \u001b[49m\u001b[43mfunction_call\u001b[49m\u001b[43m,\u001b[49m\n\u001b[32m   1159\u001b[39m \u001b[43m                \u001b[49m\u001b[33;43m\"\u001b[39;49m\u001b[33;43mfunctions\u001b[39;49m\u001b[33;43m\"\u001b[39;49m\u001b[43m:\u001b[49m\u001b[43m \u001b[49m\u001b[43mfunctions\u001b[49m\u001b[43m,\u001b[49m\n\u001b[32m   1160\u001b[39m \u001b[43m                \u001b[49m\u001b[33;43m\"\u001b[39;49m\u001b[33;43mlogit_bias\u001b[39;49m\u001b[33;43m\"\u001b[39;49m\u001b[43m:\u001b[49m\u001b[43m \u001b[49m\u001b[43mlogit_bias\u001b[49m\u001b[43m,\u001b[49m\n\u001b[32m   1161\u001b[39m \u001b[43m                \u001b[49m\u001b[33;43m\"\u001b[39;49m\u001b[33;43mlogprobs\u001b[39;49m\u001b[33;43m\"\u001b[39;49m\u001b[43m:\u001b[49m\u001b[43m \u001b[49m\u001b[43mlogprobs\u001b[49m\u001b[43m,\u001b[49m\n\u001b[32m   1162\u001b[39m \u001b[43m                \u001b[49m\u001b[33;43m\"\u001b[39;49m\u001b[33;43mmax_completion_tokens\u001b[39;49m\u001b[33;43m\"\u001b[39;49m\u001b[43m:\u001b[49m\u001b[43m \u001b[49m\u001b[43mmax_completion_tokens\u001b[49m\u001b[43m,\u001b[49m\n\u001b[32m   1163\u001b[39m \u001b[43m                \u001b[49m\u001b[33;43m\"\u001b[39;49m\u001b[33;43mmax_tokens\u001b[39;49m\u001b[33;43m\"\u001b[39;49m\u001b[43m:\u001b[49m\u001b[43m \u001b[49m\u001b[43mmax_tokens\u001b[49m\u001b[43m,\u001b[49m\n\u001b[32m   1164\u001b[39m \u001b[43m                \u001b[49m\u001b[33;43m\"\u001b[39;49m\u001b[33;43mmetadata\u001b[39;49m\u001b[33;43m\"\u001b[39;49m\u001b[43m:\u001b[49m\u001b[43m \u001b[49m\u001b[43mmetadata\u001b[49m\u001b[43m,\u001b[49m\n\u001b[32m   1165\u001b[39m \u001b[43m                \u001b[49m\u001b[33;43m\"\u001b[39;49m\u001b[33;43mmodalities\u001b[39;49m\u001b[33;43m\"\u001b[39;49m\u001b[43m:\u001b[49m\u001b[43m \u001b[49m\u001b[43mmodalities\u001b[49m\u001b[43m,\u001b[49m\n\u001b[32m   1166\u001b[39m \u001b[43m                \u001b[49m\u001b[33;43m\"\u001b[39;49m\u001b[33;43mn\u001b[39;49m\u001b[33;43m\"\u001b[39;49m\u001b[43m:\u001b[49m\u001b[43m \u001b[49m\u001b[43mn\u001b[49m\u001b[43m,\u001b[49m\n\u001b[32m   1167\u001b[39m \u001b[43m                \u001b[49m\u001b[33;43m\"\u001b[39;49m\u001b[33;43mparallel_tool_calls\u001b[39;49m\u001b[33;43m\"\u001b[39;49m\u001b[43m:\u001b[49m\u001b[43m \u001b[49m\u001b[43mparallel_tool_calls\u001b[49m\u001b[43m,\u001b[49m\n\u001b[32m   1168\u001b[39m \u001b[43m                \u001b[49m\u001b[33;43m\"\u001b[39;49m\u001b[33;43mprediction\u001b[39;49m\u001b[33;43m\"\u001b[39;49m\u001b[43m:\u001b[49m\u001b[43m \u001b[49m\u001b[43mprediction\u001b[49m\u001b[43m,\u001b[49m\n\u001b[32m   1169\u001b[39m \u001b[43m                \u001b[49m\u001b[33;43m\"\u001b[39;49m\u001b[33;43mpresence_penalty\u001b[39;49m\u001b[33;43m\"\u001b[39;49m\u001b[43m:\u001b[49m\u001b[43m \u001b[49m\u001b[43mpresence_penalty\u001b[49m\u001b[43m,\u001b[49m\n\u001b[32m   1170\u001b[39m \u001b[43m                \u001b[49m\u001b[33;43m\"\u001b[39;49m\u001b[33;43mprompt_cache_key\u001b[39;49m\u001b[33;43m\"\u001b[39;49m\u001b[43m:\u001b[49m\u001b[43m \u001b[49m\u001b[43mprompt_cache_key\u001b[49m\u001b[43m,\u001b[49m\n\u001b[32m   1171\u001b[39m \u001b[43m                \u001b[49m\u001b[33;43m\"\u001b[39;49m\u001b[33;43mreasoning_effort\u001b[39;49m\u001b[33;43m\"\u001b[39;49m\u001b[43m:\u001b[49m\u001b[43m \u001b[49m\u001b[43mreasoning_effort\u001b[49m\u001b[43m,\u001b[49m\n\u001b[32m   1172\u001b[39m \u001b[43m                \u001b[49m\u001b[33;43m\"\u001b[39;49m\u001b[33;43mresponse_format\u001b[39;49m\u001b[33;43m\"\u001b[39;49m\u001b[43m:\u001b[49m\u001b[43m \u001b[49m\u001b[43mresponse_format\u001b[49m\u001b[43m,\u001b[49m\n\u001b[32m   1173\u001b[39m \u001b[43m                \u001b[49m\u001b[33;43m\"\u001b[39;49m\u001b[33;43msafety_identifier\u001b[39;49m\u001b[33;43m\"\u001b[39;49m\u001b[43m:\u001b[49m\u001b[43m \u001b[49m\u001b[43msafety_identifier\u001b[49m\u001b[43m,\u001b[49m\n\u001b[32m   1174\u001b[39m \u001b[43m                \u001b[49m\u001b[33;43m\"\u001b[39;49m\u001b[33;43mseed\u001b[39;49m\u001b[33;43m\"\u001b[39;49m\u001b[43m:\u001b[49m\u001b[43m \u001b[49m\u001b[43mseed\u001b[49m\u001b[43m,\u001b[49m\n\u001b[32m   1175\u001b[39m \u001b[43m                \u001b[49m\u001b[33;43m\"\u001b[39;49m\u001b[33;43mservice_tier\u001b[39;49m\u001b[33;43m\"\u001b[39;49m\u001b[43m:\u001b[49m\u001b[43m \u001b[49m\u001b[43mservice_tier\u001b[49m\u001b[43m,\u001b[49m\n\u001b[32m   1176\u001b[39m \u001b[43m                \u001b[49m\u001b[33;43m\"\u001b[39;49m\u001b[33;43mstop\u001b[39;49m\u001b[33;43m\"\u001b[39;49m\u001b[43m:\u001b[49m\u001b[43m \u001b[49m\u001b[43mstop\u001b[49m\u001b[43m,\u001b[49m\n\u001b[32m   1177\u001b[39m \u001b[43m                \u001b[49m\u001b[33;43m\"\u001b[39;49m\u001b[33;43mstore\u001b[39;49m\u001b[33;43m\"\u001b[39;49m\u001b[43m:\u001b[49m\u001b[43m \u001b[49m\u001b[43mstore\u001b[49m\u001b[43m,\u001b[49m\n\u001b[32m   1178\u001b[39m \u001b[43m                \u001b[49m\u001b[33;43m\"\u001b[39;49m\u001b[33;43mstream\u001b[39;49m\u001b[33;43m\"\u001b[39;49m\u001b[43m:\u001b[49m\u001b[43m \u001b[49m\u001b[43mstream\u001b[49m\u001b[43m,\u001b[49m\n\u001b[32m   1179\u001b[39m \u001b[43m                \u001b[49m\u001b[33;43m\"\u001b[39;49m\u001b[33;43mstream_options\u001b[39;49m\u001b[33;43m\"\u001b[39;49m\u001b[43m:\u001b[49m\u001b[43m \u001b[49m\u001b[43mstream_options\u001b[49m\u001b[43m,\u001b[49m\n\u001b[32m   1180\u001b[39m \u001b[43m                \u001b[49m\u001b[33;43m\"\u001b[39;49m\u001b[33;43mtemperature\u001b[39;49m\u001b[33;43m\"\u001b[39;49m\u001b[43m:\u001b[49m\u001b[43m \u001b[49m\u001b[43mtemperature\u001b[49m\u001b[43m,\u001b[49m\n\u001b[32m   1181\u001b[39m \u001b[43m                \u001b[49m\u001b[33;43m\"\u001b[39;49m\u001b[33;43mtool_choice\u001b[39;49m\u001b[33;43m\"\u001b[39;49m\u001b[43m:\u001b[49m\u001b[43m \u001b[49m\u001b[43mtool_choice\u001b[49m\u001b[43m,\u001b[49m\n\u001b[32m   1182\u001b[39m \u001b[43m                \u001b[49m\u001b[33;43m\"\u001b[39;49m\u001b[33;43mtools\u001b[39;49m\u001b[33;43m\"\u001b[39;49m\u001b[43m:\u001b[49m\u001b[43m \u001b[49m\u001b[43mtools\u001b[49m\u001b[43m,\u001b[49m\n\u001b[32m   1183\u001b[39m \u001b[43m                \u001b[49m\u001b[33;43m\"\u001b[39;49m\u001b[33;43mtop_logprobs\u001b[39;49m\u001b[33;43m\"\u001b[39;49m\u001b[43m:\u001b[49m\u001b[43m \u001b[49m\u001b[43mtop_logprobs\u001b[49m\u001b[43m,\u001b[49m\n\u001b[32m   1184\u001b[39m \u001b[43m                \u001b[49m\u001b[33;43m\"\u001b[39;49m\u001b[33;43mtop_p\u001b[39;49m\u001b[33;43m\"\u001b[39;49m\u001b[43m:\u001b[49m\u001b[43m \u001b[49m\u001b[43mtop_p\u001b[49m\u001b[43m,\u001b[49m\n\u001b[32m   1185\u001b[39m \u001b[43m                \u001b[49m\u001b[33;43m\"\u001b[39;49m\u001b[33;43muser\u001b[39;49m\u001b[33;43m\"\u001b[39;49m\u001b[43m:\u001b[49m\u001b[43m \u001b[49m\u001b[43muser\u001b[49m\u001b[43m,\u001b[49m\n\u001b[32m   1186\u001b[39m \u001b[43m                \u001b[49m\u001b[33;43m\"\u001b[39;49m\u001b[33;43mverbosity\u001b[39;49m\u001b[33;43m\"\u001b[39;49m\u001b[43m:\u001b[49m\u001b[43m \u001b[49m\u001b[43mverbosity\u001b[49m\u001b[43m,\u001b[49m\n\u001b[32m   1187\u001b[39m \u001b[43m                \u001b[49m\u001b[33;43m\"\u001b[39;49m\u001b[33;43mweb_search_options\u001b[39;49m\u001b[33;43m\"\u001b[39;49m\u001b[43m:\u001b[49m\u001b[43m \u001b[49m\u001b[43mweb_search_options\u001b[49m\u001b[43m,\u001b[49m\n\u001b[32m   1188\u001b[39m \u001b[43m            \u001b[49m\u001b[43m}\u001b[49m\u001b[43m,\u001b[49m\n\u001b[32m   1189\u001b[39m \u001b[43m            \u001b[49m\u001b[43mcompletion_create_params\u001b[49m\u001b[43m.\u001b[49m\u001b[43mCompletionCreateParamsStreaming\u001b[49m\n\u001b[32m   1190\u001b[39m \u001b[43m            \u001b[49m\u001b[38;5;28;43;01mif\u001b[39;49;00m\u001b[43m \u001b[49m\u001b[43mstream\u001b[49m\n\u001b[32m   1191\u001b[39m \u001b[43m            \u001b[49m\u001b[38;5;28;43;01melse\u001b[39;49;00m\u001b[43m \u001b[49m\u001b[43mcompletion_create_params\u001b[49m\u001b[43m.\u001b[49m\u001b[43mCompletionCreateParamsNonStreaming\u001b[49m\u001b[43m,\u001b[49m\n\u001b[32m   1192\u001b[39m \u001b[43m        \u001b[49m\u001b[43m)\u001b[49m\u001b[43m,\u001b[49m\n\u001b[32m   1193\u001b[39m \u001b[43m        \u001b[49m\u001b[43moptions\u001b[49m\u001b[43m=\u001b[49m\u001b[43mmake_request_options\u001b[49m\u001b[43m(\u001b[49m\n\u001b[32m   1194\u001b[39m \u001b[43m            \u001b[49m\u001b[43mextra_headers\u001b[49m\u001b[43m=\u001b[49m\u001b[43mextra_headers\u001b[49m\u001b[43m,\u001b[49m\u001b[43m \u001b[49m\u001b[43mextra_query\u001b[49m\u001b[43m=\u001b[49m\u001b[43mextra_query\u001b[49m\u001b[43m,\u001b[49m\u001b[43m \u001b[49m\u001b[43mextra_body\u001b[49m\u001b[43m=\u001b[49m\u001b[43mextra_body\u001b[49m\u001b[43m,\u001b[49m\u001b[43m \u001b[49m\u001b[43mtimeout\u001b[49m\u001b[43m=\u001b[49m\u001b[43mtimeout\u001b[49m\n\u001b[32m   1195\u001b[39m \u001b[43m        \u001b[49m\u001b[43m)\u001b[49m\u001b[43m,\u001b[49m\n\u001b[32m   1196\u001b[39m \u001b[43m        \u001b[49m\u001b[43mcast_to\u001b[49m\u001b[43m=\u001b[49m\u001b[43mChatCompletion\u001b[49m\u001b[43m,\u001b[49m\n\u001b[32m   1197\u001b[39m \u001b[43m        \u001b[49m\u001b[43mstream\u001b[49m\u001b[43m=\u001b[49m\u001b[43mstream\u001b[49m\u001b[43m \u001b[49m\u001b[38;5;129;43;01mor\u001b[39;49;00m\u001b[43m \u001b[49m\u001b[38;5;28;43;01mFalse\u001b[39;49;00m\u001b[43m,\u001b[49m\n\u001b[32m   1198\u001b[39m \u001b[43m        \u001b[49m\u001b[43mstream_cls\u001b[49m\u001b[43m=\u001b[49m\u001b[43mStream\u001b[49m\u001b[43m[\u001b[49m\u001b[43mChatCompletionChunk\u001b[49m\u001b[43m]\u001b[49m\u001b[43m,\u001b[49m\n\u001b[32m   1199\u001b[39m \u001b[43m    \u001b[49m\u001b[43m)\u001b[49m\n",
      "\u001b[36mFile \u001b[39m\u001b[32mc:\\Users\\ANDERBE\\AI-Agent-POC-git\\AI-Agent\\.venv\\Lib\\site-packages\\openai\\_base_client.py:1259\u001b[39m, in \u001b[36mSyncAPIClient.post\u001b[39m\u001b[34m(self, path, cast_to, body, options, files, stream, stream_cls)\u001b[39m\n\u001b[32m   1245\u001b[39m \u001b[38;5;28;01mdef\u001b[39;00m\u001b[38;5;250m \u001b[39m\u001b[34mpost\u001b[39m(\n\u001b[32m   1246\u001b[39m     \u001b[38;5;28mself\u001b[39m,\n\u001b[32m   1247\u001b[39m     path: \u001b[38;5;28mstr\u001b[39m,\n\u001b[32m   (...)\u001b[39m\u001b[32m   1254\u001b[39m     stream_cls: \u001b[38;5;28mtype\u001b[39m[_StreamT] | \u001b[38;5;28;01mNone\u001b[39;00m = \u001b[38;5;28;01mNone\u001b[39;00m,\n\u001b[32m   1255\u001b[39m ) -> ResponseT | _StreamT:\n\u001b[32m   1256\u001b[39m     opts = FinalRequestOptions.construct(\n\u001b[32m   1257\u001b[39m         method=\u001b[33m\"\u001b[39m\u001b[33mpost\u001b[39m\u001b[33m\"\u001b[39m, url=path, json_data=body, files=to_httpx_files(files), **options\n\u001b[32m   1258\u001b[39m     )\n\u001b[32m-> \u001b[39m\u001b[32m1259\u001b[39m     \u001b[38;5;28;01mreturn\u001b[39;00m cast(ResponseT, \u001b[38;5;28;43mself\u001b[39;49m\u001b[43m.\u001b[49m\u001b[43mrequest\u001b[49m\u001b[43m(\u001b[49m\u001b[43mcast_to\u001b[49m\u001b[43m,\u001b[49m\u001b[43m \u001b[49m\u001b[43mopts\u001b[49m\u001b[43m,\u001b[49m\u001b[43m \u001b[49m\u001b[43mstream\u001b[49m\u001b[43m=\u001b[49m\u001b[43mstream\u001b[49m\u001b[43m,\u001b[49m\u001b[43m \u001b[49m\u001b[43mstream_cls\u001b[49m\u001b[43m=\u001b[49m\u001b[43mstream_cls\u001b[49m\u001b[43m)\u001b[49m)\n",
      "\u001b[36mFile \u001b[39m\u001b[32mc:\\Users\\ANDERBE\\AI-Agent-POC-git\\AI-Agent\\.venv\\Lib\\site-packages\\openai\\_base_client.py:982\u001b[39m, in \u001b[36mSyncAPIClient.request\u001b[39m\u001b[34m(self, cast_to, options, stream, stream_cls)\u001b[39m\n\u001b[32m    980\u001b[39m response = \u001b[38;5;28;01mNone\u001b[39;00m\n\u001b[32m    981\u001b[39m \u001b[38;5;28;01mtry\u001b[39;00m:\n\u001b[32m--> \u001b[39m\u001b[32m982\u001b[39m     response = \u001b[38;5;28;43mself\u001b[39;49m\u001b[43m.\u001b[49m\u001b[43m_client\u001b[49m\u001b[43m.\u001b[49m\u001b[43msend\u001b[49m\u001b[43m(\u001b[49m\n\u001b[32m    983\u001b[39m \u001b[43m        \u001b[49m\u001b[43mrequest\u001b[49m\u001b[43m,\u001b[49m\n\u001b[32m    984\u001b[39m \u001b[43m        \u001b[49m\u001b[43mstream\u001b[49m\u001b[43m=\u001b[49m\u001b[43mstream\u001b[49m\u001b[43m \u001b[49m\u001b[38;5;129;43;01mor\u001b[39;49;00m\u001b[43m \u001b[49m\u001b[38;5;28;43mself\u001b[39;49m\u001b[43m.\u001b[49m\u001b[43m_should_stream_response_body\u001b[49m\u001b[43m(\u001b[49m\u001b[43mrequest\u001b[49m\u001b[43m=\u001b[49m\u001b[43mrequest\u001b[49m\u001b[43m)\u001b[49m\u001b[43m,\u001b[49m\n\u001b[32m    985\u001b[39m \u001b[43m        \u001b[49m\u001b[43m*\u001b[49m\u001b[43m*\u001b[49m\u001b[43mkwargs\u001b[49m\u001b[43m,\u001b[49m\n\u001b[32m    986\u001b[39m \u001b[43m    \u001b[49m\u001b[43m)\u001b[49m\n\u001b[32m    987\u001b[39m \u001b[38;5;28;01mexcept\u001b[39;00m httpx.TimeoutException \u001b[38;5;28;01mas\u001b[39;00m err:\n\u001b[32m    988\u001b[39m     log.debug(\u001b[33m\"\u001b[39m\u001b[33mEncountered httpx.TimeoutException\u001b[39m\u001b[33m\"\u001b[39m, exc_info=\u001b[38;5;28;01mTrue\u001b[39;00m)\n",
      "\u001b[36mFile \u001b[39m\u001b[32mc:\\Users\\ANDERBE\\AI-Agent-POC-git\\AI-Agent\\.venv\\Lib\\site-packages\\httpx\\_client.py:914\u001b[39m, in \u001b[36mClient.send\u001b[39m\u001b[34m(self, request, stream, auth, follow_redirects)\u001b[39m\n\u001b[32m    910\u001b[39m \u001b[38;5;28mself\u001b[39m._set_timeout(request)\n\u001b[32m    912\u001b[39m auth = \u001b[38;5;28mself\u001b[39m._build_request_auth(request, auth)\n\u001b[32m--> \u001b[39m\u001b[32m914\u001b[39m response = \u001b[38;5;28;43mself\u001b[39;49m\u001b[43m.\u001b[49m\u001b[43m_send_handling_auth\u001b[49m\u001b[43m(\u001b[49m\n\u001b[32m    915\u001b[39m \u001b[43m    \u001b[49m\u001b[43mrequest\u001b[49m\u001b[43m,\u001b[49m\n\u001b[32m    916\u001b[39m \u001b[43m    \u001b[49m\u001b[43mauth\u001b[49m\u001b[43m=\u001b[49m\u001b[43mauth\u001b[49m\u001b[43m,\u001b[49m\n\u001b[32m    917\u001b[39m \u001b[43m    \u001b[49m\u001b[43mfollow_redirects\u001b[49m\u001b[43m=\u001b[49m\u001b[43mfollow_redirects\u001b[49m\u001b[43m,\u001b[49m\n\u001b[32m    918\u001b[39m \u001b[43m    \u001b[49m\u001b[43mhistory\u001b[49m\u001b[43m=\u001b[49m\u001b[43m[\u001b[49m\u001b[43m]\u001b[49m\u001b[43m,\u001b[49m\n\u001b[32m    919\u001b[39m \u001b[43m\u001b[49m\u001b[43m)\u001b[49m\n\u001b[32m    920\u001b[39m \u001b[38;5;28;01mtry\u001b[39;00m:\n\u001b[32m    921\u001b[39m     \u001b[38;5;28;01mif\u001b[39;00m \u001b[38;5;129;01mnot\u001b[39;00m stream:\n",
      "\u001b[36mFile \u001b[39m\u001b[32mc:\\Users\\ANDERBE\\AI-Agent-POC-git\\AI-Agent\\.venv\\Lib\\site-packages\\httpx\\_client.py:942\u001b[39m, in \u001b[36mClient._send_handling_auth\u001b[39m\u001b[34m(self, request, auth, follow_redirects, history)\u001b[39m\n\u001b[32m    939\u001b[39m request = \u001b[38;5;28mnext\u001b[39m(auth_flow)\n\u001b[32m    941\u001b[39m \u001b[38;5;28;01mwhile\u001b[39;00m \u001b[38;5;28;01mTrue\u001b[39;00m:\n\u001b[32m--> \u001b[39m\u001b[32m942\u001b[39m     response = \u001b[38;5;28;43mself\u001b[39;49m\u001b[43m.\u001b[49m\u001b[43m_send_handling_redirects\u001b[49m\u001b[43m(\u001b[49m\n\u001b[32m    943\u001b[39m \u001b[43m        \u001b[49m\u001b[43mrequest\u001b[49m\u001b[43m,\u001b[49m\n\u001b[32m    944\u001b[39m \u001b[43m        \u001b[49m\u001b[43mfollow_redirects\u001b[49m\u001b[43m=\u001b[49m\u001b[43mfollow_redirects\u001b[49m\u001b[43m,\u001b[49m\n\u001b[32m    945\u001b[39m \u001b[43m        \u001b[49m\u001b[43mhistory\u001b[49m\u001b[43m=\u001b[49m\u001b[43mhistory\u001b[49m\u001b[43m,\u001b[49m\n\u001b[32m    946\u001b[39m \u001b[43m    \u001b[49m\u001b[43m)\u001b[49m\n\u001b[32m    947\u001b[39m     \u001b[38;5;28;01mtry\u001b[39;00m:\n\u001b[32m    948\u001b[39m         \u001b[38;5;28;01mtry\u001b[39;00m:\n",
      "\u001b[36mFile \u001b[39m\u001b[32mc:\\Users\\ANDERBE\\AI-Agent-POC-git\\AI-Agent\\.venv\\Lib\\site-packages\\httpx\\_client.py:979\u001b[39m, in \u001b[36mClient._send_handling_redirects\u001b[39m\u001b[34m(self, request, follow_redirects, history)\u001b[39m\n\u001b[32m    976\u001b[39m \u001b[38;5;28;01mfor\u001b[39;00m hook \u001b[38;5;129;01min\u001b[39;00m \u001b[38;5;28mself\u001b[39m._event_hooks[\u001b[33m\"\u001b[39m\u001b[33mrequest\u001b[39m\u001b[33m\"\u001b[39m]:\n\u001b[32m    977\u001b[39m     hook(request)\n\u001b[32m--> \u001b[39m\u001b[32m979\u001b[39m response = \u001b[38;5;28;43mself\u001b[39;49m\u001b[43m.\u001b[49m\u001b[43m_send_single_request\u001b[49m\u001b[43m(\u001b[49m\u001b[43mrequest\u001b[49m\u001b[43m)\u001b[49m\n\u001b[32m    980\u001b[39m \u001b[38;5;28;01mtry\u001b[39;00m:\n\u001b[32m    981\u001b[39m     \u001b[38;5;28;01mfor\u001b[39;00m hook \u001b[38;5;129;01min\u001b[39;00m \u001b[38;5;28mself\u001b[39m._event_hooks[\u001b[33m\"\u001b[39m\u001b[33mresponse\u001b[39m\u001b[33m\"\u001b[39m]:\n",
      "\u001b[36mFile \u001b[39m\u001b[32mc:\\Users\\ANDERBE\\AI-Agent-POC-git\\AI-Agent\\.venv\\Lib\\site-packages\\httpx\\_client.py:1014\u001b[39m, in \u001b[36mClient._send_single_request\u001b[39m\u001b[34m(self, request)\u001b[39m\n\u001b[32m   1009\u001b[39m     \u001b[38;5;28;01mraise\u001b[39;00m \u001b[38;5;167;01mRuntimeError\u001b[39;00m(\n\u001b[32m   1010\u001b[39m         \u001b[33m\"\u001b[39m\u001b[33mAttempted to send an async request with a sync Client instance.\u001b[39m\u001b[33m\"\u001b[39m\n\u001b[32m   1011\u001b[39m     )\n\u001b[32m   1013\u001b[39m \u001b[38;5;28;01mwith\u001b[39;00m request_context(request=request):\n\u001b[32m-> \u001b[39m\u001b[32m1014\u001b[39m     response = \u001b[43mtransport\u001b[49m\u001b[43m.\u001b[49m\u001b[43mhandle_request\u001b[49m\u001b[43m(\u001b[49m\u001b[43mrequest\u001b[49m\u001b[43m)\u001b[49m\n\u001b[32m   1016\u001b[39m \u001b[38;5;28;01massert\u001b[39;00m \u001b[38;5;28misinstance\u001b[39m(response.stream, SyncByteStream)\n\u001b[32m   1018\u001b[39m response.request = request\n",
      "\u001b[36mFile \u001b[39m\u001b[32mc:\\Users\\ANDERBE\\AI-Agent-POC-git\\AI-Agent\\.venv\\Lib\\site-packages\\httpx\\_transports\\default.py:250\u001b[39m, in \u001b[36mHTTPTransport.handle_request\u001b[39m\u001b[34m(self, request)\u001b[39m\n\u001b[32m    237\u001b[39m req = httpcore.Request(\n\u001b[32m    238\u001b[39m     method=request.method,\n\u001b[32m    239\u001b[39m     url=httpcore.URL(\n\u001b[32m   (...)\u001b[39m\u001b[32m    247\u001b[39m     extensions=request.extensions,\n\u001b[32m    248\u001b[39m )\n\u001b[32m    249\u001b[39m \u001b[38;5;28;01mwith\u001b[39;00m map_httpcore_exceptions():\n\u001b[32m--> \u001b[39m\u001b[32m250\u001b[39m     resp = \u001b[38;5;28;43mself\u001b[39;49m\u001b[43m.\u001b[49m\u001b[43m_pool\u001b[49m\u001b[43m.\u001b[49m\u001b[43mhandle_request\u001b[49m\u001b[43m(\u001b[49m\u001b[43mreq\u001b[49m\u001b[43m)\u001b[49m\n\u001b[32m    252\u001b[39m \u001b[38;5;28;01massert\u001b[39;00m \u001b[38;5;28misinstance\u001b[39m(resp.stream, typing.Iterable)\n\u001b[32m    254\u001b[39m \u001b[38;5;28;01mreturn\u001b[39;00m Response(\n\u001b[32m    255\u001b[39m     status_code=resp.status,\n\u001b[32m    256\u001b[39m     headers=resp.headers,\n\u001b[32m    257\u001b[39m     stream=ResponseStream(resp.stream),\n\u001b[32m    258\u001b[39m     extensions=resp.extensions,\n\u001b[32m    259\u001b[39m )\n",
      "\u001b[36mFile \u001b[39m\u001b[32mc:\\Users\\ANDERBE\\AI-Agent-POC-git\\AI-Agent\\.venv\\Lib\\site-packages\\httpcore\\_sync\\connection_pool.py:256\u001b[39m, in \u001b[36mConnectionPool.handle_request\u001b[39m\u001b[34m(self, request)\u001b[39m\n\u001b[32m    253\u001b[39m         closing = \u001b[38;5;28mself\u001b[39m._assign_requests_to_connections()\n\u001b[32m    255\u001b[39m     \u001b[38;5;28mself\u001b[39m._close_connections(closing)\n\u001b[32m--> \u001b[39m\u001b[32m256\u001b[39m     \u001b[38;5;28;01mraise\u001b[39;00m exc \u001b[38;5;28;01mfrom\u001b[39;00m\u001b[38;5;250m \u001b[39m\u001b[38;5;28;01mNone\u001b[39;00m\n\u001b[32m    258\u001b[39m \u001b[38;5;66;03m# Return the response. Note that in this case we still have to manage\u001b[39;00m\n\u001b[32m    259\u001b[39m \u001b[38;5;66;03m# the point at which the response is closed.\u001b[39;00m\n\u001b[32m    260\u001b[39m \u001b[38;5;28;01massert\u001b[39;00m \u001b[38;5;28misinstance\u001b[39m(response.stream, typing.Iterable)\n",
      "\u001b[36mFile \u001b[39m\u001b[32mc:\\Users\\ANDERBE\\AI-Agent-POC-git\\AI-Agent\\.venv\\Lib\\site-packages\\httpcore\\_sync\\connection_pool.py:236\u001b[39m, in \u001b[36mConnectionPool.handle_request\u001b[39m\u001b[34m(self, request)\u001b[39m\n\u001b[32m    232\u001b[39m connection = pool_request.wait_for_connection(timeout=timeout)\n\u001b[32m    234\u001b[39m \u001b[38;5;28;01mtry\u001b[39;00m:\n\u001b[32m    235\u001b[39m     \u001b[38;5;66;03m# Send the request on the assigned connection.\u001b[39;00m\n\u001b[32m--> \u001b[39m\u001b[32m236\u001b[39m     response = \u001b[43mconnection\u001b[49m\u001b[43m.\u001b[49m\u001b[43mhandle_request\u001b[49m\u001b[43m(\u001b[49m\n\u001b[32m    237\u001b[39m \u001b[43m        \u001b[49m\u001b[43mpool_request\u001b[49m\u001b[43m.\u001b[49m\u001b[43mrequest\u001b[49m\n\u001b[32m    238\u001b[39m \u001b[43m    \u001b[49m\u001b[43m)\u001b[49m\n\u001b[32m    239\u001b[39m \u001b[38;5;28;01mexcept\u001b[39;00m ConnectionNotAvailable:\n\u001b[32m    240\u001b[39m     \u001b[38;5;66;03m# In some cases a connection may initially be available to\u001b[39;00m\n\u001b[32m    241\u001b[39m     \u001b[38;5;66;03m# handle a request, but then become unavailable.\u001b[39;00m\n\u001b[32m    242\u001b[39m     \u001b[38;5;66;03m#\u001b[39;00m\n\u001b[32m    243\u001b[39m     \u001b[38;5;66;03m# In this case we clear the connection and try again.\u001b[39;00m\n\u001b[32m    244\u001b[39m     pool_request.clear_connection()\n",
      "\u001b[36mFile \u001b[39m\u001b[32mc:\\Users\\ANDERBE\\AI-Agent-POC-git\\AI-Agent\\.venv\\Lib\\site-packages\\httpcore\\_sync\\connection.py:103\u001b[39m, in \u001b[36mHTTPConnection.handle_request\u001b[39m\u001b[34m(self, request)\u001b[39m\n\u001b[32m    100\u001b[39m     \u001b[38;5;28mself\u001b[39m._connect_failed = \u001b[38;5;28;01mTrue\u001b[39;00m\n\u001b[32m    101\u001b[39m     \u001b[38;5;28;01mraise\u001b[39;00m exc\n\u001b[32m--> \u001b[39m\u001b[32m103\u001b[39m \u001b[38;5;28;01mreturn\u001b[39;00m \u001b[38;5;28;43mself\u001b[39;49m\u001b[43m.\u001b[49m\u001b[43m_connection\u001b[49m\u001b[43m.\u001b[49m\u001b[43mhandle_request\u001b[49m\u001b[43m(\u001b[49m\u001b[43mrequest\u001b[49m\u001b[43m)\u001b[49m\n",
      "\u001b[36mFile \u001b[39m\u001b[32mc:\\Users\\ANDERBE\\AI-Agent-POC-git\\AI-Agent\\.venv\\Lib\\site-packages\\httpcore\\_sync\\http11.py:136\u001b[39m, in \u001b[36mHTTP11Connection.handle_request\u001b[39m\u001b[34m(self, request)\u001b[39m\n\u001b[32m    134\u001b[39m     \u001b[38;5;28;01mwith\u001b[39;00m Trace(\u001b[33m\"\u001b[39m\u001b[33mresponse_closed\u001b[39m\u001b[33m\"\u001b[39m, logger, request) \u001b[38;5;28;01mas\u001b[39;00m trace:\n\u001b[32m    135\u001b[39m         \u001b[38;5;28mself\u001b[39m._response_closed()\n\u001b[32m--> \u001b[39m\u001b[32m136\u001b[39m \u001b[38;5;28;01mraise\u001b[39;00m exc\n",
      "\u001b[36mFile \u001b[39m\u001b[32mc:\\Users\\ANDERBE\\AI-Agent-POC-git\\AI-Agent\\.venv\\Lib\\site-packages\\httpcore\\_sync\\http11.py:106\u001b[39m, in \u001b[36mHTTP11Connection.handle_request\u001b[39m\u001b[34m(self, request)\u001b[39m\n\u001b[32m     95\u001b[39m     \u001b[38;5;28;01mpass\u001b[39;00m\n\u001b[32m     97\u001b[39m \u001b[38;5;28;01mwith\u001b[39;00m Trace(\n\u001b[32m     98\u001b[39m     \u001b[33m\"\u001b[39m\u001b[33mreceive_response_headers\u001b[39m\u001b[33m\"\u001b[39m, logger, request, kwargs\n\u001b[32m     99\u001b[39m ) \u001b[38;5;28;01mas\u001b[39;00m trace:\n\u001b[32m    100\u001b[39m     (\n\u001b[32m    101\u001b[39m         http_version,\n\u001b[32m    102\u001b[39m         status,\n\u001b[32m    103\u001b[39m         reason_phrase,\n\u001b[32m    104\u001b[39m         headers,\n\u001b[32m    105\u001b[39m         trailing_data,\n\u001b[32m--> \u001b[39m\u001b[32m106\u001b[39m     ) = \u001b[38;5;28;43mself\u001b[39;49m\u001b[43m.\u001b[49m\u001b[43m_receive_response_headers\u001b[49m\u001b[43m(\u001b[49m\u001b[43m*\u001b[49m\u001b[43m*\u001b[49m\u001b[43mkwargs\u001b[49m\u001b[43m)\u001b[49m\n\u001b[32m    107\u001b[39m     trace.return_value = (\n\u001b[32m    108\u001b[39m         http_version,\n\u001b[32m    109\u001b[39m         status,\n\u001b[32m    110\u001b[39m         reason_phrase,\n\u001b[32m    111\u001b[39m         headers,\n\u001b[32m    112\u001b[39m     )\n\u001b[32m    114\u001b[39m network_stream = \u001b[38;5;28mself\u001b[39m._network_stream\n",
      "\u001b[36mFile \u001b[39m\u001b[32mc:\\Users\\ANDERBE\\AI-Agent-POC-git\\AI-Agent\\.venv\\Lib\\site-packages\\httpcore\\_sync\\http11.py:177\u001b[39m, in \u001b[36mHTTP11Connection._receive_response_headers\u001b[39m\u001b[34m(self, request)\u001b[39m\n\u001b[32m    174\u001b[39m timeout = timeouts.get(\u001b[33m\"\u001b[39m\u001b[33mread\u001b[39m\u001b[33m\"\u001b[39m, \u001b[38;5;28;01mNone\u001b[39;00m)\n\u001b[32m    176\u001b[39m \u001b[38;5;28;01mwhile\u001b[39;00m \u001b[38;5;28;01mTrue\u001b[39;00m:\n\u001b[32m--> \u001b[39m\u001b[32m177\u001b[39m     event = \u001b[38;5;28;43mself\u001b[39;49m\u001b[43m.\u001b[49m\u001b[43m_receive_event\u001b[49m\u001b[43m(\u001b[49m\u001b[43mtimeout\u001b[49m\u001b[43m=\u001b[49m\u001b[43mtimeout\u001b[49m\u001b[43m)\u001b[49m\n\u001b[32m    178\u001b[39m     \u001b[38;5;28;01mif\u001b[39;00m \u001b[38;5;28misinstance\u001b[39m(event, h11.Response):\n\u001b[32m    179\u001b[39m         \u001b[38;5;28;01mbreak\u001b[39;00m\n",
      "\u001b[36mFile \u001b[39m\u001b[32mc:\\Users\\ANDERBE\\AI-Agent-POC-git\\AI-Agent\\.venv\\Lib\\site-packages\\httpcore\\_sync\\http11.py:217\u001b[39m, in \u001b[36mHTTP11Connection._receive_event\u001b[39m\u001b[34m(self, timeout)\u001b[39m\n\u001b[32m    214\u001b[39m     event = \u001b[38;5;28mself\u001b[39m._h11_state.next_event()\n\u001b[32m    216\u001b[39m \u001b[38;5;28;01mif\u001b[39;00m event \u001b[38;5;129;01mis\u001b[39;00m h11.NEED_DATA:\n\u001b[32m--> \u001b[39m\u001b[32m217\u001b[39m     data = \u001b[38;5;28;43mself\u001b[39;49m\u001b[43m.\u001b[49m\u001b[43m_network_stream\u001b[49m\u001b[43m.\u001b[49m\u001b[43mread\u001b[49m\u001b[43m(\u001b[49m\n\u001b[32m    218\u001b[39m \u001b[43m        \u001b[49m\u001b[38;5;28;43mself\u001b[39;49m\u001b[43m.\u001b[49m\u001b[43mREAD_NUM_BYTES\u001b[49m\u001b[43m,\u001b[49m\u001b[43m \u001b[49m\u001b[43mtimeout\u001b[49m\u001b[43m=\u001b[49m\u001b[43mtimeout\u001b[49m\n\u001b[32m    219\u001b[39m \u001b[43m    \u001b[49m\u001b[43m)\u001b[49m\n\u001b[32m    221\u001b[39m     \u001b[38;5;66;03m# If we feed this case through h11 we'll raise an exception like:\u001b[39;00m\n\u001b[32m    222\u001b[39m     \u001b[38;5;66;03m#\u001b[39;00m\n\u001b[32m    223\u001b[39m     \u001b[38;5;66;03m#     httpcore.RemoteProtocolError: can't handle event type\u001b[39;00m\n\u001b[32m   (...)\u001b[39m\u001b[32m    227\u001b[39m     \u001b[38;5;66;03m# perspective. Instead we handle this case distinctly and treat\u001b[39;00m\n\u001b[32m    228\u001b[39m     \u001b[38;5;66;03m# it as a ConnectError.\u001b[39;00m\n\u001b[32m    229\u001b[39m     \u001b[38;5;28;01mif\u001b[39;00m data == \u001b[33mb\u001b[39m\u001b[33m\"\u001b[39m\u001b[33m\"\u001b[39m \u001b[38;5;129;01mand\u001b[39;00m \u001b[38;5;28mself\u001b[39m._h11_state.their_state == h11.SEND_RESPONSE:\n",
      "\u001b[36mFile \u001b[39m\u001b[32mc:\\Users\\ANDERBE\\AI-Agent-POC-git\\AI-Agent\\.venv\\Lib\\site-packages\\httpcore\\_backends\\sync.py:128\u001b[39m, in \u001b[36mSyncStream.read\u001b[39m\u001b[34m(self, max_bytes, timeout)\u001b[39m\n\u001b[32m    126\u001b[39m \u001b[38;5;28;01mwith\u001b[39;00m map_exceptions(exc_map):\n\u001b[32m    127\u001b[39m     \u001b[38;5;28mself\u001b[39m._sock.settimeout(timeout)\n\u001b[32m--> \u001b[39m\u001b[32m128\u001b[39m     \u001b[38;5;28;01mreturn\u001b[39;00m \u001b[38;5;28;43mself\u001b[39;49m\u001b[43m.\u001b[49m\u001b[43m_sock\u001b[49m\u001b[43m.\u001b[49m\u001b[43mrecv\u001b[49m\u001b[43m(\u001b[49m\u001b[43mmax_bytes\u001b[49m\u001b[43m)\u001b[49m\n",
      "\u001b[36mFile \u001b[39m\u001b[32m~\\AppData\\Local\\Programs\\Python\\Python311\\Lib\\ssl.py:1295\u001b[39m, in \u001b[36mSSLSocket.recv\u001b[39m\u001b[34m(self, buflen, flags)\u001b[39m\n\u001b[32m   1291\u001b[39m     \u001b[38;5;28;01mif\u001b[39;00m flags != \u001b[32m0\u001b[39m:\n\u001b[32m   1292\u001b[39m         \u001b[38;5;28;01mraise\u001b[39;00m \u001b[38;5;167;01mValueError\u001b[39;00m(\n\u001b[32m   1293\u001b[39m             \u001b[33m\"\u001b[39m\u001b[33mnon-zero flags not allowed in calls to recv() on \u001b[39m\u001b[38;5;132;01m%s\u001b[39;00m\u001b[33m\"\u001b[39m %\n\u001b[32m   1294\u001b[39m             \u001b[38;5;28mself\u001b[39m.\u001b[34m__class__\u001b[39m)\n\u001b[32m-> \u001b[39m\u001b[32m1295\u001b[39m     \u001b[38;5;28;01mreturn\u001b[39;00m \u001b[38;5;28;43mself\u001b[39;49m\u001b[43m.\u001b[49m\u001b[43mread\u001b[49m\u001b[43m(\u001b[49m\u001b[43mbuflen\u001b[49m\u001b[43m)\u001b[49m\n\u001b[32m   1296\u001b[39m \u001b[38;5;28;01melse\u001b[39;00m:\n\u001b[32m   1297\u001b[39m     \u001b[38;5;28;01mreturn\u001b[39;00m \u001b[38;5;28msuper\u001b[39m().recv(buflen, flags)\n",
      "\u001b[36mFile \u001b[39m\u001b[32m~\\AppData\\Local\\Programs\\Python\\Python311\\Lib\\ssl.py:1168\u001b[39m, in \u001b[36mSSLSocket.read\u001b[39m\u001b[34m(self, len, buffer)\u001b[39m\n\u001b[32m   1166\u001b[39m         \u001b[38;5;28;01mreturn\u001b[39;00m \u001b[38;5;28mself\u001b[39m._sslobj.read(\u001b[38;5;28mlen\u001b[39m, buffer)\n\u001b[32m   1167\u001b[39m     \u001b[38;5;28;01melse\u001b[39;00m:\n\u001b[32m-> \u001b[39m\u001b[32m1168\u001b[39m         \u001b[38;5;28;01mreturn\u001b[39;00m \u001b[38;5;28;43mself\u001b[39;49m\u001b[43m.\u001b[49m\u001b[43m_sslobj\u001b[49m\u001b[43m.\u001b[49m\u001b[43mread\u001b[49m\u001b[43m(\u001b[49m\u001b[38;5;28;43mlen\u001b[39;49m\u001b[43m)\u001b[49m\n\u001b[32m   1169\u001b[39m \u001b[38;5;28;01mexcept\u001b[39;00m SSLError \u001b[38;5;28;01mas\u001b[39;00m x:\n\u001b[32m   1170\u001b[39m     \u001b[38;5;28;01mif\u001b[39;00m x.args[\u001b[32m0\u001b[39m] == SSL_ERROR_EOF \u001b[38;5;129;01mand\u001b[39;00m \u001b[38;5;28mself\u001b[39m.suppress_ragged_eofs:\n",
      "\u001b[31mKeyboardInterrupt\u001b[39m: "
     ]
    }
   ],
   "source": [
    "from src.rag_eval.data_models import EvalContainer\n",
    "from src.rag.retrieval import basic_rag\n",
    "from src.rag_eval.helpers import query_gt_extractor\n",
    "\n",
    "queries, gts = query_gt_extractor(path=\"data/agent_eval_questions.json\", tokenize=False)\n",
    "\n",
    "# initiate lists to store EvalContainer-Ojbects\n",
    "eval_conts = []\n",
    "predicted_answers = []\n",
    "retrieved_contexts = []\n",
    "token_usage = []\n",
    "\n",
    "for idx, query in enumerate(queries):\n",
    "\n",
    "    # run RAG\n",
    "    result = basic_rag.run({\"query_embedder\":{\"text\": query}, \n",
    "                            \"prompt_builder\":{\"question\": query}}, \n",
    "                            include_outputs_from=\"retriever\")\n",
    "    \n",
    "    # store generated answer\n",
    "    predicted_answers.append(result[\"llm\"][\"replies\"][0])\n",
    "    \n",
    "    # for each question, store content from Document-object in list\n",
    "    docs = result[\"retriever\"][\"documents\"]\n",
    "    retrieved_contexts.append([d.content for d in docs])\n",
    "\n",
    "    # extract what is needed for EvalContainer-object\n",
    "    query = queries[idx]\n",
    "    ground_truth_answer = gts[idx]\n",
    "    retrieved_texts = retrieved_contexts[idx]\n",
    "    generated_answer = predicted_answers[idx]\n",
    "\n",
    "    eval_cont = EvalContainer(query=query,\n",
    "                                ground_truth_answer=ground_truth_answer,\n",
    "                                generated_answer=generated_answer,\n",
    "                                retrieved_texts=retrieved_texts # BUGFIX: retrieved_texts MUST be list, otherwise RetrievalPrecisionEvaluator will treat each letter of retrieved_texts as a doc_text\n",
    "                                )\n",
    "    # get number of tokens used \n",
    "    usage = None\n",
    "    if \"llm\" in result and \"usage\" in result[\"llm\"]:\n",
    "        usage = result[\"llm\"][\"usage\"]  # often contains prompt_tokens, completion_tokens, total_tokens\n",
    "\n",
    "    \n",
    "    eval_conts.append(eval_cont)\n",
    "    token_usage.append(usage)\n",
    "\n",
    "    \n"
   ]
  },
  {
   "cell_type": "code",
   "execution_count": 9,
   "id": "077c2652",
   "metadata": {},
   "outputs": [
    {
     "name": "stdout",
     "output_type": "stream",
     "text": [
      "EvalContainer(query=\"Vergleiche den Preis für Espresso von Anton's Pizza und bei Il sogno de Anton. Wo ist Espresso teurer?\", ground_truth_answer=\"Bei Il sogno de Anton ist der Espresso teurer: Anton's Pizza Espresso 2,00 € vs. Il sogno de Anton Espresso 3,50 €. \", generated_answer=\"Es liegen keine Preisinformationen von Anton's Pizza und Il sogno de Anton für Espresso im gegebenen Kontext vor. Daher kann ich den Preisvergleich nicht durchführen und nicht sagen, wo der Espresso teurer ist.\", retrieved_texts=[])\n"
     ]
    }
   ],
   "source": [
    "print(eval_conts[0])"
   ]
  },
  {
   "cell_type": "code",
   "execution_count": 16,
   "id": "4fd22d3f",
   "metadata": {},
   "outputs": [
    {
     "name": "stdout",
     "output_type": "stream",
     "text": [
      "EvalContainer(query=\"In welchem Restaurant kostet der Espresso mehr: bei Anton's Pizza oder bei Il sogno de Anton, und wie hoch sind die jeweiligen Preise?\", ground_truth_answer=\"Bei Il sogno de Anton ist der Espresso teurer: Anton's Pizza Espresso 2,00 € vs. Il sogno de Anton Espresso 3,50 €. \", generated_answer=\"Im gegebenen Kontext sind keine Preise für Espresso bei Anton's Pizza oder Il sogno de Anton aufgeführt. Daher lässt sich nicht beantworten, in welchem Restaurant der Espresso mehr kostet und wie hoch die jeweiligen Preise sind.\", retrieved_texts=[\"Anton's Pizza - Doggish Delights\\nVorspeisen\\nBruschetta mit Tomaten und Basilikum - 5,50 €\\nKnoblauchbrot mit Kräuterbutter - 4,00 €\\nCaprese (Mozzarella, Tomate, Basilikum) - 6,50 €\\nFrittierte Mozzarella-Sticks - 6,00 €\\nPizza\\nMargherita (Tomate, Mozzarella, Basilikum) - 8,50 €\\nDoggish Special (Tomate, Mozzarella, Rinderhack, Speck, Zwiebeln) - 11,50 €\\nFunghi (Tomate, Mozzarella, Champignons) - 9,50 €\\nVeggie Delight (Tomate, \", 'Kueche ist weltweit bekannt und wird fuer ihre Einfachheit und Qualitaet geschaetzt.\\nSie basiert oft auf wenigen, frischen Zutaten, die perfekt kombiniert werden. Zu den bekanntesten\\nGerichten zaehlen Pizza, die aus Neapel stammt, sowie Pasta in ihren unzaehligen Formen:\\nSpaghetti, Penne, Tagliatelle oder Gnocchi. Jede Region hat ihre Spezialitaeten: In Ligurien\\ndominiert das Pesto, ', \"Mozzarella, Paprika, Zucchini, Oliven) - 10,00 €\\nPasta\\nSpaghetti Bolognese - 9,50 €\\nTagliatelle mit Pesto und Pinienkernen - 10,00 €\\nPenne Arrabiata (pikant) - 8,50 €\\nLasagne al Forno - 11,00 €\\x0cAnton's Pizza - Doggish Delights\\nRisotto\\nRisotto ai Funghi (mit Pilzen) - 11,50 €\\nMeeresfrüchte-Risotto - 14,00 €\\nRisotto Primavera (Gemüse der Saison) - 12,00 €\\nGetränke\\nMineralwasser (0,5 \", 'Cuisine herauszubilden. Letztere wurde im 17.\\nJahrhundert maßgeblich von Köchen wie François Pierre de La Varenne geprägt, der systematisch\\nbegann, Kochtechniken zu verschriftlichen und zu standardisieren. Im 19. Jahrhundert schließlich verhalf\\nAuguste Escoffier der französischen Küche zur internationalen Geltung, indem er Ordnung in die\\nKüchenorganisation brachte und klassische Rezepte in seinem Werk \"Le Guide ', 'Chez Anton - Délices Canins\\nEntrées\\nCroquettes d’Appétit (Knusprige Bällchen) - 5,50 €\\nPain à l’Ail Canin (Knoblauchbrot) - 4,00 €\\nSalade du Chien Heureux (gemischter Salat) - 6,00 €\\nSoupe du Terrier (hausgemachte Suppe) - 5,00 €\\nPlats principaux\\nBoeuf Bourguignon du Chien - 14,50 €\\nCoq au Vin Canin - 13,00 €\\nGratin de Patte (Kartoffelgratin) - ', '(Bohneneintopf mit Nudeln), Ribollita (tosc. Brotsuppe) oder Polenta mit Gemüse.\\nGleichzeitig entwickelte sich eine Fülle an Pastaformen, jede angepasst an die lokale Küche: von den\\nTagliatelle in Bologna über Orecchiette in Apulien bis zu Gnocchi in Neapel.\\nPizza, ursprünglich ein Gericht der neapolitanischen Armen, wurde im 19. Jahrhundert zur Nationalspeise\\nund spätestens im 20. ', '12,00 €\\nPanna Cotta con Salsa ai Frutti della Cuccia (Beeren) - 11,00 €\\nCannoli Siciliani & Bauletti (Sizilianische Cannoli) - 13,00 €\\nGelato Artigianale (3 gusti) del Cane (Hausgemachtes Eis) - 10,00 €\\nBevande\\nAcqua Minerale Naturale & Pappa Fresca (0,75 l) - 5,00 €\\nVino Rosso Toscana DOC del Mastino (0,75 l) - 45,00 ', 'oder Pecorino Romano sowie Wurstwaren wie Prosciutto di\\nParma oder Salame ergänzen das Bild einer vielfältigen kulinarischen Landschaft.\\nEin typisches italienisches Mahl beginnt mit Antipasti, gefolgt von Primo (Pasta oder Risotto), Secondo\\n(Fleisch oder Fisch), contorno (Beilage) und dolce (Dessert). Tiramisu, Panna Cotta oder Gelato runden\\ndas Essen ab.\\nIn den letzten Jahrzehnten hat die ', 'fuer feine Zutaten,\\nausgekluegelte Technik und jahrhundertealte Traditionen. Bereits im 17. Jahrhundert praegten\\nkoenigliche Hofkoeche Grundlagen moderner Kochkunst. Begriffe wie \"Sauce Bechamel\", \"Mise en\\nPlace\" oder \"Degustation\" stammen aus der franzoesischen Kueche. Es gibt grosse regionale\\nUnterschiede: In der Bretagne wird viel Fisch gegessen, im Elsass beeinflusst die deutsche Kueche\\nmit Sauerkraut und Flammkuchen. Die ', '11,50 €\\nRatatouille de la Meute (Gemüse-Ratatouille) - 12,00 €\\x0cChez Anton - Délices Canins\\nDesserts\\nGaufres du Chiot (Waffeln mit Ahornsirup) - 5,50 €\\nMousse au Chocolat Canin - 6,00 €\\nTartelette aux Biscuits - 6,50 €\\nCrème Brûlée de la Queue - 7,00 €\\nBoissons\\nLimonade du Chien - 3,50 €\\nEau Minérale (0,5 l) - 2,50 €\\nCafé '])\n"
     ]
    }
   ],
   "source": [
    "print(eval_conts[0])"
   ]
  },
  {
   "cell_type": "code",
   "execution_count": 24,
   "id": "9378a0cf",
   "metadata": {},
   "outputs": [
    {
     "name": "stdout",
     "output_type": "stream",
     "text": [
      "=== ITERATION-No. 1 ===\n"
     ]
    },
    {
     "ename": "KeyboardInterrupt",
     "evalue": "",
     "output_type": "error",
     "traceback": [
      "\u001b[31m---------------------------------------------------------------------------\u001b[39m",
      "\u001b[31mKeyboardInterrupt\u001b[39m                         Traceback (most recent call last)",
      "\u001b[36mCell\u001b[39m\u001b[36m \u001b[39m\u001b[32mIn[24]\u001b[39m\u001b[32m, line 37\u001b[39m\n\u001b[32m     33\u001b[39m \u001b[38;5;28;01mfor\u001b[39;00m i, res \u001b[38;5;129;01min\u001b[39;00m \u001b[38;5;28menumerate\u001b[39m(eval_conts):\n\u001b[32m     34\u001b[39m     \u001b[38;5;66;03m#iteration tracker\u001b[39;00m\n\u001b[32m     35\u001b[39m     \u001b[38;5;28mprint\u001b[39m(\u001b[33mf\u001b[39m\u001b[33m\"\u001b[39m\u001b[33m=== ITERATION-No. \u001b[39m\u001b[38;5;132;01m{\u001b[39;00mi+\u001b[32m1\u001b[39m\u001b[38;5;132;01m}\u001b[39;00m\u001b[33m ===\u001b[39m\u001b[33m\"\u001b[39m)\n\u001b[32m---> \u001b[39m\u001b[32m37\u001b[39m     result = \u001b[43mcoord\u001b[49m\u001b[43m.\u001b[49m\u001b[43mevaluate_all\u001b[49m\u001b[43m(\u001b[49m\u001b[43mres\u001b[49m\u001b[43m)\u001b[49m\n\u001b[32m     39\u001b[39m     \u001b[38;5;66;03m# extracting all variables needed\u001b[39;00m\n\u001b[32m     40\u001b[39m     answer_recall.append(result[\u001b[33m\"\u001b[39m\u001b[33manswer_quality\u001b[39m\u001b[33m\"\u001b[39m][\u001b[33m\"\u001b[39m\u001b[33manswer_recall\u001b[39m\u001b[33m\"\u001b[39m])\n",
      "\u001b[36mFile \u001b[39m\u001b[32m~\\AI-Agent-POC-git\\AI-Agent\\src\\rag_eval\\coordinator.py:25\u001b[39m, in \u001b[36mRAGEvaluator.evaluate_all\u001b[39m\u001b[34m(self, ex)\u001b[39m\n\u001b[32m     23\u001b[39m \u001b[38;5;28;01mdef\u001b[39;00m\u001b[38;5;250m \u001b[39m\u001b[34mevaluate_all\u001b[39m(\u001b[38;5;28mself\u001b[39m, ex: EvalContainer) -> Dict[\u001b[38;5;28mstr\u001b[39m, Any]:\n\u001b[32m     24\u001b[39m     \u001b[38;5;28;01mreturn\u001b[39;00m {\n\u001b[32m---> \u001b[39m\u001b[32m25\u001b[39m         \u001b[33m\"\u001b[39m\u001b[33manswer_quality\u001b[39m\u001b[33m\"\u001b[39m: \u001b[38;5;28;43mself\u001b[39;49m\u001b[43m.\u001b[49m\u001b[43manswer_eval\u001b[49m\u001b[43m.\u001b[49m\u001b[43mevaluate\u001b[49m\u001b[43m(\u001b[49m\u001b[43mex\u001b[49m\u001b[43m)\u001b[49m,\n\u001b[32m     26\u001b[39m         \u001b[33m\"\u001b[39m\u001b[33mretrieval_quality\u001b[39m\u001b[33m\"\u001b[39m: \u001b[38;5;28mself\u001b[39m.retrieval_eval.evaluate(ex),\n\u001b[32m     27\u001b[39m     }\n",
      "\u001b[36mFile \u001b[39m\u001b[32m~\\AI-Agent-POC-git\\AI-Agent\\src\\rag_eval\\evaluators.py:30\u001b[39m, in \u001b[36mAnswerPrecisionEvaluator.evaluate\u001b[39m\u001b[34m(self, ex)\u001b[39m\n\u001b[32m     28\u001b[39m supported_gt = \u001b[32m0\u001b[39m\n\u001b[32m     29\u001b[39m \u001b[38;5;28;01mfor\u001b[39;00m c \u001b[38;5;129;01min\u001b[39;00m gt_claims: \n\u001b[32m---> \u001b[39m\u001b[32m30\u001b[39m     verdict, rationale = \u001b[38;5;28;43mself\u001b[39;49m\u001b[43m.\u001b[49m\u001b[43mjudge\u001b[49m\u001b[43m.\u001b[49m\u001b[43mjudge\u001b[49m\u001b[43m(\u001b[49m\u001b[43mc\u001b[49m\u001b[43m,\u001b[49m\u001b[43m \u001b[49m\u001b[43mex\u001b[49m\u001b[43m.\u001b[49m\u001b[43mgenerated_answer\u001b[49m\u001b[43m)\u001b[49m\n\u001b[32m     31\u001b[39m     gt_verdicts.append(ClaimVerdict(claim=c, verdict=verdict, rationale=rationale))\n\u001b[32m     32\u001b[39m     \u001b[38;5;28;01mif\u001b[39;00m verdict == \u001b[33m\"\u001b[39m\u001b[33msupported\u001b[39m\u001b[33m\"\u001b[39m:\n",
      "\u001b[36mFile \u001b[39m\u001b[32m~\\AI-Agent-POC-git\\AI-Agent\\src\\rag_eval\\components.py:95\u001b[39m, in \u001b[36mEntailmentJudge.judge\u001b[39m\u001b[34m(self, claim, evidence)\u001b[39m\n\u001b[32m     83\u001b[39m \u001b[38;5;28;01mdef\u001b[39;00m\u001b[38;5;250m \u001b[39m\u001b[34mjudge\u001b[39m(\u001b[38;5;28mself\u001b[39m, claim: \u001b[38;5;28mstr\u001b[39m, evidence: \u001b[38;5;28mstr\u001b[39m) -> Tuple[\u001b[38;5;28mstr\u001b[39m, \u001b[38;5;28mstr\u001b[39m]:\n\u001b[32m     84\u001b[39m     messages = [\n\u001b[32m     85\u001b[39m         {\u001b[33m\"\u001b[39m\u001b[33mrole\u001b[39m\u001b[33m\"\u001b[39m: \u001b[33m\"\u001b[39m\u001b[33msystem\u001b[39m\u001b[33m\"\u001b[39m, \u001b[33m\"\u001b[39m\u001b[33mcontent\u001b[39m\u001b[33m\"\u001b[39m: \u001b[38;5;28mself\u001b[39m.SYSTEM_PROMPT},\n\u001b[32m     86\u001b[39m         {\u001b[33m\"\u001b[39m\u001b[33mrole\u001b[39m\u001b[33m\"\u001b[39m: \u001b[33m\"\u001b[39m\u001b[33muser\u001b[39m\u001b[33m\"\u001b[39m, \u001b[33m\"\u001b[39m\u001b[33mcontent\u001b[39m\u001b[33m\"\u001b[39m: (\u001b[33m\"\u001b[39m\u001b[33mClaim: \u001b[39m\u001b[33m\"\u001b[39m +\n\u001b[32m   (...)\u001b[39m\u001b[32m     92\u001b[39m                                 },\n\u001b[32m     93\u001b[39m         ]\n\u001b[32m---> \u001b[39m\u001b[32m95\u001b[39m     raw = \u001b[38;5;28;43mself\u001b[39;49m\u001b[43m.\u001b[49m\u001b[43mllm\u001b[49m\u001b[43m.\u001b[49m\u001b[43mcomplete\u001b[49m\u001b[43m(\u001b[49m\u001b[43mmessages\u001b[49m\u001b[43m,\u001b[49m\u001b[43m \u001b[49m\u001b[43mmodel\u001b[49m\u001b[43m=\u001b[49m\u001b[38;5;28;43mself\u001b[39;49m\u001b[43m.\u001b[49m\u001b[43mmodel\u001b[49m\u001b[43m,\u001b[49m\u001b[43m \u001b[49m\u001b[43mtemperature\u001b[49m\u001b[43m=\u001b[49m\u001b[38;5;28;43mself\u001b[39;49m\u001b[43m.\u001b[49m\u001b[43mtemperature\u001b[49m\u001b[43m)\u001b[49m\n\u001b[32m     96\u001b[39m     data = _safe_json(raw) \u001b[38;5;129;01mor\u001b[39;00m {}\n\u001b[32m     97\u001b[39m     verdict = \u001b[38;5;28mstr\u001b[39m(data.get(\u001b[33m\"\u001b[39m\u001b[33mverdict\u001b[39m\u001b[33m\"\u001b[39m, \u001b[33m\"\u001b[39m\u001b[33m\"\u001b[39m)).strip().lower()\n",
      "\u001b[36mFile \u001b[39m\u001b[32m~\\AI-Agent-POC-git\\AI-Agent\\src\\rag_eval\\client.py:51\u001b[39m, in \u001b[36mAzureClient.complete\u001b[39m\u001b[34m(self, messages, model, temperature, max_tokens)\u001b[39m\n\u001b[32m     43\u001b[39m model= model\n\u001b[32m     45\u001b[39m kwargs = \u001b[38;5;28mdict\u001b[39m(model=model, \n\u001b[32m     46\u001b[39m               messages=messages, \n\u001b[32m     47\u001b[39m               temperature=temperature, \n\u001b[32m     48\u001b[39m               max_tokens=max_tokens, \n\u001b[32m     49\u001b[39m               response_format={\u001b[33m\"\u001b[39m\u001b[33mtype\u001b[39m\u001b[33m\"\u001b[39m: \u001b[33m\"\u001b[39m\u001b[33mjson_object\u001b[39m\u001b[33m\"\u001b[39m}) \u001b[38;5;66;03m# enforcing structured outputs\u001b[39;00m\n\u001b[32m---> \u001b[39m\u001b[32m51\u001b[39m response = \u001b[38;5;28;43mself\u001b[39;49m\u001b[43m.\u001b[49m\u001b[43mclient\u001b[49m\u001b[43m.\u001b[49m\u001b[43mchat\u001b[49m\u001b[43m.\u001b[49m\u001b[43mcompletions\u001b[49m\u001b[43m.\u001b[49m\u001b[43mcreate\u001b[49m\u001b[43m(\u001b[49m\u001b[43m*\u001b[49m\u001b[43m*\u001b[49m\u001b[43mkwargs\u001b[49m\u001b[43m)\u001b[49m\n\u001b[32m     52\u001b[39m \u001b[38;5;28;01mreturn\u001b[39;00m response.choices[\u001b[32m0\u001b[39m].message.content \u001b[38;5;129;01mor\u001b[39;00m \u001b[33m\"\u001b[39m\u001b[33m\"\u001b[39m\n",
      "\u001b[36mFile \u001b[39m\u001b[32mc:\\Users\\ANDERBE\\AI-Agent-POC-git\\AI-Agent\\.venv\\Lib\\site-packages\\openai\\_utils\\_utils.py:287\u001b[39m, in \u001b[36mrequired_args.<locals>.inner.<locals>.wrapper\u001b[39m\u001b[34m(*args, **kwargs)\u001b[39m\n\u001b[32m    285\u001b[39m             msg = \u001b[33mf\u001b[39m\u001b[33m\"\u001b[39m\u001b[33mMissing required argument: \u001b[39m\u001b[38;5;132;01m{\u001b[39;00mquote(missing[\u001b[32m0\u001b[39m])\u001b[38;5;132;01m}\u001b[39;00m\u001b[33m\"\u001b[39m\n\u001b[32m    286\u001b[39m     \u001b[38;5;28;01mraise\u001b[39;00m \u001b[38;5;167;01mTypeError\u001b[39;00m(msg)\n\u001b[32m--> \u001b[39m\u001b[32m287\u001b[39m \u001b[38;5;28;01mreturn\u001b[39;00m \u001b[43mfunc\u001b[49m\u001b[43m(\u001b[49m\u001b[43m*\u001b[49m\u001b[43margs\u001b[49m\u001b[43m,\u001b[49m\u001b[43m \u001b[49m\u001b[43m*\u001b[49m\u001b[43m*\u001b[49m\u001b[43mkwargs\u001b[49m\u001b[43m)\u001b[49m\n",
      "\u001b[36mFile \u001b[39m\u001b[32mc:\\Users\\ANDERBE\\AI-Agent-POC-git\\AI-Agent\\.venv\\Lib\\site-packages\\openai\\resources\\chat\\completions\\completions.py:1150\u001b[39m, in \u001b[36mCompletions.create\u001b[39m\u001b[34m(self, messages, model, audio, frequency_penalty, function_call, functions, logit_bias, logprobs, max_completion_tokens, max_tokens, metadata, modalities, n, parallel_tool_calls, prediction, presence_penalty, prompt_cache_key, reasoning_effort, response_format, safety_identifier, seed, service_tier, stop, store, stream, stream_options, temperature, tool_choice, tools, top_logprobs, top_p, user, verbosity, web_search_options, extra_headers, extra_query, extra_body, timeout)\u001b[39m\n\u001b[32m   1104\u001b[39m \u001b[38;5;129m@required_args\u001b[39m([\u001b[33m\"\u001b[39m\u001b[33mmessages\u001b[39m\u001b[33m\"\u001b[39m, \u001b[33m\"\u001b[39m\u001b[33mmodel\u001b[39m\u001b[33m\"\u001b[39m], [\u001b[33m\"\u001b[39m\u001b[33mmessages\u001b[39m\u001b[33m\"\u001b[39m, \u001b[33m\"\u001b[39m\u001b[33mmodel\u001b[39m\u001b[33m\"\u001b[39m, \u001b[33m\"\u001b[39m\u001b[33mstream\u001b[39m\u001b[33m\"\u001b[39m])\n\u001b[32m   1105\u001b[39m \u001b[38;5;28;01mdef\u001b[39;00m\u001b[38;5;250m \u001b[39m\u001b[34mcreate\u001b[39m(\n\u001b[32m   1106\u001b[39m     \u001b[38;5;28mself\u001b[39m,\n\u001b[32m   (...)\u001b[39m\u001b[32m   1147\u001b[39m     timeout: \u001b[38;5;28mfloat\u001b[39m | httpx.Timeout | \u001b[38;5;28;01mNone\u001b[39;00m | NotGiven = NOT_GIVEN,\n\u001b[32m   1148\u001b[39m ) -> ChatCompletion | Stream[ChatCompletionChunk]:\n\u001b[32m   1149\u001b[39m     validate_response_format(response_format)\n\u001b[32m-> \u001b[39m\u001b[32m1150\u001b[39m     \u001b[38;5;28;01mreturn\u001b[39;00m \u001b[38;5;28;43mself\u001b[39;49m\u001b[43m.\u001b[49m\u001b[43m_post\u001b[49m\u001b[43m(\u001b[49m\n\u001b[32m   1151\u001b[39m \u001b[43m        \u001b[49m\u001b[33;43m\"\u001b[39;49m\u001b[33;43m/chat/completions\u001b[39;49m\u001b[33;43m\"\u001b[39;49m\u001b[43m,\u001b[49m\n\u001b[32m   1152\u001b[39m \u001b[43m        \u001b[49m\u001b[43mbody\u001b[49m\u001b[43m=\u001b[49m\u001b[43mmaybe_transform\u001b[49m\u001b[43m(\u001b[49m\n\u001b[32m   1153\u001b[39m \u001b[43m            \u001b[49m\u001b[43m{\u001b[49m\n\u001b[32m   1154\u001b[39m \u001b[43m                \u001b[49m\u001b[33;43m\"\u001b[39;49m\u001b[33;43mmessages\u001b[39;49m\u001b[33;43m\"\u001b[39;49m\u001b[43m:\u001b[49m\u001b[43m \u001b[49m\u001b[43mmessages\u001b[49m\u001b[43m,\u001b[49m\n\u001b[32m   1155\u001b[39m \u001b[43m                \u001b[49m\u001b[33;43m\"\u001b[39;49m\u001b[33;43mmodel\u001b[39;49m\u001b[33;43m\"\u001b[39;49m\u001b[43m:\u001b[49m\u001b[43m \u001b[49m\u001b[43mmodel\u001b[49m\u001b[43m,\u001b[49m\n\u001b[32m   1156\u001b[39m \u001b[43m                \u001b[49m\u001b[33;43m\"\u001b[39;49m\u001b[33;43maudio\u001b[39;49m\u001b[33;43m\"\u001b[39;49m\u001b[43m:\u001b[49m\u001b[43m \u001b[49m\u001b[43maudio\u001b[49m\u001b[43m,\u001b[49m\n\u001b[32m   1157\u001b[39m \u001b[43m                \u001b[49m\u001b[33;43m\"\u001b[39;49m\u001b[33;43mfrequency_penalty\u001b[39;49m\u001b[33;43m\"\u001b[39;49m\u001b[43m:\u001b[49m\u001b[43m \u001b[49m\u001b[43mfrequency_penalty\u001b[49m\u001b[43m,\u001b[49m\n\u001b[32m   1158\u001b[39m \u001b[43m                \u001b[49m\u001b[33;43m\"\u001b[39;49m\u001b[33;43mfunction_call\u001b[39;49m\u001b[33;43m\"\u001b[39;49m\u001b[43m:\u001b[49m\u001b[43m \u001b[49m\u001b[43mfunction_call\u001b[49m\u001b[43m,\u001b[49m\n\u001b[32m   1159\u001b[39m \u001b[43m                \u001b[49m\u001b[33;43m\"\u001b[39;49m\u001b[33;43mfunctions\u001b[39;49m\u001b[33;43m\"\u001b[39;49m\u001b[43m:\u001b[49m\u001b[43m \u001b[49m\u001b[43mfunctions\u001b[49m\u001b[43m,\u001b[49m\n\u001b[32m   1160\u001b[39m \u001b[43m                \u001b[49m\u001b[33;43m\"\u001b[39;49m\u001b[33;43mlogit_bias\u001b[39;49m\u001b[33;43m\"\u001b[39;49m\u001b[43m:\u001b[49m\u001b[43m \u001b[49m\u001b[43mlogit_bias\u001b[49m\u001b[43m,\u001b[49m\n\u001b[32m   1161\u001b[39m \u001b[43m                \u001b[49m\u001b[33;43m\"\u001b[39;49m\u001b[33;43mlogprobs\u001b[39;49m\u001b[33;43m\"\u001b[39;49m\u001b[43m:\u001b[49m\u001b[43m \u001b[49m\u001b[43mlogprobs\u001b[49m\u001b[43m,\u001b[49m\n\u001b[32m   1162\u001b[39m \u001b[43m                \u001b[49m\u001b[33;43m\"\u001b[39;49m\u001b[33;43mmax_completion_tokens\u001b[39;49m\u001b[33;43m\"\u001b[39;49m\u001b[43m:\u001b[49m\u001b[43m \u001b[49m\u001b[43mmax_completion_tokens\u001b[49m\u001b[43m,\u001b[49m\n\u001b[32m   1163\u001b[39m \u001b[43m                \u001b[49m\u001b[33;43m\"\u001b[39;49m\u001b[33;43mmax_tokens\u001b[39;49m\u001b[33;43m\"\u001b[39;49m\u001b[43m:\u001b[49m\u001b[43m \u001b[49m\u001b[43mmax_tokens\u001b[49m\u001b[43m,\u001b[49m\n\u001b[32m   1164\u001b[39m \u001b[43m                \u001b[49m\u001b[33;43m\"\u001b[39;49m\u001b[33;43mmetadata\u001b[39;49m\u001b[33;43m\"\u001b[39;49m\u001b[43m:\u001b[49m\u001b[43m \u001b[49m\u001b[43mmetadata\u001b[49m\u001b[43m,\u001b[49m\n\u001b[32m   1165\u001b[39m \u001b[43m                \u001b[49m\u001b[33;43m\"\u001b[39;49m\u001b[33;43mmodalities\u001b[39;49m\u001b[33;43m\"\u001b[39;49m\u001b[43m:\u001b[49m\u001b[43m \u001b[49m\u001b[43mmodalities\u001b[49m\u001b[43m,\u001b[49m\n\u001b[32m   1166\u001b[39m \u001b[43m                \u001b[49m\u001b[33;43m\"\u001b[39;49m\u001b[33;43mn\u001b[39;49m\u001b[33;43m\"\u001b[39;49m\u001b[43m:\u001b[49m\u001b[43m \u001b[49m\u001b[43mn\u001b[49m\u001b[43m,\u001b[49m\n\u001b[32m   1167\u001b[39m \u001b[43m                \u001b[49m\u001b[33;43m\"\u001b[39;49m\u001b[33;43mparallel_tool_calls\u001b[39;49m\u001b[33;43m\"\u001b[39;49m\u001b[43m:\u001b[49m\u001b[43m \u001b[49m\u001b[43mparallel_tool_calls\u001b[49m\u001b[43m,\u001b[49m\n\u001b[32m   1168\u001b[39m \u001b[43m                \u001b[49m\u001b[33;43m\"\u001b[39;49m\u001b[33;43mprediction\u001b[39;49m\u001b[33;43m\"\u001b[39;49m\u001b[43m:\u001b[49m\u001b[43m \u001b[49m\u001b[43mprediction\u001b[49m\u001b[43m,\u001b[49m\n\u001b[32m   1169\u001b[39m \u001b[43m                \u001b[49m\u001b[33;43m\"\u001b[39;49m\u001b[33;43mpresence_penalty\u001b[39;49m\u001b[33;43m\"\u001b[39;49m\u001b[43m:\u001b[49m\u001b[43m \u001b[49m\u001b[43mpresence_penalty\u001b[49m\u001b[43m,\u001b[49m\n\u001b[32m   1170\u001b[39m \u001b[43m                \u001b[49m\u001b[33;43m\"\u001b[39;49m\u001b[33;43mprompt_cache_key\u001b[39;49m\u001b[33;43m\"\u001b[39;49m\u001b[43m:\u001b[49m\u001b[43m \u001b[49m\u001b[43mprompt_cache_key\u001b[49m\u001b[43m,\u001b[49m\n\u001b[32m   1171\u001b[39m \u001b[43m                \u001b[49m\u001b[33;43m\"\u001b[39;49m\u001b[33;43mreasoning_effort\u001b[39;49m\u001b[33;43m\"\u001b[39;49m\u001b[43m:\u001b[49m\u001b[43m \u001b[49m\u001b[43mreasoning_effort\u001b[49m\u001b[43m,\u001b[49m\n\u001b[32m   1172\u001b[39m \u001b[43m                \u001b[49m\u001b[33;43m\"\u001b[39;49m\u001b[33;43mresponse_format\u001b[39;49m\u001b[33;43m\"\u001b[39;49m\u001b[43m:\u001b[49m\u001b[43m \u001b[49m\u001b[43mresponse_format\u001b[49m\u001b[43m,\u001b[49m\n\u001b[32m   1173\u001b[39m \u001b[43m                \u001b[49m\u001b[33;43m\"\u001b[39;49m\u001b[33;43msafety_identifier\u001b[39;49m\u001b[33;43m\"\u001b[39;49m\u001b[43m:\u001b[49m\u001b[43m \u001b[49m\u001b[43msafety_identifier\u001b[49m\u001b[43m,\u001b[49m\n\u001b[32m   1174\u001b[39m \u001b[43m                \u001b[49m\u001b[33;43m\"\u001b[39;49m\u001b[33;43mseed\u001b[39;49m\u001b[33;43m\"\u001b[39;49m\u001b[43m:\u001b[49m\u001b[43m \u001b[49m\u001b[43mseed\u001b[49m\u001b[43m,\u001b[49m\n\u001b[32m   1175\u001b[39m \u001b[43m                \u001b[49m\u001b[33;43m\"\u001b[39;49m\u001b[33;43mservice_tier\u001b[39;49m\u001b[33;43m\"\u001b[39;49m\u001b[43m:\u001b[49m\u001b[43m \u001b[49m\u001b[43mservice_tier\u001b[49m\u001b[43m,\u001b[49m\n\u001b[32m   1176\u001b[39m \u001b[43m                \u001b[49m\u001b[33;43m\"\u001b[39;49m\u001b[33;43mstop\u001b[39;49m\u001b[33;43m\"\u001b[39;49m\u001b[43m:\u001b[49m\u001b[43m \u001b[49m\u001b[43mstop\u001b[49m\u001b[43m,\u001b[49m\n\u001b[32m   1177\u001b[39m \u001b[43m                \u001b[49m\u001b[33;43m\"\u001b[39;49m\u001b[33;43mstore\u001b[39;49m\u001b[33;43m\"\u001b[39;49m\u001b[43m:\u001b[49m\u001b[43m \u001b[49m\u001b[43mstore\u001b[49m\u001b[43m,\u001b[49m\n\u001b[32m   1178\u001b[39m \u001b[43m                \u001b[49m\u001b[33;43m\"\u001b[39;49m\u001b[33;43mstream\u001b[39;49m\u001b[33;43m\"\u001b[39;49m\u001b[43m:\u001b[49m\u001b[43m \u001b[49m\u001b[43mstream\u001b[49m\u001b[43m,\u001b[49m\n\u001b[32m   1179\u001b[39m \u001b[43m                \u001b[49m\u001b[33;43m\"\u001b[39;49m\u001b[33;43mstream_options\u001b[39;49m\u001b[33;43m\"\u001b[39;49m\u001b[43m:\u001b[49m\u001b[43m \u001b[49m\u001b[43mstream_options\u001b[49m\u001b[43m,\u001b[49m\n\u001b[32m   1180\u001b[39m \u001b[43m                \u001b[49m\u001b[33;43m\"\u001b[39;49m\u001b[33;43mtemperature\u001b[39;49m\u001b[33;43m\"\u001b[39;49m\u001b[43m:\u001b[49m\u001b[43m \u001b[49m\u001b[43mtemperature\u001b[49m\u001b[43m,\u001b[49m\n\u001b[32m   1181\u001b[39m \u001b[43m                \u001b[49m\u001b[33;43m\"\u001b[39;49m\u001b[33;43mtool_choice\u001b[39;49m\u001b[33;43m\"\u001b[39;49m\u001b[43m:\u001b[49m\u001b[43m \u001b[49m\u001b[43mtool_choice\u001b[49m\u001b[43m,\u001b[49m\n\u001b[32m   1182\u001b[39m \u001b[43m                \u001b[49m\u001b[33;43m\"\u001b[39;49m\u001b[33;43mtools\u001b[39;49m\u001b[33;43m\"\u001b[39;49m\u001b[43m:\u001b[49m\u001b[43m \u001b[49m\u001b[43mtools\u001b[49m\u001b[43m,\u001b[49m\n\u001b[32m   1183\u001b[39m \u001b[43m                \u001b[49m\u001b[33;43m\"\u001b[39;49m\u001b[33;43mtop_logprobs\u001b[39;49m\u001b[33;43m\"\u001b[39;49m\u001b[43m:\u001b[49m\u001b[43m \u001b[49m\u001b[43mtop_logprobs\u001b[49m\u001b[43m,\u001b[49m\n\u001b[32m   1184\u001b[39m \u001b[43m                \u001b[49m\u001b[33;43m\"\u001b[39;49m\u001b[33;43mtop_p\u001b[39;49m\u001b[33;43m\"\u001b[39;49m\u001b[43m:\u001b[49m\u001b[43m \u001b[49m\u001b[43mtop_p\u001b[49m\u001b[43m,\u001b[49m\n\u001b[32m   1185\u001b[39m \u001b[43m                \u001b[49m\u001b[33;43m\"\u001b[39;49m\u001b[33;43muser\u001b[39;49m\u001b[33;43m\"\u001b[39;49m\u001b[43m:\u001b[49m\u001b[43m \u001b[49m\u001b[43muser\u001b[49m\u001b[43m,\u001b[49m\n\u001b[32m   1186\u001b[39m \u001b[43m                \u001b[49m\u001b[33;43m\"\u001b[39;49m\u001b[33;43mverbosity\u001b[39;49m\u001b[33;43m\"\u001b[39;49m\u001b[43m:\u001b[49m\u001b[43m \u001b[49m\u001b[43mverbosity\u001b[49m\u001b[43m,\u001b[49m\n\u001b[32m   1187\u001b[39m \u001b[43m                \u001b[49m\u001b[33;43m\"\u001b[39;49m\u001b[33;43mweb_search_options\u001b[39;49m\u001b[33;43m\"\u001b[39;49m\u001b[43m:\u001b[49m\u001b[43m \u001b[49m\u001b[43mweb_search_options\u001b[49m\u001b[43m,\u001b[49m\n\u001b[32m   1188\u001b[39m \u001b[43m            \u001b[49m\u001b[43m}\u001b[49m\u001b[43m,\u001b[49m\n\u001b[32m   1189\u001b[39m \u001b[43m            \u001b[49m\u001b[43mcompletion_create_params\u001b[49m\u001b[43m.\u001b[49m\u001b[43mCompletionCreateParamsStreaming\u001b[49m\n\u001b[32m   1190\u001b[39m \u001b[43m            \u001b[49m\u001b[38;5;28;43;01mif\u001b[39;49;00m\u001b[43m \u001b[49m\u001b[43mstream\u001b[49m\n\u001b[32m   1191\u001b[39m \u001b[43m            \u001b[49m\u001b[38;5;28;43;01melse\u001b[39;49;00m\u001b[43m \u001b[49m\u001b[43mcompletion_create_params\u001b[49m\u001b[43m.\u001b[49m\u001b[43mCompletionCreateParamsNonStreaming\u001b[49m\u001b[43m,\u001b[49m\n\u001b[32m   1192\u001b[39m \u001b[43m        \u001b[49m\u001b[43m)\u001b[49m\u001b[43m,\u001b[49m\n\u001b[32m   1193\u001b[39m \u001b[43m        \u001b[49m\u001b[43moptions\u001b[49m\u001b[43m=\u001b[49m\u001b[43mmake_request_options\u001b[49m\u001b[43m(\u001b[49m\n\u001b[32m   1194\u001b[39m \u001b[43m            \u001b[49m\u001b[43mextra_headers\u001b[49m\u001b[43m=\u001b[49m\u001b[43mextra_headers\u001b[49m\u001b[43m,\u001b[49m\u001b[43m \u001b[49m\u001b[43mextra_query\u001b[49m\u001b[43m=\u001b[49m\u001b[43mextra_query\u001b[49m\u001b[43m,\u001b[49m\u001b[43m \u001b[49m\u001b[43mextra_body\u001b[49m\u001b[43m=\u001b[49m\u001b[43mextra_body\u001b[49m\u001b[43m,\u001b[49m\u001b[43m \u001b[49m\u001b[43mtimeout\u001b[49m\u001b[43m=\u001b[49m\u001b[43mtimeout\u001b[49m\n\u001b[32m   1195\u001b[39m \u001b[43m        \u001b[49m\u001b[43m)\u001b[49m\u001b[43m,\u001b[49m\n\u001b[32m   1196\u001b[39m \u001b[43m        \u001b[49m\u001b[43mcast_to\u001b[49m\u001b[43m=\u001b[49m\u001b[43mChatCompletion\u001b[49m\u001b[43m,\u001b[49m\n\u001b[32m   1197\u001b[39m \u001b[43m        \u001b[49m\u001b[43mstream\u001b[49m\u001b[43m=\u001b[49m\u001b[43mstream\u001b[49m\u001b[43m \u001b[49m\u001b[38;5;129;43;01mor\u001b[39;49;00m\u001b[43m \u001b[49m\u001b[38;5;28;43;01mFalse\u001b[39;49;00m\u001b[43m,\u001b[49m\n\u001b[32m   1198\u001b[39m \u001b[43m        \u001b[49m\u001b[43mstream_cls\u001b[49m\u001b[43m=\u001b[49m\u001b[43mStream\u001b[49m\u001b[43m[\u001b[49m\u001b[43mChatCompletionChunk\u001b[49m\u001b[43m]\u001b[49m\u001b[43m,\u001b[49m\n\u001b[32m   1199\u001b[39m \u001b[43m    \u001b[49m\u001b[43m)\u001b[49m\n",
      "\u001b[36mFile \u001b[39m\u001b[32mc:\\Users\\ANDERBE\\AI-Agent-POC-git\\AI-Agent\\.venv\\Lib\\site-packages\\openai\\_base_client.py:1259\u001b[39m, in \u001b[36mSyncAPIClient.post\u001b[39m\u001b[34m(self, path, cast_to, body, options, files, stream, stream_cls)\u001b[39m\n\u001b[32m   1245\u001b[39m \u001b[38;5;28;01mdef\u001b[39;00m\u001b[38;5;250m \u001b[39m\u001b[34mpost\u001b[39m(\n\u001b[32m   1246\u001b[39m     \u001b[38;5;28mself\u001b[39m,\n\u001b[32m   1247\u001b[39m     path: \u001b[38;5;28mstr\u001b[39m,\n\u001b[32m   (...)\u001b[39m\u001b[32m   1254\u001b[39m     stream_cls: \u001b[38;5;28mtype\u001b[39m[_StreamT] | \u001b[38;5;28;01mNone\u001b[39;00m = \u001b[38;5;28;01mNone\u001b[39;00m,\n\u001b[32m   1255\u001b[39m ) -> ResponseT | _StreamT:\n\u001b[32m   1256\u001b[39m     opts = FinalRequestOptions.construct(\n\u001b[32m   1257\u001b[39m         method=\u001b[33m\"\u001b[39m\u001b[33mpost\u001b[39m\u001b[33m\"\u001b[39m, url=path, json_data=body, files=to_httpx_files(files), **options\n\u001b[32m   1258\u001b[39m     )\n\u001b[32m-> \u001b[39m\u001b[32m1259\u001b[39m     \u001b[38;5;28;01mreturn\u001b[39;00m cast(ResponseT, \u001b[38;5;28;43mself\u001b[39;49m\u001b[43m.\u001b[49m\u001b[43mrequest\u001b[49m\u001b[43m(\u001b[49m\u001b[43mcast_to\u001b[49m\u001b[43m,\u001b[49m\u001b[43m \u001b[49m\u001b[43mopts\u001b[49m\u001b[43m,\u001b[49m\u001b[43m \u001b[49m\u001b[43mstream\u001b[49m\u001b[43m=\u001b[49m\u001b[43mstream\u001b[49m\u001b[43m,\u001b[49m\u001b[43m \u001b[49m\u001b[43mstream_cls\u001b[49m\u001b[43m=\u001b[49m\u001b[43mstream_cls\u001b[49m\u001b[43m)\u001b[49m)\n",
      "\u001b[36mFile \u001b[39m\u001b[32mc:\\Users\\ANDERBE\\AI-Agent-POC-git\\AI-Agent\\.venv\\Lib\\site-packages\\openai\\_base_client.py:982\u001b[39m, in \u001b[36mSyncAPIClient.request\u001b[39m\u001b[34m(self, cast_to, options, stream, stream_cls)\u001b[39m\n\u001b[32m    980\u001b[39m response = \u001b[38;5;28;01mNone\u001b[39;00m\n\u001b[32m    981\u001b[39m \u001b[38;5;28;01mtry\u001b[39;00m:\n\u001b[32m--> \u001b[39m\u001b[32m982\u001b[39m     response = \u001b[38;5;28;43mself\u001b[39;49m\u001b[43m.\u001b[49m\u001b[43m_client\u001b[49m\u001b[43m.\u001b[49m\u001b[43msend\u001b[49m\u001b[43m(\u001b[49m\n\u001b[32m    983\u001b[39m \u001b[43m        \u001b[49m\u001b[43mrequest\u001b[49m\u001b[43m,\u001b[49m\n\u001b[32m    984\u001b[39m \u001b[43m        \u001b[49m\u001b[43mstream\u001b[49m\u001b[43m=\u001b[49m\u001b[43mstream\u001b[49m\u001b[43m \u001b[49m\u001b[38;5;129;43;01mor\u001b[39;49;00m\u001b[43m \u001b[49m\u001b[38;5;28;43mself\u001b[39;49m\u001b[43m.\u001b[49m\u001b[43m_should_stream_response_body\u001b[49m\u001b[43m(\u001b[49m\u001b[43mrequest\u001b[49m\u001b[43m=\u001b[49m\u001b[43mrequest\u001b[49m\u001b[43m)\u001b[49m\u001b[43m,\u001b[49m\n\u001b[32m    985\u001b[39m \u001b[43m        \u001b[49m\u001b[43m*\u001b[49m\u001b[43m*\u001b[49m\u001b[43mkwargs\u001b[49m\u001b[43m,\u001b[49m\n\u001b[32m    986\u001b[39m \u001b[43m    \u001b[49m\u001b[43m)\u001b[49m\n\u001b[32m    987\u001b[39m \u001b[38;5;28;01mexcept\u001b[39;00m httpx.TimeoutException \u001b[38;5;28;01mas\u001b[39;00m err:\n\u001b[32m    988\u001b[39m     log.debug(\u001b[33m\"\u001b[39m\u001b[33mEncountered httpx.TimeoutException\u001b[39m\u001b[33m\"\u001b[39m, exc_info=\u001b[38;5;28;01mTrue\u001b[39;00m)\n",
      "\u001b[36mFile \u001b[39m\u001b[32mc:\\Users\\ANDERBE\\AI-Agent-POC-git\\AI-Agent\\.venv\\Lib\\site-packages\\httpx\\_client.py:914\u001b[39m, in \u001b[36mClient.send\u001b[39m\u001b[34m(self, request, stream, auth, follow_redirects)\u001b[39m\n\u001b[32m    910\u001b[39m \u001b[38;5;28mself\u001b[39m._set_timeout(request)\n\u001b[32m    912\u001b[39m auth = \u001b[38;5;28mself\u001b[39m._build_request_auth(request, auth)\n\u001b[32m--> \u001b[39m\u001b[32m914\u001b[39m response = \u001b[38;5;28;43mself\u001b[39;49m\u001b[43m.\u001b[49m\u001b[43m_send_handling_auth\u001b[49m\u001b[43m(\u001b[49m\n\u001b[32m    915\u001b[39m \u001b[43m    \u001b[49m\u001b[43mrequest\u001b[49m\u001b[43m,\u001b[49m\n\u001b[32m    916\u001b[39m \u001b[43m    \u001b[49m\u001b[43mauth\u001b[49m\u001b[43m=\u001b[49m\u001b[43mauth\u001b[49m\u001b[43m,\u001b[49m\n\u001b[32m    917\u001b[39m \u001b[43m    \u001b[49m\u001b[43mfollow_redirects\u001b[49m\u001b[43m=\u001b[49m\u001b[43mfollow_redirects\u001b[49m\u001b[43m,\u001b[49m\n\u001b[32m    918\u001b[39m \u001b[43m    \u001b[49m\u001b[43mhistory\u001b[49m\u001b[43m=\u001b[49m\u001b[43m[\u001b[49m\u001b[43m]\u001b[49m\u001b[43m,\u001b[49m\n\u001b[32m    919\u001b[39m \u001b[43m\u001b[49m\u001b[43m)\u001b[49m\n\u001b[32m    920\u001b[39m \u001b[38;5;28;01mtry\u001b[39;00m:\n\u001b[32m    921\u001b[39m     \u001b[38;5;28;01mif\u001b[39;00m \u001b[38;5;129;01mnot\u001b[39;00m stream:\n",
      "\u001b[36mFile \u001b[39m\u001b[32mc:\\Users\\ANDERBE\\AI-Agent-POC-git\\AI-Agent\\.venv\\Lib\\site-packages\\httpx\\_client.py:942\u001b[39m, in \u001b[36mClient._send_handling_auth\u001b[39m\u001b[34m(self, request, auth, follow_redirects, history)\u001b[39m\n\u001b[32m    939\u001b[39m request = \u001b[38;5;28mnext\u001b[39m(auth_flow)\n\u001b[32m    941\u001b[39m \u001b[38;5;28;01mwhile\u001b[39;00m \u001b[38;5;28;01mTrue\u001b[39;00m:\n\u001b[32m--> \u001b[39m\u001b[32m942\u001b[39m     response = \u001b[38;5;28;43mself\u001b[39;49m\u001b[43m.\u001b[49m\u001b[43m_send_handling_redirects\u001b[49m\u001b[43m(\u001b[49m\n\u001b[32m    943\u001b[39m \u001b[43m        \u001b[49m\u001b[43mrequest\u001b[49m\u001b[43m,\u001b[49m\n\u001b[32m    944\u001b[39m \u001b[43m        \u001b[49m\u001b[43mfollow_redirects\u001b[49m\u001b[43m=\u001b[49m\u001b[43mfollow_redirects\u001b[49m\u001b[43m,\u001b[49m\n\u001b[32m    945\u001b[39m \u001b[43m        \u001b[49m\u001b[43mhistory\u001b[49m\u001b[43m=\u001b[49m\u001b[43mhistory\u001b[49m\u001b[43m,\u001b[49m\n\u001b[32m    946\u001b[39m \u001b[43m    \u001b[49m\u001b[43m)\u001b[49m\n\u001b[32m    947\u001b[39m     \u001b[38;5;28;01mtry\u001b[39;00m:\n\u001b[32m    948\u001b[39m         \u001b[38;5;28;01mtry\u001b[39;00m:\n",
      "\u001b[36mFile \u001b[39m\u001b[32mc:\\Users\\ANDERBE\\AI-Agent-POC-git\\AI-Agent\\.venv\\Lib\\site-packages\\httpx\\_client.py:979\u001b[39m, in \u001b[36mClient._send_handling_redirects\u001b[39m\u001b[34m(self, request, follow_redirects, history)\u001b[39m\n\u001b[32m    976\u001b[39m \u001b[38;5;28;01mfor\u001b[39;00m hook \u001b[38;5;129;01min\u001b[39;00m \u001b[38;5;28mself\u001b[39m._event_hooks[\u001b[33m\"\u001b[39m\u001b[33mrequest\u001b[39m\u001b[33m\"\u001b[39m]:\n\u001b[32m    977\u001b[39m     hook(request)\n\u001b[32m--> \u001b[39m\u001b[32m979\u001b[39m response = \u001b[38;5;28;43mself\u001b[39;49m\u001b[43m.\u001b[49m\u001b[43m_send_single_request\u001b[49m\u001b[43m(\u001b[49m\u001b[43mrequest\u001b[49m\u001b[43m)\u001b[49m\n\u001b[32m    980\u001b[39m \u001b[38;5;28;01mtry\u001b[39;00m:\n\u001b[32m    981\u001b[39m     \u001b[38;5;28;01mfor\u001b[39;00m hook \u001b[38;5;129;01min\u001b[39;00m \u001b[38;5;28mself\u001b[39m._event_hooks[\u001b[33m\"\u001b[39m\u001b[33mresponse\u001b[39m\u001b[33m\"\u001b[39m]:\n",
      "\u001b[36mFile \u001b[39m\u001b[32mc:\\Users\\ANDERBE\\AI-Agent-POC-git\\AI-Agent\\.venv\\Lib\\site-packages\\httpx\\_client.py:1014\u001b[39m, in \u001b[36mClient._send_single_request\u001b[39m\u001b[34m(self, request)\u001b[39m\n\u001b[32m   1009\u001b[39m     \u001b[38;5;28;01mraise\u001b[39;00m \u001b[38;5;167;01mRuntimeError\u001b[39;00m(\n\u001b[32m   1010\u001b[39m         \u001b[33m\"\u001b[39m\u001b[33mAttempted to send an async request with a sync Client instance.\u001b[39m\u001b[33m\"\u001b[39m\n\u001b[32m   1011\u001b[39m     )\n\u001b[32m   1013\u001b[39m \u001b[38;5;28;01mwith\u001b[39;00m request_context(request=request):\n\u001b[32m-> \u001b[39m\u001b[32m1014\u001b[39m     response = \u001b[43mtransport\u001b[49m\u001b[43m.\u001b[49m\u001b[43mhandle_request\u001b[49m\u001b[43m(\u001b[49m\u001b[43mrequest\u001b[49m\u001b[43m)\u001b[49m\n\u001b[32m   1016\u001b[39m \u001b[38;5;28;01massert\u001b[39;00m \u001b[38;5;28misinstance\u001b[39m(response.stream, SyncByteStream)\n\u001b[32m   1018\u001b[39m response.request = request\n",
      "\u001b[36mFile \u001b[39m\u001b[32mc:\\Users\\ANDERBE\\AI-Agent-POC-git\\AI-Agent\\.venv\\Lib\\site-packages\\httpx\\_transports\\default.py:250\u001b[39m, in \u001b[36mHTTPTransport.handle_request\u001b[39m\u001b[34m(self, request)\u001b[39m\n\u001b[32m    237\u001b[39m req = httpcore.Request(\n\u001b[32m    238\u001b[39m     method=request.method,\n\u001b[32m    239\u001b[39m     url=httpcore.URL(\n\u001b[32m   (...)\u001b[39m\u001b[32m    247\u001b[39m     extensions=request.extensions,\n\u001b[32m    248\u001b[39m )\n\u001b[32m    249\u001b[39m \u001b[38;5;28;01mwith\u001b[39;00m map_httpcore_exceptions():\n\u001b[32m--> \u001b[39m\u001b[32m250\u001b[39m     resp = \u001b[38;5;28;43mself\u001b[39;49m\u001b[43m.\u001b[49m\u001b[43m_pool\u001b[49m\u001b[43m.\u001b[49m\u001b[43mhandle_request\u001b[49m\u001b[43m(\u001b[49m\u001b[43mreq\u001b[49m\u001b[43m)\u001b[49m\n\u001b[32m    252\u001b[39m \u001b[38;5;28;01massert\u001b[39;00m \u001b[38;5;28misinstance\u001b[39m(resp.stream, typing.Iterable)\n\u001b[32m    254\u001b[39m \u001b[38;5;28;01mreturn\u001b[39;00m Response(\n\u001b[32m    255\u001b[39m     status_code=resp.status,\n\u001b[32m    256\u001b[39m     headers=resp.headers,\n\u001b[32m    257\u001b[39m     stream=ResponseStream(resp.stream),\n\u001b[32m    258\u001b[39m     extensions=resp.extensions,\n\u001b[32m    259\u001b[39m )\n",
      "\u001b[36mFile \u001b[39m\u001b[32mc:\\Users\\ANDERBE\\AI-Agent-POC-git\\AI-Agent\\.venv\\Lib\\site-packages\\httpcore\\_sync\\connection_pool.py:256\u001b[39m, in \u001b[36mConnectionPool.handle_request\u001b[39m\u001b[34m(self, request)\u001b[39m\n\u001b[32m    253\u001b[39m         closing = \u001b[38;5;28mself\u001b[39m._assign_requests_to_connections()\n\u001b[32m    255\u001b[39m     \u001b[38;5;28mself\u001b[39m._close_connections(closing)\n\u001b[32m--> \u001b[39m\u001b[32m256\u001b[39m     \u001b[38;5;28;01mraise\u001b[39;00m exc \u001b[38;5;28;01mfrom\u001b[39;00m\u001b[38;5;250m \u001b[39m\u001b[38;5;28;01mNone\u001b[39;00m\n\u001b[32m    258\u001b[39m \u001b[38;5;66;03m# Return the response. Note that in this case we still have to manage\u001b[39;00m\n\u001b[32m    259\u001b[39m \u001b[38;5;66;03m# the point at which the response is closed.\u001b[39;00m\n\u001b[32m    260\u001b[39m \u001b[38;5;28;01massert\u001b[39;00m \u001b[38;5;28misinstance\u001b[39m(response.stream, typing.Iterable)\n",
      "\u001b[36mFile \u001b[39m\u001b[32mc:\\Users\\ANDERBE\\AI-Agent-POC-git\\AI-Agent\\.venv\\Lib\\site-packages\\httpcore\\_sync\\connection_pool.py:236\u001b[39m, in \u001b[36mConnectionPool.handle_request\u001b[39m\u001b[34m(self, request)\u001b[39m\n\u001b[32m    232\u001b[39m connection = pool_request.wait_for_connection(timeout=timeout)\n\u001b[32m    234\u001b[39m \u001b[38;5;28;01mtry\u001b[39;00m:\n\u001b[32m    235\u001b[39m     \u001b[38;5;66;03m# Send the request on the assigned connection.\u001b[39;00m\n\u001b[32m--> \u001b[39m\u001b[32m236\u001b[39m     response = \u001b[43mconnection\u001b[49m\u001b[43m.\u001b[49m\u001b[43mhandle_request\u001b[49m\u001b[43m(\u001b[49m\n\u001b[32m    237\u001b[39m \u001b[43m        \u001b[49m\u001b[43mpool_request\u001b[49m\u001b[43m.\u001b[49m\u001b[43mrequest\u001b[49m\n\u001b[32m    238\u001b[39m \u001b[43m    \u001b[49m\u001b[43m)\u001b[49m\n\u001b[32m    239\u001b[39m \u001b[38;5;28;01mexcept\u001b[39;00m ConnectionNotAvailable:\n\u001b[32m    240\u001b[39m     \u001b[38;5;66;03m# In some cases a connection may initially be available to\u001b[39;00m\n\u001b[32m    241\u001b[39m     \u001b[38;5;66;03m# handle a request, but then become unavailable.\u001b[39;00m\n\u001b[32m    242\u001b[39m     \u001b[38;5;66;03m#\u001b[39;00m\n\u001b[32m    243\u001b[39m     \u001b[38;5;66;03m# In this case we clear the connection and try again.\u001b[39;00m\n\u001b[32m    244\u001b[39m     pool_request.clear_connection()\n",
      "\u001b[36mFile \u001b[39m\u001b[32mc:\\Users\\ANDERBE\\AI-Agent-POC-git\\AI-Agent\\.venv\\Lib\\site-packages\\httpcore\\_sync\\connection.py:103\u001b[39m, in \u001b[36mHTTPConnection.handle_request\u001b[39m\u001b[34m(self, request)\u001b[39m\n\u001b[32m    100\u001b[39m     \u001b[38;5;28mself\u001b[39m._connect_failed = \u001b[38;5;28;01mTrue\u001b[39;00m\n\u001b[32m    101\u001b[39m     \u001b[38;5;28;01mraise\u001b[39;00m exc\n\u001b[32m--> \u001b[39m\u001b[32m103\u001b[39m \u001b[38;5;28;01mreturn\u001b[39;00m \u001b[38;5;28;43mself\u001b[39;49m\u001b[43m.\u001b[49m\u001b[43m_connection\u001b[49m\u001b[43m.\u001b[49m\u001b[43mhandle_request\u001b[49m\u001b[43m(\u001b[49m\u001b[43mrequest\u001b[49m\u001b[43m)\u001b[49m\n",
      "\u001b[36mFile \u001b[39m\u001b[32mc:\\Users\\ANDERBE\\AI-Agent-POC-git\\AI-Agent\\.venv\\Lib\\site-packages\\httpcore\\_sync\\http11.py:136\u001b[39m, in \u001b[36mHTTP11Connection.handle_request\u001b[39m\u001b[34m(self, request)\u001b[39m\n\u001b[32m    134\u001b[39m     \u001b[38;5;28;01mwith\u001b[39;00m Trace(\u001b[33m\"\u001b[39m\u001b[33mresponse_closed\u001b[39m\u001b[33m\"\u001b[39m, logger, request) \u001b[38;5;28;01mas\u001b[39;00m trace:\n\u001b[32m    135\u001b[39m         \u001b[38;5;28mself\u001b[39m._response_closed()\n\u001b[32m--> \u001b[39m\u001b[32m136\u001b[39m \u001b[38;5;28;01mraise\u001b[39;00m exc\n",
      "\u001b[36mFile \u001b[39m\u001b[32mc:\\Users\\ANDERBE\\AI-Agent-POC-git\\AI-Agent\\.venv\\Lib\\site-packages\\httpcore\\_sync\\http11.py:106\u001b[39m, in \u001b[36mHTTP11Connection.handle_request\u001b[39m\u001b[34m(self, request)\u001b[39m\n\u001b[32m     95\u001b[39m     \u001b[38;5;28;01mpass\u001b[39;00m\n\u001b[32m     97\u001b[39m \u001b[38;5;28;01mwith\u001b[39;00m Trace(\n\u001b[32m     98\u001b[39m     \u001b[33m\"\u001b[39m\u001b[33mreceive_response_headers\u001b[39m\u001b[33m\"\u001b[39m, logger, request, kwargs\n\u001b[32m     99\u001b[39m ) \u001b[38;5;28;01mas\u001b[39;00m trace:\n\u001b[32m    100\u001b[39m     (\n\u001b[32m    101\u001b[39m         http_version,\n\u001b[32m    102\u001b[39m         status,\n\u001b[32m    103\u001b[39m         reason_phrase,\n\u001b[32m    104\u001b[39m         headers,\n\u001b[32m    105\u001b[39m         trailing_data,\n\u001b[32m--> \u001b[39m\u001b[32m106\u001b[39m     ) = \u001b[38;5;28;43mself\u001b[39;49m\u001b[43m.\u001b[49m\u001b[43m_receive_response_headers\u001b[49m\u001b[43m(\u001b[49m\u001b[43m*\u001b[49m\u001b[43m*\u001b[49m\u001b[43mkwargs\u001b[49m\u001b[43m)\u001b[49m\n\u001b[32m    107\u001b[39m     trace.return_value = (\n\u001b[32m    108\u001b[39m         http_version,\n\u001b[32m    109\u001b[39m         status,\n\u001b[32m    110\u001b[39m         reason_phrase,\n\u001b[32m    111\u001b[39m         headers,\n\u001b[32m    112\u001b[39m     )\n\u001b[32m    114\u001b[39m network_stream = \u001b[38;5;28mself\u001b[39m._network_stream\n",
      "\u001b[36mFile \u001b[39m\u001b[32mc:\\Users\\ANDERBE\\AI-Agent-POC-git\\AI-Agent\\.venv\\Lib\\site-packages\\httpcore\\_sync\\http11.py:177\u001b[39m, in \u001b[36mHTTP11Connection._receive_response_headers\u001b[39m\u001b[34m(self, request)\u001b[39m\n\u001b[32m    174\u001b[39m timeout = timeouts.get(\u001b[33m\"\u001b[39m\u001b[33mread\u001b[39m\u001b[33m\"\u001b[39m, \u001b[38;5;28;01mNone\u001b[39;00m)\n\u001b[32m    176\u001b[39m \u001b[38;5;28;01mwhile\u001b[39;00m \u001b[38;5;28;01mTrue\u001b[39;00m:\n\u001b[32m--> \u001b[39m\u001b[32m177\u001b[39m     event = \u001b[38;5;28;43mself\u001b[39;49m\u001b[43m.\u001b[49m\u001b[43m_receive_event\u001b[49m\u001b[43m(\u001b[49m\u001b[43mtimeout\u001b[49m\u001b[43m=\u001b[49m\u001b[43mtimeout\u001b[49m\u001b[43m)\u001b[49m\n\u001b[32m    178\u001b[39m     \u001b[38;5;28;01mif\u001b[39;00m \u001b[38;5;28misinstance\u001b[39m(event, h11.Response):\n\u001b[32m    179\u001b[39m         \u001b[38;5;28;01mbreak\u001b[39;00m\n",
      "\u001b[36mFile \u001b[39m\u001b[32mc:\\Users\\ANDERBE\\AI-Agent-POC-git\\AI-Agent\\.venv\\Lib\\site-packages\\httpcore\\_sync\\http11.py:217\u001b[39m, in \u001b[36mHTTP11Connection._receive_event\u001b[39m\u001b[34m(self, timeout)\u001b[39m\n\u001b[32m    214\u001b[39m     event = \u001b[38;5;28mself\u001b[39m._h11_state.next_event()\n\u001b[32m    216\u001b[39m \u001b[38;5;28;01mif\u001b[39;00m event \u001b[38;5;129;01mis\u001b[39;00m h11.NEED_DATA:\n\u001b[32m--> \u001b[39m\u001b[32m217\u001b[39m     data = \u001b[38;5;28;43mself\u001b[39;49m\u001b[43m.\u001b[49m\u001b[43m_network_stream\u001b[49m\u001b[43m.\u001b[49m\u001b[43mread\u001b[49m\u001b[43m(\u001b[49m\n\u001b[32m    218\u001b[39m \u001b[43m        \u001b[49m\u001b[38;5;28;43mself\u001b[39;49m\u001b[43m.\u001b[49m\u001b[43mREAD_NUM_BYTES\u001b[49m\u001b[43m,\u001b[49m\u001b[43m \u001b[49m\u001b[43mtimeout\u001b[49m\u001b[43m=\u001b[49m\u001b[43mtimeout\u001b[49m\n\u001b[32m    219\u001b[39m \u001b[43m    \u001b[49m\u001b[43m)\u001b[49m\n\u001b[32m    221\u001b[39m     \u001b[38;5;66;03m# If we feed this case through h11 we'll raise an exception like:\u001b[39;00m\n\u001b[32m    222\u001b[39m     \u001b[38;5;66;03m#\u001b[39;00m\n\u001b[32m    223\u001b[39m     \u001b[38;5;66;03m#     httpcore.RemoteProtocolError: can't handle event type\u001b[39;00m\n\u001b[32m   (...)\u001b[39m\u001b[32m    227\u001b[39m     \u001b[38;5;66;03m# perspective. Instead we handle this case distinctly and treat\u001b[39;00m\n\u001b[32m    228\u001b[39m     \u001b[38;5;66;03m# it as a ConnectError.\u001b[39;00m\n\u001b[32m    229\u001b[39m     \u001b[38;5;28;01mif\u001b[39;00m data == \u001b[33mb\u001b[39m\u001b[33m\"\u001b[39m\u001b[33m\"\u001b[39m \u001b[38;5;129;01mand\u001b[39;00m \u001b[38;5;28mself\u001b[39m._h11_state.their_state == h11.SEND_RESPONSE:\n",
      "\u001b[36mFile \u001b[39m\u001b[32mc:\\Users\\ANDERBE\\AI-Agent-POC-git\\AI-Agent\\.venv\\Lib\\site-packages\\httpcore\\_backends\\sync.py:128\u001b[39m, in \u001b[36mSyncStream.read\u001b[39m\u001b[34m(self, max_bytes, timeout)\u001b[39m\n\u001b[32m    126\u001b[39m \u001b[38;5;28;01mwith\u001b[39;00m map_exceptions(exc_map):\n\u001b[32m    127\u001b[39m     \u001b[38;5;28mself\u001b[39m._sock.settimeout(timeout)\n\u001b[32m--> \u001b[39m\u001b[32m128\u001b[39m     \u001b[38;5;28;01mreturn\u001b[39;00m \u001b[38;5;28;43mself\u001b[39;49m\u001b[43m.\u001b[49m\u001b[43m_sock\u001b[49m\u001b[43m.\u001b[49m\u001b[43mrecv\u001b[49m\u001b[43m(\u001b[49m\u001b[43mmax_bytes\u001b[49m\u001b[43m)\u001b[49m\n",
      "\u001b[36mFile \u001b[39m\u001b[32m~\\AppData\\Local\\Programs\\Python\\Python311\\Lib\\ssl.py:1295\u001b[39m, in \u001b[36mSSLSocket.recv\u001b[39m\u001b[34m(self, buflen, flags)\u001b[39m\n\u001b[32m   1291\u001b[39m     \u001b[38;5;28;01mif\u001b[39;00m flags != \u001b[32m0\u001b[39m:\n\u001b[32m   1292\u001b[39m         \u001b[38;5;28;01mraise\u001b[39;00m \u001b[38;5;167;01mValueError\u001b[39;00m(\n\u001b[32m   1293\u001b[39m             \u001b[33m\"\u001b[39m\u001b[33mnon-zero flags not allowed in calls to recv() on \u001b[39m\u001b[38;5;132;01m%s\u001b[39;00m\u001b[33m\"\u001b[39m %\n\u001b[32m   1294\u001b[39m             \u001b[38;5;28mself\u001b[39m.\u001b[34m__class__\u001b[39m)\n\u001b[32m-> \u001b[39m\u001b[32m1295\u001b[39m     \u001b[38;5;28;01mreturn\u001b[39;00m \u001b[38;5;28;43mself\u001b[39;49m\u001b[43m.\u001b[49m\u001b[43mread\u001b[49m\u001b[43m(\u001b[49m\u001b[43mbuflen\u001b[49m\u001b[43m)\u001b[49m\n\u001b[32m   1296\u001b[39m \u001b[38;5;28;01melse\u001b[39;00m:\n\u001b[32m   1297\u001b[39m     \u001b[38;5;28;01mreturn\u001b[39;00m \u001b[38;5;28msuper\u001b[39m().recv(buflen, flags)\n",
      "\u001b[36mFile \u001b[39m\u001b[32m~\\AppData\\Local\\Programs\\Python\\Python311\\Lib\\ssl.py:1168\u001b[39m, in \u001b[36mSSLSocket.read\u001b[39m\u001b[34m(self, len, buffer)\u001b[39m\n\u001b[32m   1166\u001b[39m         \u001b[38;5;28;01mreturn\u001b[39;00m \u001b[38;5;28mself\u001b[39m._sslobj.read(\u001b[38;5;28mlen\u001b[39m, buffer)\n\u001b[32m   1167\u001b[39m     \u001b[38;5;28;01melse\u001b[39;00m:\n\u001b[32m-> \u001b[39m\u001b[32m1168\u001b[39m         \u001b[38;5;28;01mreturn\u001b[39;00m \u001b[38;5;28;43mself\u001b[39;49m\u001b[43m.\u001b[49m\u001b[43m_sslobj\u001b[49m\u001b[43m.\u001b[49m\u001b[43mread\u001b[49m\u001b[43m(\u001b[49m\u001b[38;5;28;43mlen\u001b[39;49m\u001b[43m)\u001b[49m\n\u001b[32m   1169\u001b[39m \u001b[38;5;28;01mexcept\u001b[39;00m SSLError \u001b[38;5;28;01mas\u001b[39;00m x:\n\u001b[32m   1170\u001b[39m     \u001b[38;5;28;01mif\u001b[39;00m x.args[\u001b[32m0\u001b[39m] == SSL_ERROR_EOF \u001b[38;5;129;01mand\u001b[39;00m \u001b[38;5;28mself\u001b[39m.suppress_ragged_eofs:\n",
      "\u001b[31mKeyboardInterrupt\u001b[39m: "
     ]
    }
   ],
   "source": [
    "import pandas as pd\n",
    "import importlib\n",
    "import src.rag_eval.evaluators as evaluators\n",
    "import rag_eval.coordinator as coordinator\n",
    "\n",
    "importlib.reload(evaluators)  # force reimport after changes\n",
    "importlib.reload(coordinator)\n",
    "\n",
    "\n",
    "# initiate llm \n",
    "api_key = os.getenv(\"OPENAI_API_KEY\")\n",
    "api_version = os.getenv(\"OPENAI_API_VERSION\")\n",
    "base_url = os.getenv(\"OPENAI_CHATCOMPLETIONS_URL\")\n",
    "model = os.getenv(\"OPENAI_DEPLOYMENT\")\n",
    "password = os.getenv(\"CORRECT_PASSWORD\")\n",
    "\n",
    "llm = AzureClient(\n",
    "    api_key=api_key,\n",
    "    api_version=api_version,\n",
    "    base_url=base_url,\n",
    "    model=model\n",
    ")\n",
    "\n",
    "\n",
    "# run evaluator to create metrics: answer_precision, answer_recall, retrieval_precision, retrieval_recall\n",
    "coord = RAGEvaluator(llm_extractor=llm, llm_judge=llm)\n",
    "\n",
    "answer_recall = []\n",
    "answer_precision = []\n",
    "retrieval_recall = []\n",
    "retrieval_precision = []\n",
    "\n",
    "for i, res in enumerate(eval_conts):\n",
    "    #iteration tracker\n",
    "    print(f\"=== ITERATION-No. {i+1} ===\")\n",
    "\n",
    "    result = coord.evaluate_all(res)\n",
    "\n",
    "    # extracting all variables needed\n",
    "    answer_recall.append(result[\"answer_quality\"][\"answer_recall\"])\n",
    "    answer_precision.append(result[\"answer_quality\"][\"answer_precision\"])\n",
    "    retrieval_recall.append(result[\"retrieval_quality\"][\"retrieval_recall\"])\n",
    "    retrieval_precision.append(result[\"retrieval_quality\"][\"retrieval_precision\"])\n"
   ]
  },
  {
   "cell_type": "code",
   "execution_count": 13,
   "id": "dc614d5c",
   "metadata": {},
   "outputs": [],
   "source": [
    "    # turn data into df for visualisation\n",
    "df_data_plain_rag = {\n",
    "     \"answer_recall\": answer_recall,\n",
    "     \"answer_precision\": answer_precision,\n",
    "     \"retrieval_recall\": retrieval_recall,\n",
    "     \"retrieval_precision\": retrieval_precision\n",
    "}\n",
    "\n",
    "df_plain_rag = pd.DataFrame(df_data_plain_rag)\n",
    "\n",
    "#print(df_plain_rag)\n",
    "\n",
    "df_plain_rag.to_csv(\"df_plain_rag.csv\", index=True)\n"
   ]
  },
  {
   "cell_type": "markdown",
   "id": "a9899664",
   "metadata": {},
   "source": [
    "# Visualize Results"
   ]
  },
  {
   "cell_type": "code",
   "execution_count": 22,
   "id": "18726c1e",
   "metadata": {},
   "outputs": [
    {
     "name": "stdout",
     "output_type": "stream",
     "text": [
      "       answer_recall  answer_precision  retrieval_recall  retrieval_precision  \\\n",
      "count      40.000000         40.000000         40.000000            40.000000   \n",
      "mean        0.587569          0.436889          0.524157             0.191593   \n",
      "std         0.410375          0.370961          0.398973             0.166539   \n",
      "min         0.000000          0.000000          0.000000             0.000000   \n",
      "25%         0.150000          0.160714          0.000000             0.000000   \n",
      "50%         0.669643          0.333333          0.550000             0.200000   \n",
      "75%         1.000000          0.818750          1.000000             0.289286   \n",
      "max         1.000000          1.000000          1.000000             0.666667   \n",
      "\n",
      "       total_tokens  question_id  name_4  query_4    top_k_0    top_k_1  \\\n",
      "count     40.000000    40.000000     0.0      0.0  40.000000  11.000000   \n",
      "mean    4435.775000    20.500000     NaN      NaN   5.625000   5.818182   \n",
      "std     3314.199478    11.690452     NaN      NaN   1.191584   2.315953   \n",
      "min     2065.000000     1.000000     NaN      NaN   3.000000   3.000000   \n",
      "25%     2776.250000    10.750000     NaN      NaN   5.000000   4.500000   \n",
      "50%     2990.000000    20.500000     NaN      NaN   6.000000   5.000000   \n",
      "75%     5067.250000    30.250000     NaN      NaN   6.000000   6.500000   \n",
      "max    15757.000000    40.000000     NaN      NaN   8.000000  10.000000   \n",
      "\n",
      "         top_k_2   top_k_3  top_k_4  \n",
      "count   5.000000  2.000000      0.0  \n",
      "mean    6.800000  5.000000      NaN  \n",
      "std     2.588436  2.828427      NaN  \n",
      "min     3.000000  3.000000      NaN  \n",
      "25%     6.000000  4.000000      NaN  \n",
      "50%     7.000000  5.000000      NaN  \n",
      "75%     8.000000  6.000000      NaN  \n",
      "max    10.000000  7.000000      NaN  \n"
     ]
    }
   ],
   "source": [
    "print(df_agentic_rag.describe())"
   ]
  },
  {
   "cell_type": "code",
   "execution_count": 21,
   "id": "56fe137a",
   "metadata": {},
   "outputs": [
    {
     "data": {
      "image/png": "[encoded data removed]",
      "text/plain": [
       "<Figure size 1200x800 with 4 Axes>"
      ]
     },
     "metadata": {},
     "output_type": "display_data"
    }
   ],
   "source": [
    "import matplotlib.pyplot as plt\n",
    "import pandas as pd\n",
    "\n",
    "# import data\n",
    "df_agentic_rag = pd.read_csv(\"df_agentic.csv\", index_col=False)\n",
    "df_plain_rag   = pd.read_csv(\"rag_runs/2025-09-09/df_plain_rag.csv\", index_col=False).drop(columns=[\"Unnamed: 0\"])\n",
    "\n",
    "columns = df_agentic_rag.columns[:4]\n",
    "\n",
    "fig, axes = plt.subplots(2, 2, figsize=(12, 8))\n",
    "\n",
    "for i, col in enumerate(columns):\n",
    "    ax = axes[i//2, i%2]\n",
    "\n",
    "    # sort both series by agentic metric value (descending)\n",
    "    order = df_agentic_rag[col].sort_values(ascending=False).index\n",
    "    agentic_sorted = df_agentic_rag.loc[order, col].reset_index(drop=True)\n",
    "    plain_sorted   = df_plain_rag.loc[order, col].reset_index(drop=True)\n",
    "\n",
    "    ax.plot(agentic_sorted.index, agentic_sorted, label=\"Agentic RAG\", alpha=0.7)\n",
    "    ax.plot(plain_sorted.index, plain_sorted, label=\"Normales RAG\", alpha=0.7)\n",
    "\n",
    "    ax.set_title(f\"{col} (sorted)\")\n",
    "    ax.set_xlabel(\"Fragen (nach Präzision sortiert)\")\n",
    "    ax.set_ylabel(\"Wert\")\n",
    "    ax.legend()\n",
    "\n",
    "plt.tight_layout()\n",
    "plt.show()\n",
    "\n"
   ]
  },
  {
   "cell_type": "markdown",
   "id": "0d875477",
   "metadata": {},
   "source": [
    "# Isolate Subset of Critical Questions\n",
    "Criteria: \n",
    "1) value in agentic_df is 0 \n",
    "2) value in agentic_df is smaller than plain_rag\n",
    "3) keep question_id"
   ]
  },
  {
   "cell_type": "code",
   "execution_count": 67,
   "id": "cda6f7ca",
   "metadata": {},
   "outputs": [],
   "source": [
    "# import data\n",
    "df_agentic_rag = pd.read_csv(\"rag_runs/2025-10-01/df_agentic.csv\", index_col=False)\n",
    "df_plain_rag   = pd.read_csv(\"rag_runs/2025-09-09/df_plain_rag.csv\", index_col=False).drop(columns=[\"Unnamed: 0\"])\n",
    "\n",
    "cols = df_agentic_rag.columns[:4]\n",
    "\n",
    "# elementwise comparison of selected columns\n",
    "# create true false mask: TRUE if value in agentic_df == 0 (.eq(0)) or less than in df_plain_rag (.lt(df_plain_rag))\n",
    "mask = (df_agentic[cols].eq(0)) | (df_agentic[cols].lt(df_plain_rag[cols]))\n",
    "\n",
    "df_problem_questions_total = df_agentic.loc[mask.any(axis=1)]\n",
    "\n",
    "\n",
    "# subsets for each metric \n",
    "metrics = [\"answer_recall\", \"answer_precision\", \"retrieval_recall\", \"retrieval_precision\"]\n",
    "\n",
    "problem_rows = {}\n",
    "for m in metrics:\n",
    "    mask = df_agentic[m].eq(0) | df_agentic[m].lt(df_plain_rag[m])  # Series[bool]\n",
    "    problem_rows[m] = df_agentic.loc[mask, [\"question_id\", m]].reset_index(drop=True)\n",
    "\n"
   ]
  },
  {
   "cell_type": "code",
   "execution_count": 69,
   "id": "c02cb613",
   "metadata": {},
   "outputs": [
    {
     "data": {
      "application/vnd.microsoft.datawrangler.viewer.v0+json": {
       "columns": [
        {
         "name": "index",
         "rawType": "int64",
         "type": "integer"
        },
        {
         "name": "question_id",
         "rawType": "int64",
         "type": "integer"
        }
       ],
       "ref": "98c69930-d53b-4309-bb4d-e924659c2c0c",
       "rows": [
        [
         "0",
         "1"
        ],
        [
         "1",
         "2"
        ],
        [
         "2",
         "3"
        ],
        [
         "3",
         "4"
        ],
        [
         "4",
         "6"
        ],
        [
         "5",
         "11"
        ],
        [
         "6",
         "12"
        ],
        [
         "7",
         "16"
        ],
        [
         "8",
         "17"
        ],
        [
         "9",
         "18"
        ],
        [
         "10",
         "19"
        ],
        [
         "11",
         "20"
        ],
        [
         "12",
         "21"
        ],
        [
         "13",
         "24"
        ],
        [
         "14",
         "27"
        ],
        [
         "15",
         "28"
        ],
        [
         "16",
         "29"
        ],
        [
         "17",
         "30"
        ],
        [
         "18",
         "38"
        ]
       ],
       "shape": {
        "columns": 1,
        "rows": 19
       }
      },
      "text/plain": [
       "0      1\n",
       "1      2\n",
       "2      3\n",
       "3      4\n",
       "4      6\n",
       "5     11\n",
       "6     12\n",
       "7     16\n",
       "8     17\n",
       "9     18\n",
       "10    19\n",
       "11    20\n",
       "12    21\n",
       "13    24\n",
       "14    27\n",
       "15    28\n",
       "16    29\n",
       "17    30\n",
       "18    38\n",
       "Name: question_id, dtype: int64"
      ]
     },
     "execution_count": 69,
     "metadata": {},
     "output_type": "execute_result"
    }
   ],
   "source": [
    "# extract question-ids\n",
    "problem_rows[\"answer_recall\"].question_id\n",
    "\n"
   ]
  },
  {
   "cell_type": "code",
   "execution_count": null,
   "id": "52878a17",
   "metadata": {},
   "outputs": [],
   "source": [
    "out = []\n",
    "\n",
    "for k, v in problem_rows.items():\n",
    "    out.append(v.question_id)\n",
    "\n",
    "# aligning question ID with the indeces of question and gt from the JSON \n",
    "for item in out: \n",
    "    item = [i-1 for i in item]\n",
    "\n",
    "\n",
    "answer_recall_ids = out[0]\n",
    "answer_precision_ids = out[1]\n",
    "retrieval_recall_ids = out[2]\n",
    "retrieval_precision_ids = out[3]"
   ]
  },
  {
   "cell_type": "code",
   "execution_count": 85,
   "id": "2655b010",
   "metadata": {},
   "outputs": [],
   "source": [
    "# little helper to speed things up \n",
    "def extract_problem_q_gt(id_list: list, queries: list, gts: list) -> tuple[list, list]:\n",
    "    problem_queries = []\n",
    "    problem_gts = []\n",
    "\n",
    "    for index in id_list:\n",
    "        problem_queries.append(queries[index]) \n",
    "        problem_gts.append(gts[index])\n",
    "\n",
    "    return problem_queries, problem_gts\n"
   ]
  },
  {
   "cell_type": "code",
   "execution_count": 86,
   "id": "febf3e83",
   "metadata": {},
   "outputs": [],
   "source": [
    "# form question-ground truth subsets\n",
    "from rag_eval.helpers import query_gt_extractor\n",
    "queries, gts = query_gt_extractor(path=\"data/agent_eval_questions.json\", tokenize=False)\n",
    "\n",
    "\n",
    "problem_queries_answer_recall, problem_gts_answer_recall = extract_problem_q_gt(answer_recall_ids, queries=queries, gts=gts)\n",
    "problem_queries_answer_precision, problem_gts_answer_precision = extract_problem_q_gt(answer_precision_ids, queries=queries, gts=gts)\n",
    "problem_queries_retrieval_recall, problem_gts_retrieval_recall = extract_problem_q_gt(retrieval_recall_ids, queries=queries, gts=gts)\n",
    "problem_queries_retrieval_precision, problem_gts_retrieval_precision = extract_problem_q_gt(retrieval_precision_ids, queries=queries, gts=gts)\n",
    "\n",
    "\n"
   ]
  },
  {
   "cell_type": "code",
   "execution_count": null,
   "id": "c6d5065a",
   "metadata": {},
   "outputs": [
    {
     "data": {
      "text/plain": [
       "[\"Risotto gibt es bei Anton's Pizza (z. B. ai Funghi 11,50 €, Meeresfrüchte 14,00 €) und bei Il sogno de Anton (al Tartufo Nero 28,00 €). Damit ist das günstigste Risotto 11,50 € (Anton’s), das teuerste 28,00 € (Il sogno). \",\n",
       " \"UNESCO 2010: das 'Gastronomische Mahl der Franzosen' (immaterielles Kulturerbe) und die mexikanische Küche (als erste Küche überhaupt immaterielles Kulturerbe). Beide 2010, aber unterschiedliche Gegenstände der Würdigung. \",\n",
       " \"Mexikos 'heilige Fünf': Mais, Bohnen, Chili (u. a.); Italiens Grundpfeiler: z. B. Pizza und Pasta/Olivenöl-Wein-Getreide-Tradition. \",\n",
       " 'Prosecco (Il sogno de Anton) 50,00 € (0,75 l) vs. Vin Rouge Français (Chez Anton) 18,00 € (0,75 l) — Prosecco deutlich teurer. ',\n",
       " 'Tönis Tacos bietet u. a. Carne Asada, Pollo, Veggie, Fish Tacos; allen gemeinsam ist das Grundelement Tortilla/Mais aus der mexikanischen Küchenbeschreibung. ',\n",
       " 'Typische italienische Desserts: Tiramisù und Panna Cotta; beide stehen bei Il sogno de Anton (Tiramisù 12,00 €, Panna Cotta 11,00 €). ',\n",
       " 'Anton’s: Mineralwasser 0,5 l für 2,50 €; Chez Anton: Eau minérale 0,5 l für 2,50 €; Il sogno de Anton: Acqua Minerale 0,75 l für 5,00 €. ',\n",
       " 'Provence: Olivenöl, Kräuter, mediterranes Gemüse; Norditalien: Butter, Sahne und Reis (Risotto) dominieren. ',\n",
       " 'Heißgetränke: Espresso bei Anton’s (2,00 €), Chez Anton (2,00 €), Il sogno (3,50 €); Cappuccino bei Anton’s (3,00 €) und Chez Anton (3,00 €); Café de Olla bei Tönis (3,00 €). ',\n",
       " \"Ratatouille als provenzalische Gemüsespeise wird beschrieben und steht bei Chez Anton als 'Ratatouille de la Meute' für 12,00 € auf der Karte. \",\n",
       " 'Ja: Panna Cotta ist im italienischen Porträt ein typisches Dessert und steht bei Il sogno de Anton für 11,00 € auf der Karte. ',\n",
       " 'Die Pizza Margherita bei Anton’s (Tomate, Mozzarella, Basilikum) illustriert die Einfachheit/Tradition der italienischen Küche und die Pizza-Herkunft aus Neapel. ',\n",
       " \"Chez Anton listet 'Soupe du Terrier' (hausgemachte Suppe); im italienischen Porträt wird 'Ribollita' (Brotsuppe) als Beispiel der 'cucina povera' genannt — beide verweisen auf einfache, traditionelle Suppenküche. \",\n",
       " 'Der Negroni wird dem Land Italien zugeordnet; das Italien-Länderdokument unterstreicht Italiens kulturellen Einfluss (Renaissance, Dolce Vita), der auch in Getränkekultur sichtbar ist. ',\n",
       " \"Mozzarella di Bufala ist zentral für 'Insalata Caprese Bufalo & Bau' bei Il sogno; im italienischen Porträt wird Mozzarella di Bufala als wichtiger Käse erwähnt. \",\n",
       " 'Mais, Bohnen, Chili, Kürbis, Kakao. :contentReference[oaicite:32]{index=32}',\n",
       " 'Seit 2010. :contentReference[oaicite:38]{index=38}',\n",
       " 'Beispiel: Carne Asada Taco 3,50 € und Classic Burrito 8,00 €. :contentReference[oaicite:39]{index=39}']"
      ]
     },
     "execution_count": 95,
     "metadata": {},
     "output_type": "execute_result"
    },
    {
     "ename": "",
     "evalue": "",
     "output_type": "error",
     "traceback": [
      "\u001b[1;31mThe Kernel crashed while executing code in the current cell or a previous cell. \n",
      "\u001b[1;31mPlease review the code in the cell(s) to identify a possible cause of the failure. \n",
      "\u001b[1;31mClick <a href='https://aka.ms/vscodeJupyterKernelCrash'>here</a> for more info. \n",
      "\u001b[1;31mView Jupyter <a href='command:jupyter.viewOutput'>log</a> for further details."
     ]
    }
   ],
   "source": [
    "problem_gts_retrieval_recall"
   ]
  }
 ],
 "metadata": {
  "kernelspec": {
   "display_name": ".venv (3.11.9)",
   "language": "python",
   "name": "python3"
  },
  "language_info": {
   "codemirror_mode": {
    "name": "ipython",
    "version": 3
   },
   "file_extension": ".py",
   "mimetype": "text/x-python",
   "name": "python",
   "nbconvert_exporter": "python",
   "pygments_lexer": "ipython3",
   "version": "3.11.9"
  }
 },
 "nbformat": 4,
 "nbformat_minor": 5
}
