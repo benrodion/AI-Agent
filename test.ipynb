{
 "cells": [
  {
   "cell_type": "markdown",
   "id": "6a4a4b70",
   "metadata": {},
   "source": [
    "# Demonstration RAG-Eval\n"
   ]
  },
  {
   "cell_type": "markdown",
   "id": "53f6b82e",
   "metadata": {},
   "source": [
    "Quick test: see if things work as planned"
   ]
  },
  {
   "cell_type": "code",
   "execution_count": 1,
   "id": "8062792d",
   "metadata": {},
   "outputs": [],
   "source": [
    "from rag_eval.protocol import LLMClient\n",
    "from rag_eval.client import AzureClient\n",
    "from rag_eval.components import ClaimExtractor, EntailmentJudge\n",
    "from rag_eval.data_models import EvalContainer, ClaimVerdict\n",
    "from rag_eval.evaluators import AnswerPrecisionEvaluator, RetrievalPrecisionEvaluator\n",
    "from rag_eval.coordinator import RAGEvaluator\n",
    "from rag_eval.helpers import _safe_json\n",
    "import json\n",
    "from data.rag_eval_samples import test_examples\n",
    "from openai import AzureOpenAI\n",
    "from dotenv import load_dotenv\n",
    "import os\n",
    "\n"
   ]
  },
  {
   "cell_type": "code",
   "execution_count": 2,
   "id": "d219b999",
   "metadata": {},
   "outputs": [],
   "source": [
    "\n",
    "api_key = os.getenv(\"OPENAI_API_KEY\")\n",
    "api_version = os.getenv(\"OPENAI_API_VERSION\")\n",
    "base_url = os.getenv(\"OPENAI_CHATCOMPLETIONS_URL\")\n",
    "model = os.getenv(\"OPENAI_DEPLOYMENT\")\n",
    "password = os.getenv(\"CORRECT_PASSWORD\")\n",
    "\n",
    "llm = AzureClient(\n",
    "    api_key=api_key,\n",
    "    api_version=api_version,\n",
    "    base_url=base_url,\n",
    "    model=model\n",
    ")\n"
   ]
  },
  {
   "cell_type": "code",
   "execution_count": 3,
   "id": "fc1246dd",
   "metadata": {},
   "outputs": [
    {
     "name": "stdout",
     "output_type": "stream",
     "text": [
      "EXAMPLE 1\n",
      "{\n",
      "  \"answer\": {\n",
      "    \"gt_claims\": [\n",
      "      \"Italy's capital is Rome.\",\n",
      "      \"Rome has about 2.8 million inhabitants in the city.\"\n",
      "    ],\n",
      "    \"gen_claims\": [\n",
      "      \"Italy's capital is Rome.\",\n",
      "      \"Rome has 4 million inhabitants.\"\n",
      "    ],\n",
      "    \"gt_claim_recall\": 0.5,\n",
      "    \"hallucination_precision\": 0.5,\n",
      "    \"gt_claim_verdicts\": [\n",
      "      {\n",
      "        \"claim\": \"Italy's capital is Rome.\",\n",
      "        \"verdict\": \"supported\",\n",
      "        \"rationale\": \"the evidence explicitly states that italy's capital is rome, which directly supports the claim. the additional information about the population does not contradict the claim about the capital city.\",\n",
      "        \"doc_indices\": null\n",
      "      },\n",
      "      {\n",
      "        \"claim\": \"Rome has about 2.8 million inhabitants in the city.\",\n",
      "        \"verdict\": \"contradicted\",\n",
      "        \"rationale\": \"the claim states that rome has about 2.8 million inhabitants, while the evidence states that rome has 4 million inhabitants. the numbers are not approximately equal, so the claim is contradicted by the evidence.\",\n",
      "        \"doc_indices\": null\n",
      "      }\n",
      "    ],\n",
      "    \"gen_claim_verdicts\": [\n",
      "      {\n",
      "        \"claim\": \"Italy's capital is Rome.\",\n",
      "        \"verdict\": \"supported\",\n",
      "        \"rationale\": \"the evidence explicitly states that italy's capital is rome, which directly supports the claim.\",\n",
      "        \"doc_indices\": null\n",
      "      },\n",
      "      {\n",
      "        \"claim\": \"Rome has 4 million inhabitants.\",\n",
      "        \"verdict\": \"contradicted\",\n",
      "        \"rationale\": \"the evidence states that rome has about 2.8 million inhabitants in the city, which is significantly less than the claimed 4 million. therefore, the claim is contradicted by the evidence.\",\n",
      "        \"doc_indices\": null\n",
      "      }\n",
      "    ]\n",
      "  },\n",
      "  \"retrieval\": {\n",
      "    \"gt_claims\": [\n",
      "      \"Italy's capital is Rome.\",\n",
      "      \"Rome has about 2.8 million inhabitants in the city.\"\n",
      "    ],\n",
      "    \"evidence_coverage\": 1.0,\n",
      "    \"doc_precision\": 1.0,\n",
      "    \"relevant_docs\": 2,\n",
      "    \"n_docs\": 2,\n",
      "    \"pooled_claim_verdicts\": [\n",
      "      {\n",
      "        \"claim\": \"Italy's capital is Rome.\",\n",
      "        \"verdict\": \"supported\",\n",
      "        \"rationale\": \"the evidence explicitly states that rome is the capital city of italy, which directly supports the claim that italy's capital is rome.\",\n",
      "        \"doc_indices\": null\n",
      "      },\n",
      "      {\n",
      "        \"claim\": \"Rome has about 2.8 million inhabitants in the city.\",\n",
      "        \"verdict\": \"supported\",\n",
      "        \"rationale\": \"the evidence states that the population of the comune di roma is approximately 2.8 million, which matches the claim that rome has about 2.8 million inhabitants in the city.\",\n",
      "        \"doc_indices\": null\n",
      "      }\n",
      "    ],\n",
      "    \"claim_supported_by_docs\": [\n",
      "      [\n",
      "        0\n",
      "      ],\n",
      "      [\n",
      "        1\n",
      "      ]\n",
      "    ]\n",
      "  }\n",
      "}\n",
      "EXAMPLE 2\n",
      "{\n",
      "  \"answer\": {\n",
      "    \"gt_claims\": [\n",
      "      \"The Hobbit was written by J.R.R. Tolkien.\"\n",
      "    ],\n",
      "    \"gen_claims\": [\n",
      "      \"The Hobbit was written by J.R.R. Tolkien.\",\n",
      "      \"The Hobbit was written in 1937.\"\n",
      "    ],\n",
      "    \"gt_claim_recall\": 1.0,\n",
      "    \"hallucination_precision\": 0.5,\n",
      "    \"gt_claim_verdicts\": [\n",
      "      {\n",
      "        \"claim\": \"The Hobbit was written by J.R.R. Tolkien.\",\n",
      "        \"verdict\": \"supported\",\n",
      "        \"rationale\": \"the evidence explicitly states that the hobbit was written by j.r.r. tolkien, directly supporting the claim.\",\n",
      "        \"doc_indices\": null\n",
      "      }\n",
      "    ],\n",
      "    \"gen_claim_verdicts\": [\n",
      "      {\n",
      "        \"claim\": \"The Hobbit was written by J.R.R. Tolkien.\",\n",
      "        \"verdict\": \"supported\",\n",
      "        \"rationale\": \"the evidence explicitly states that the hobbit was written by j.r.r. tolkien, which directly supports the claim.\",\n",
      "        \"doc_indices\": null\n",
      "      },\n",
      "      {\n",
      "        \"claim\": \"The Hobbit was written in 1937.\",\n",
      "        \"verdict\": \"not_enough_info\",\n",
      "        \"rationale\": \"the evidence confirms that the hobbit was written by j.r.r. tolkien, but it does not provide any information about the year it was written. therefore, there is not enough information to verify the claim about the year 1937.\",\n",
      "        \"doc_indices\": null\n",
      "      }\n",
      "    ]\n",
      "  },\n",
      "  \"retrieval\": {\n",
      "    \"gt_claims\": [\n",
      "      \"The Hobbit was written by J.R.R. Tolkien.\"\n",
      "    ],\n",
      "    \"evidence_coverage\": 1.0,\n",
      "    \"doc_precision\": 0.5,\n",
      "    \"relevant_docs\": 1,\n",
      "    \"n_docs\": 2,\n",
      "    \"pooled_claim_verdicts\": [\n",
      "      {\n",
      "        \"claim\": \"The Hobbit was written by J.R.R. Tolkien.\",\n",
      "        \"verdict\": \"supported\",\n",
      "        \"rationale\": \"the evidence explicitly states that the hobbit is a fantasy novel by english author j.r.r. tolkien, directly supporting the claim that the hobbit was written by j.r.r. tolkien.\",\n",
      "        \"doc_indices\": null\n",
      "      }\n",
      "    ],\n",
      "    \"claim_supported_by_docs\": [\n",
      "      [\n",
      "        0\n",
      "      ]\n",
      "    ]\n",
      "  }\n",
      "}\n"
     ]
    }
   ],
   "source": [
    "coord = RAGEvaluator(llm_extractor=llm, llm_judge=llm)\n",
    "data = test_examples[0:2]\n",
    "\n",
    "\n",
    "for i, ex in enumerate(data, start=1):\n",
    "    print(f\"EXAMPLE {i}\")\n",
    "    results = coord.evaluate_all(ex)\n",
    "    print(json.dumps(results, indent=2))"
   ]
  },
  {
   "cell_type": "markdown",
   "id": "606f2b49",
   "metadata": {},
   "source": [
    "# Test Agent\n"
   ]
  },
  {
   "cell_type": "code",
   "execution_count": 11,
   "id": "85573d4d",
   "metadata": {},
   "outputs": [],
   "source": [
    "# force reload of agent-script after changes \n",
    "import importlib, inspect, agent.main as main\n",
    "\n",
    "#print(\"Module file:\", main.__file__)      \n",
    "main = importlib.reload(main)               # force reload the module\n",
    "#print(\"Reloaded file:\", main.__file__)\n",
    "\n",
    "# show the exact source Python is executing\n",
    "#print(inspect.getsource(main.food_agent))"
   ]
  },
  {
   "cell_type": "code",
   "execution_count": 12,
   "id": "fb42f1f6",
   "metadata": {},
   "outputs": [],
   "source": [
    "# load agent and pipeline for indexing docs\n",
    "import agent.main as main\n",
    "from rag.indexing import pdf_files, index_pipeline"
   ]
  },
  {
   "cell_type": "code",
   "execution_count": 6,
   "id": "defa792f",
   "metadata": {},
   "outputs": [
    {
     "name": "stderr",
     "output_type": "stream",
     "text": [
      "incorrect startxref pointer(1)\n",
      "parsing for Object Streams\n",
      "incorrect startxref pointer(1)\n",
      "parsing for Object Streams\n",
      "incorrect startxref pointer(1)\n",
      "parsing for Object Streams\n",
      "incorrect startxref pointer(1)\n",
      "parsing for Object Streams\n",
      "incorrect startxref pointer(1)\n",
      "parsing for Object Streams\n",
      "incorrect startxref pointer(1)\n",
      "parsing for Object Streams\n",
      "incorrect startxref pointer(1)\n",
      "parsing for Object Streams\n",
      "Batches: 100%|██████████| 2/2 [00:01<00:00,  1.33it/s]\n"
     ]
    },
    {
     "data": {
      "text/plain": [
       "{'writer': {'documents_written': 51}}"
      ]
     },
     "execution_count": 6,
     "metadata": {},
     "output_type": "execute_result"
    }
   ],
   "source": [
    "index_pipeline.run({\"converter\": {\"sources\": pdf_files}})\n"
   ]
  },
  {
   "cell_type": "code",
   "execution_count": 15,
   "id": "3d45b9c3",
   "metadata": {},
   "outputs": [
    {
     "name": "stdout",
     "output_type": "stream",
     "text": [
      "Goodbye 🍕\n"
     ]
    }
   ],
   "source": [
    "main.food_agent(\"hi\")"
   ]
  },
  {
   "cell_type": "code",
   "execution_count": 5,
   "id": "d1aca0ce",
   "metadata": {},
   "outputs": [
    {
     "name": "stdout",
     "output_type": "stream",
     "text": [
      "[WindowsPath('C:/Users/ANDERBE/AI-Agent-POC-git/AI-Agent/data/RAG_docs/Antons_Pizza_Doggish_Delights_Menu_reportlab.pdf'), WindowsPath('C:/Users/ANDERBE/AI-Agent-POC-git/AI-Agent/data/RAG_docs/Chez_Anton_Menu_Français_Classic_reportlab.pdf'), WindowsPath('C:/Users/ANDERBE/AI-Agent-POC-git/AI-Agent/data/RAG_docs/cocktail_info_voll.pdf'), WindowsPath('C:/Users/ANDERBE/AI-Agent-POC-git/AI-Agent/data/RAG_docs/frankreich_info_voll.pdf'), WindowsPath('C:/Users/ANDERBE/AI-Agent-POC-git/AI-Agent/data/RAG_docs/franzoesisch_kueche_endversion.pdf'), WindowsPath('C:/Users/ANDERBE/AI-Agent-POC-git/AI-Agent/data/RAG_docs/Il_Sogno_de_Anton_Menu_Doggish_reportlab.pdf'), WindowsPath('C:/Users/ANDERBE/AI-Agent-POC-git/AI-Agent/data/RAG_docs/italienisch_kueche_endversion.pdf'), WindowsPath('C:/Users/ANDERBE/AI-Agent-POC-git/AI-Agent/data/RAG_docs/italien_info_voll.pdf'), WindowsPath('C:/Users/ANDERBE/AI-Agent-POC-git/AI-Agent/data/RAG_docs/mexikanisch_kueche_endversion.pdf'), WindowsPath('C:/Users/ANDERBE/AI-Agent-POC-git/AI-Agent/data/RAG_docs/Toenis_Tacos_Menu_reportlab.pdf')]\n"
     ]
    }
   ],
   "source": [
    "print(pdf_files)"
   ]
  }
 ],
 "metadata": {
  "kernelspec": {
   "display_name": ".venv (3.11.9)",
   "language": "python",
   "name": "python3"
  },
  "language_info": {
   "codemirror_mode": {
    "name": "ipython",
    "version": 3
   },
   "file_extension": ".py",
   "mimetype": "text/x-python",
   "name": "python",
   "nbconvert_exporter": "python",
   "pygments_lexer": "ipython3",
   "version": "3.11.9"
  }
 },
 "nbformat": 4,
 "nbformat_minor": 5
}
